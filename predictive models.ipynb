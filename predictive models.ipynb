{
 "cells": [
  {
   "cell_type": "markdown",
   "metadata": {},
   "source": [
    "# Summary\n",
    "\n",
    "I will start with linear regression as base model. \n",
    "\n",
    "+ I add quantitative features incrementally to see their impact on prediction perf\n",
    "+ I will also figure out what is the best perf of a linear model\n",
    "\n",
    "Then we will switch to ensemble models:\n",
    "+ random forest\n",
    "+ tune hyperparams of RF to achieve a better model. \n",
    "+ finally, I will try XGBoost."
   ]
  },
  {
   "cell_type": "markdown",
   "metadata": {},
   "source": [
    "We will pick features based on analysis from EDA notebook."
   ]
  },
  {
   "cell_type": "code",
   "execution_count": 1,
   "metadata": {},
   "outputs": [],
   "source": [
    "import pandas as pd\n",
    "import numpy as np\n",
    "import matplotlib.pyplot as plt\n",
    "import seaborn as sns\n",
    "import os\n",
    "\n",
    "from sklearn.linear_model import LinearRegression, RidgeCV, LassoCV\n",
    "from sklearn.ensemble import RandomForestRegressor\n",
    "from sklearn.metrics import  mean_absolute_error, mean_squared_error\n",
    "from sklearn.model_selection import GridSearchCV, train_test_split, RandomizedSearchCV"
   ]
  },
  {
   "cell_type": "code",
   "execution_count": 2,
   "metadata": {
    "code_folding": [
     0
    ]
   },
   "outputs": [
    {
     "name": "stdout",
     "output_type": "stream",
     "text": [
      "(1460, 81)\n",
      "(1459, 80)\n"
     ]
    }
   ],
   "source": [
    "# folder = '/kaggle/input/house-prices-advanced-regression-techniques/'\n",
    "folder = 'data'\n",
    "\n",
    "train = pd.read_csv(os.path.join(folder, 'train.csv'))\n",
    "test = pd.read_csv(os.path.join(folder, 'test.csv'))\n",
    "\n",
    "print(train.shape)\n",
    "print(test.shape)"
   ]
  },
  {
   "cell_type": "code",
   "execution_count": 3,
   "metadata": {},
   "outputs": [
    {
     "name": "stdout",
     "output_type": "stream",
     "text": [
      "(2919, 81)\n"
     ]
    }
   ],
   "source": [
    "# concat train and test sets st we always perform transformation on both sets\n",
    "test['SalePrice'] = 0\n",
    "data = pd.concat([train, test])\n",
    "\n",
    "print(data.shape)\n",
    "\n",
    "# lowercase all column names for convenience\n",
    "data.columns = [str.lower(cc) for cc in data.columns]\n",
    "\n",
    "# sale price per square feet is also interested\n",
    "data['sale_price_per_sf'] = data['saleprice'] / data['grlivarea']"
   ]
  },
  {
   "cell_type": "markdown",
   "metadata": {},
   "source": [
    "There are two approaches:\n",
    "+ predict directly sale price\n",
    "+ predict price per SF, then multiply with living area to estimate sale price\n",
    "\n",
    "I plan to try both, but first we need some helpers."
   ]
  },
  {
   "cell_type": "markdown",
   "metadata": {},
   "source": [
    "## Helper methods"
   ]
  },
  {
   "cell_type": "code",
   "execution_count": 4,
   "metadata": {},
   "outputs": [],
   "source": [
    "def cal_age_from_built(row):\n",
    "    return row['yrsold'] - row['yearbuilt']\n",
    "\n",
    "def cal_age_from_remodel(row):\n",
    "    return row['yrsold'] - row['yearremodadd']\n",
    "\n",
    "\n",
    "def fold_zone_type(ms_zone):\n",
    "    if ms_zone in ['FV', 'RH', 'C (all)']:\n",
    "        return 'Other'\n",
    "    else:\n",
    "        return ms_zone\n",
    "#         return {'RL': 'Residential Low Density'.lower() , \n",
    "#                 'RM': 'Residential Medium Density'.lower(),\n",
    "#                 None: 'NA'\n",
    "#                }[ms_zone]    \n",
    "\n",
    "def to_adjacency(cond):\n",
    "    if 'RR' in cond:\n",
    "        return 'Railroad'\n",
    "    if 'Pos' in cond:\n",
    "        return 'Positive feature'\n",
    "    return {\n",
    "        'Artery': 'Arterial street',\n",
    "        'Feedr': 'Feeder street',\n",
    "        'Norm': 'Normal'    \n",
    "        }[cond]"
   ]
  },
  {
   "cell_type": "code",
   "execution_count": 159,
   "metadata": {
    "code_folding": [
     12
    ]
   },
   "outputs": [],
   "source": [
    "def onehot_encode(cat_feat, data, dummy_na=False):\n",
    "    # given a categorical column,\n",
    "    # perform onehot encode and return encoded DF together with names of new binary columns\n",
    "    categories = data[cat_feat].unique()\n",
    "    print('there are', len(categories), 'categories as follows:')\n",
    "    print(categories)\n",
    "    \n",
    "    encoded = pd.get_dummies(data[cat_feat], prefix=cat_feat, dummy_na=dummy_na)\n",
    "    res = pd.concat([data.drop(columns=[cat_feat]), encoded], axis='columns')\n",
    "    new_feat_names = ['_'.join([cat_feat, cc]) for cc in categories]\n",
    "    return res, new_feat_names\n",
    "\n",
    "def encode_cat_feats(data, cat_feats, dummy_na=False):\n",
    "    print('Onehot encode categorical features: ', cat_feats)\n",
    "\n",
    "    encoded_df = data.copy()\n",
    "    # encode 1 cat feature at a time\n",
    "    for cf in cat_feats:\n",
    "        encoded_df, _ = onehot_encode(cf, encoded_df, dummy_na=dummy_na)\n",
    "\n",
    "    return encoded_df"
   ]
  },
  {
   "cell_type": "code",
   "execution_count": 6,
   "metadata": {
    "code_folding": [
     0,
     3,
     6,
     14
    ]
   },
   "outputs": [],
   "source": [
    "def list_numeric_columns(data):\n",
    "    return list(data.columns[np.where(data.dtypes != 'object')])\n",
    "\n",
    "def list_string_columns(data):\n",
    "    return list(data.columns[np.where(data.dtypes == 'object')])\n",
    "\n",
    "def split_train_valid(data, target):\n",
    "    y = data.pop(target)\n",
    "    X = data\n",
    "    X_train, X_valid, y_train, y_valid = train_test_split(X, y, test_size=.1, \n",
    "                                                          random_state=1\n",
    "                                                         )\n",
    "    return X_train, X_valid, y_train, y_valid\n",
    "\n",
    "def check_na(data):\n",
    "    # check if any NA left\n",
    "    na_count = [sum(data[ff].isnull()) for ff in data.columns]\n",
    "    return pd.DataFrame({'column': data.columns, 'na_count': na_count}).\\\n",
    "              query('na_count > 0')   "
   ]
  },
  {
   "cell_type": "code",
   "execution_count": 7,
   "metadata": {},
   "outputs": [],
   "source": [
    "def to_quantitative(text_feat, df, scoring):\n",
    "    '''\n",
    "    Given a feature stored in data as text but actually a quantitative feat, convert it to numerical values\n",
    "    via given encoding\n",
    "    :param scoring:\n",
    "    :param text_feat:\n",
    "    :return:\n",
    "    '''\n",
    "    n_na = sum(df[text_feat].isnull())\n",
    "    print('\\t Feature {0} has {1} NAs, they will be filled by 0'.format(text_feat, n_na))\n",
    "\n",
    "    res = df.copy()\n",
    "    res[text_feat].fillna(\"NA\", inplace=True)\n",
    "    res[text_feat] = res[text_feat].apply(lambda form: scoring[form])\n",
    "    return res\n",
    "\n",
    "def quant_to_scores(quant_feats, data, scorings):\n",
    "    print('\\n Converting quantitative text features to scores...')\n",
    "    score_dict = dict(zip(quant_feats, scorings))\n",
    "    \n",
    "    for tf in quant_feats:  \n",
    "        data = to_quantitative(text_feat=tf, df=data, scoring=score_dict[tf])\n",
    "\n",
    "    return data"
   ]
  },
  {
   "cell_type": "code",
   "execution_count": 8,
   "metadata": {},
   "outputs": [],
   "source": [
    "def make_output(y_pred):\n",
    "    test_index = range(len(train_part) + 1, len(data) + 1)\n",
    "    return pd.DataFrame({'Id': test_index, 'SalePrice': y_pred})"
   ]
  },
  {
   "cell_type": "code",
   "execution_count": 14,
   "metadata": {},
   "outputs": [],
   "source": [
    "def get_train_tests(data, target):\n",
    "    train_part = data.loc[data[target] > 0]\n",
    "    test_part = data.loc[data[target] == 0]\n",
    "    return train_part, test_part"
   ]
  },
  {
   "cell_type": "markdown",
   "metadata": {
    "heading_collapsed": true
   },
   "source": [
    "## Define target"
   ]
  },
  {
   "cell_type": "code",
   "execution_count": null,
   "metadata": {
    "hidden": true
   },
   "outputs": [],
   "source": [
    "target = 'saleprice'\n",
    "y_train = data.loc[data[target] > 0][target]"
   ]
  },
  {
   "cell_type": "markdown",
   "metadata": {},
   "source": [
    "## Preprocessing"
   ]
  },
  {
   "cell_type": "markdown",
   "metadata": {},
   "source": [
    "### Handle missing values"
   ]
  },
  {
   "cell_type": "code",
   "execution_count": 58,
   "metadata": {
    "collapsed": true
   },
   "outputs": [
    {
     "name": "stdout",
     "output_type": "stream",
     "text": [
      "         column  na_count\n",
      "0   lotfrontage       486\n",
      "1   garageyrblt       159\n",
      "2    masvnrarea        23\n",
      "3  bsmtfullbath         2\n",
      "4  bsmthalfbath         2\n",
      "5    bsmtfinsf1         1\n",
      "6    bsmtfinsf2         1\n",
      "7    garagecars         1\n",
      "8    garagearea         1\n"
     ]
    }
   ],
   "source": [
    "num_vars = list_numeric_columns(data)\n",
    "na_checker = check_na(data[num_vars] ).sort_values('na_count', ascending=False).\\\n",
    "    reset_index(drop=True)\n",
    "print(na_checker)"
   ]
  },
  {
   "cell_type": "markdown",
   "metadata": {},
   "source": [
    "Fill NAs in certain numeric vars by their means."
   ]
  },
  {
   "cell_type": "code",
   "execution_count": 59,
   "metadata": {},
   "outputs": [
    {
     "data": {
      "text/plain": [
       "array(['bsmtfullbath', 'bsmthalfbath', 'bsmtfinsf1', 'bsmtfinsf2',\n",
       "       'garagecars', 'garagearea'], dtype=object)"
      ]
     },
     "execution_count": 59,
     "metadata": {},
     "output_type": "execute_result"
    }
   ],
   "source": [
    "to_fill = na_checker['column'].values[3:]\n",
    "to_fill"
   ]
  },
  {
   "cell_type": "code",
   "execution_count": 60,
   "metadata": {
    "scrolled": true
   },
   "outputs": [],
   "source": [
    "data[to_fill] = data[to_fill].fillna(data[to_fill].mean())"
   ]
  },
  {
   "cell_type": "code",
   "execution_count": 92,
   "metadata": {},
   "outputs": [],
   "source": [
    "data['masvnrarea'].fillna(data['masvnrarea'].mean(), inplace=True)"
   ]
  },
  {
   "cell_type": "code",
   "execution_count": 93,
   "metadata": {},
   "outputs": [],
   "source": [
    "train_part, test_part = get_train_tests(data, target)"
   ]
  },
  {
   "cell_type": "markdown",
   "metadata": {},
   "source": [
    "TODO: Drop columns with lots of NAs."
   ]
  },
  {
   "cell_type": "code",
   "execution_count": 54,
   "metadata": {},
   "outputs": [],
   "source": [
    "# columns_with_lots_of_na = na_checker.head(11)['column']\n",
    "# print(columns_with_lots_of_na)\n",
    "# data = data.drop(columns=columns_with_lots_of_na)"
   ]
  },
  {
   "cell_type": "markdown",
   "metadata": {},
   "source": [
    "# Simple model\n",
    "LInear regressors with no derived features."
   ]
  },
  {
   "cell_type": "code",
   "execution_count": 87,
   "metadata": {},
   "outputs": [],
   "source": [
    "feats0 = ['overallqual',\n",
    "          'yearbuilt', 'mosold', 'yrsold', 'grlivarea', 'lotarea'\n",
    "         ]\n",
    "# overallcond"
   ]
  },
  {
   "cell_type": "code",
   "execution_count": null,
   "metadata": {},
   "outputs": [],
   "source": [
    "y_train = train_part[target]"
   ]
  },
  {
   "cell_type": "code",
   "execution_count": 27,
   "metadata": {},
   "outputs": [],
   "source": [
    "X_train = train_part[feats0]\n",
    "X_test = test_part[feats0]"
   ]
  },
  {
   "cell_type": "code",
   "execution_count": 28,
   "metadata": {},
   "outputs": [
    {
     "name": "stdout",
     "output_type": "stream",
     "text": [
      "score of linear regressor 0.7549179538671865\n",
      "score of ridge regressor 0.7549179538671865\n"
     ]
    }
   ],
   "source": [
    "lr = LinearRegression()\n",
    "lr.fit(X_train, y_train)\n",
    "print('score of linear regressor', lr.score(X_train, y_train))\n",
    "\n",
    "alphas = np.linspace(-3, 0, 4)\n",
    "ridge = RidgeCV(alphas=alphas, cv=5)\n",
    "ridge.fit(X_train, y_train)\n",
    "print('score of ridge regressor', ridge.score(X_train, y_train))"
   ]
  },
  {
   "cell_type": "markdown",
   "metadata": {},
   "source": [
    "Ridge and base linear regressors have same score. So we only need linear regressor."
   ]
  },
  {
   "cell_type": "markdown",
   "metadata": {},
   "source": [
    "## Numeric features"
   ]
  },
  {
   "cell_type": "code",
   "execution_count": 29,
   "metadata": {
    "scrolled": true
   },
   "outputs": [
    {
     "name": "stdout",
     "output_type": "stream",
     "text": [
      "['id', 'mssubclass', 'lotfrontage', 'lotarea', 'overallqual', 'overallcond', 'yearbuilt', 'yearremodadd', 'masvnrarea', 'bsmtfinsf1', 'bsmtfinsf2', 'bsmtunfsf', 'totalbsmtsf', '1stflrsf', '2ndflrsf', 'lowqualfinsf', 'grlivarea', 'bsmtfullbath', 'bsmthalfbath', 'fullbath', 'halfbath', 'bedroomabvgr', 'kitchenabvgr', 'totrmsabvgrd', 'fireplaces', 'garageyrblt', 'garagecars', 'garagearea', 'wooddecksf', 'openporchsf', 'enclosedporch', '3ssnporch', 'screenporch', 'poolarea', 'miscval', 'mosold', 'yrsold', 'saleprice', 'sale_price_in_thousand', 'sale_price_per_sf', 'total_bath']\n"
     ]
    }
   ],
   "source": [
    "num_cols = list_numeric_columns(data)\n",
    "print(num_cols)"
   ]
  },
  {
   "cell_type": "code",
   "execution_count": 31,
   "metadata": {
    "scrolled": true
   },
   "outputs": [
    {
     "data": {
      "text/html": [
       "<div>\n",
       "<style scoped>\n",
       "    .dataframe tbody tr th:only-of-type {\n",
       "        vertical-align: middle;\n",
       "    }\n",
       "\n",
       "    .dataframe tbody tr th {\n",
       "        vertical-align: top;\n",
       "    }\n",
       "\n",
       "    .dataframe thead th {\n",
       "        text-align: right;\n",
       "    }\n",
       "</style>\n",
       "<table border=\"1\" class=\"dataframe\">\n",
       "  <thead>\n",
       "    <tr style=\"text-align: right;\">\n",
       "      <th></th>\n",
       "      <th>column</th>\n",
       "      <th>na_count</th>\n",
       "    </tr>\n",
       "  </thead>\n",
       "  <tbody>\n",
       "    <tr>\n",
       "      <th>2</th>\n",
       "      <td>lotfrontage</td>\n",
       "      <td>486</td>\n",
       "    </tr>\n",
       "    <tr>\n",
       "      <th>25</th>\n",
       "      <td>garageyrblt</td>\n",
       "      <td>159</td>\n",
       "    </tr>\n",
       "    <tr>\n",
       "      <th>8</th>\n",
       "      <td>masvnrarea</td>\n",
       "      <td>23</td>\n",
       "    </tr>\n",
       "    <tr>\n",
       "      <th>17</th>\n",
       "      <td>bsmtfullbath</td>\n",
       "      <td>2</td>\n",
       "    </tr>\n",
       "    <tr>\n",
       "      <th>18</th>\n",
       "      <td>bsmthalfbath</td>\n",
       "      <td>2</td>\n",
       "    </tr>\n",
       "    <tr>\n",
       "      <th>9</th>\n",
       "      <td>bsmtfinsf1</td>\n",
       "      <td>1</td>\n",
       "    </tr>\n",
       "    <tr>\n",
       "      <th>10</th>\n",
       "      <td>bsmtfinsf2</td>\n",
       "      <td>1</td>\n",
       "    </tr>\n",
       "    <tr>\n",
       "      <th>26</th>\n",
       "      <td>garagecars</td>\n",
       "      <td>1</td>\n",
       "    </tr>\n",
       "    <tr>\n",
       "      <th>27</th>\n",
       "      <td>garagearea</td>\n",
       "      <td>1</td>\n",
       "    </tr>\n",
       "  </tbody>\n",
       "</table>\n",
       "</div>"
      ],
      "text/plain": [
       "          column  na_count\n",
       "2    lotfrontage       486\n",
       "25   garageyrblt       159\n",
       "8     masvnrarea        23\n",
       "17  bsmtfullbath         2\n",
       "18  bsmthalfbath         2\n",
       "9     bsmtfinsf1         1\n",
       "10    bsmtfinsf2         1\n",
       "26    garagecars         1\n",
       "27    garagearea         1"
      ]
     },
     "execution_count": 31,
     "metadata": {},
     "output_type": "execute_result"
    }
   ],
   "source": [
    "check_na(data[num_cols]).sort_values('na_count', ascending=False)"
   ]
  },
  {
   "cell_type": "code",
   "execution_count": 87,
   "metadata": {},
   "outputs": [],
   "source": [
    "feats0 = ['overallqual',\n",
    "          'yearbuilt', 'mosold', 'yrsold', 'grlivarea', 'lotarea'\n",
    "         ]\n",
    "# overallcond"
   ]
  },
  {
   "cell_type": "markdown",
   "metadata": {},
   "source": [
    "__note__: adding var \"overallcond\" pull down prediction perf a lot, so this var has problem."
   ]
  },
  {
   "cell_type": "code",
   "execution_count": 33,
   "metadata": {},
   "outputs": [],
   "source": [
    "lr = LinearRegression()"
   ]
  },
  {
   "cell_type": "code",
   "execution_count": 34,
   "metadata": {
    "code_folding": [
     0
    ]
   },
   "outputs": [],
   "source": [
    "# features for bathrooms, bedrooms\n",
    "room_feats = ['bedroomabvgr', 'fullbath', 'halfbath', 'total_bath',\n",
    "              'kitchenabvgr', 'totrmsabvgrd'\n",
    "             ]"
   ]
  },
  {
   "cell_type": "code",
   "execution_count": 35,
   "metadata": {},
   "outputs": [
    {
     "name": "stdout",
     "output_type": "stream",
     "text": [
      "score of linear regressor 0.7720398516396538\n"
     ]
    }
   ],
   "source": [
    "X_train = train_part[feats0 + room_feats]\n",
    "X_test = test_part[feats0 + room_feats]\n",
    "\n",
    "lr.fit(X_train, y_train)\n",
    "print('score of linear regressor', lr.score(X_train, y_train))"
   ]
  },
  {
   "cell_type": "code",
   "execution_count": 94,
   "metadata": {
    "code_folding": []
   },
   "outputs": [],
   "source": [
    "# area-related features\n",
    "area_feats = ['1stflrsf', '2ndflrsf', 'lowqualfinsf', 'masvnrarea']"
   ]
  },
  {
   "cell_type": "markdown",
   "metadata": {},
   "source": [
    "+ adding \"masvnrarea\" boost prediction a bit more"
   ]
  },
  {
   "cell_type": "code",
   "execution_count": 50,
   "metadata": {
    "scrolled": true
   },
   "outputs": [
    {
     "name": "stdout",
     "output_type": "stream",
     "text": [
      "score of linear regressor 0.7821831282428001\n"
     ]
    }
   ],
   "source": [
    "X_train = train_part[feats0 + room_feats + area_feats]\n",
    "X_test = test_part[feats0 + room_feats + area_feats]\n",
    "\n",
    "lr.fit(X_train, y_train)\n",
    "print('score of linear regressor', lr.score(X_train, y_train))"
   ]
  },
  {
   "cell_type": "code",
   "execution_count": 101,
   "metadata": {},
   "outputs": [
    {
     "data": {
      "text/html": [
       "<div>\n",
       "<style scoped>\n",
       "    .dataframe tbody tr th:only-of-type {\n",
       "        vertical-align: middle;\n",
       "    }\n",
       "\n",
       "    .dataframe tbody tr th {\n",
       "        vertical-align: top;\n",
       "    }\n",
       "\n",
       "    .dataframe thead th {\n",
       "        text-align: right;\n",
       "    }\n",
       "</style>\n",
       "<table border=\"1\" class=\"dataframe\">\n",
       "  <thead>\n",
       "    <tr style=\"text-align: right;\">\n",
       "      <th></th>\n",
       "      <th>column</th>\n",
       "      <th>na_count</th>\n",
       "    </tr>\n",
       "  </thead>\n",
       "  <tbody>\n",
       "  </tbody>\n",
       "</table>\n",
       "</div>"
      ],
      "text/plain": [
       "Empty DataFrame\n",
       "Columns: [column, na_count]\n",
       "Index: []"
      ]
     },
     "execution_count": 101,
     "metadata": {},
     "output_type": "execute_result"
    }
   ],
   "source": [
    "check_na(data[['bsmtfinsf1', 'bsmtunfsf',]])"
   ]
  },
  {
   "cell_type": "code",
   "execution_count": 108,
   "metadata": {
    "code_folding": []
   },
   "outputs": [],
   "source": [
    "# basement features\n",
    "# a potential feature is ratio between unfinished basement area and total area\n",
    "\n",
    "# data['bsmt_unfinished_ratio'] = data['bsmtunfsf'] / data['totalbsmtsf']\n",
    "bsmt_feats = [ 'totalbsmtsf', \n",
    "             ] \n",
    "# 'bsmtfullbath', 'bsmthalfbath',  \n",
    "# 'bsmtunfsf', 'bsmtfinsf2', 'bsmtfinsf1'"
   ]
  },
  {
   "cell_type": "code",
   "execution_count": 106,
   "metadata": {
    "scrolled": true
   },
   "outputs": [
    {
     "data": {
      "text/plain": [
       "0.7892"
      ]
     },
     "execution_count": 106,
     "metadata": {},
     "output_type": "execute_result"
    }
   ],
   "source": [
    "X_train = train_part[feats0 + room_feats  + bsmt_feats + area_feats]\n",
    "X_test = test_part[feats0 + room_feats  + bsmt_feats + area_feats]\n",
    "\n",
    "lr.fit(X_train, y_train)\n",
    "round(lr.score(X_train, y_train), 4)"
   ]
  },
  {
   "cell_type": "code",
   "execution_count": 107,
   "metadata": {},
   "outputs": [],
   "source": [
    "make_output(lr.predict(X_test)).to_csv('output/lin_res.csv', index=False)"
   ]
  },
  {
   "cell_type": "markdown",
   "metadata": {},
   "source": [
    "+ Adding \"bsmtunfsf\" and \"bsmtfinsf1\" helps reach better score on train, but pull down prediction perf on test set. This maybe overfitting.\n",
    "\n",
    "+ bsmt_unfinished_ratio has NA"
   ]
  },
  {
   "cell_type": "code",
   "execution_count": 109,
   "metadata": {},
   "outputs": [],
   "source": [
    "# garage feats\n",
    "gar_feats = [ 'garagecars', 'garagearea'] # garageyrblt: many NA"
   ]
  },
  {
   "cell_type": "code",
   "execution_count": 110,
   "metadata": {},
   "outputs": [],
   "source": [
    "X_train = train_part[feats0 + room_feats + area_feats + bsmt_feats + gar_feats]\n",
    "X_test = test_part[feats0 + room_feats + area_feats + bsmt_feats + gar_feats]"
   ]
  },
  {
   "cell_type": "code",
   "execution_count": 111,
   "metadata": {},
   "outputs": [
    {
     "data": {
      "text/html": [
       "<div>\n",
       "<style scoped>\n",
       "    .dataframe tbody tr th:only-of-type {\n",
       "        vertical-align: middle;\n",
       "    }\n",
       "\n",
       "    .dataframe tbody tr th {\n",
       "        vertical-align: top;\n",
       "    }\n",
       "\n",
       "    .dataframe thead th {\n",
       "        text-align: right;\n",
       "    }\n",
       "</style>\n",
       "<table border=\"1\" class=\"dataframe\">\n",
       "  <thead>\n",
       "    <tr style=\"text-align: right;\">\n",
       "      <th></th>\n",
       "      <th>column</th>\n",
       "      <th>na_count</th>\n",
       "    </tr>\n",
       "  </thead>\n",
       "  <tbody>\n",
       "  </tbody>\n",
       "</table>\n",
       "</div>"
      ],
      "text/plain": [
       "Empty DataFrame\n",
       "Columns: [column, na_count]\n",
       "Index: []"
      ]
     },
     "execution_count": 111,
     "metadata": {},
     "output_type": "execute_result"
    }
   ],
   "source": [
    "check_na(X_train)"
   ]
  },
  {
   "cell_type": "code",
   "execution_count": 112,
   "metadata": {},
   "outputs": [
    {
     "data": {
      "text/plain": [
       "0.7897"
      ]
     },
     "execution_count": 112,
     "metadata": {},
     "output_type": "execute_result"
    }
   ],
   "source": [
    "lr.fit(X_train, y_train)\n",
    "round(lr.score(X_train, y_train), 4)"
   ]
  },
  {
   "cell_type": "code",
   "execution_count": 113,
   "metadata": {},
   "outputs": [],
   "source": [
    "make_output(lr.predict(X_test)).to_csv('output/lin_res_2.csv', index=False)"
   ]
  },
  {
   "cell_type": "markdown",
   "metadata": {},
   "source": [
    "+ adding garage features not help"
   ]
  },
  {
   "cell_type": "markdown",
   "metadata": {},
   "source": [
    "## Add quantitative text features\n",
    "+ encode each such feature by a scale\n",
    "+ add the encoded feature to data"
   ]
  },
  {
   "cell_type": "code",
   "execution_count": 116,
   "metadata": {
    "code_folding": [
     0
    ]
   },
   "outputs": [],
   "source": [
    "quant_feats = ['utilities',\n",
    " 'exterqual',\n",
    " 'extercond',\n",
    " 'heatingqc',\n",
    " 'bsmtqual',\n",
    " 'bsmtcond',\n",
    " 'kitchenqual',\n",
    " 'bsmtexposure',\n",
    " 'bsmtfintype1'\n",
    "]"
   ]
  },
  {
   "cell_type": "code",
   "execution_count": 115,
   "metadata": {},
   "outputs": [
    {
     "data": {
      "text/html": [
       "<div>\n",
       "<style scoped>\n",
       "    .dataframe tbody tr th:only-of-type {\n",
       "        vertical-align: middle;\n",
       "    }\n",
       "\n",
       "    .dataframe tbody tr th {\n",
       "        vertical-align: top;\n",
       "    }\n",
       "\n",
       "    .dataframe thead th {\n",
       "        text-align: right;\n",
       "    }\n",
       "</style>\n",
       "<table border=\"1\" class=\"dataframe\">\n",
       "  <thead>\n",
       "    <tr style=\"text-align: right;\">\n",
       "      <th></th>\n",
       "      <th>utilities</th>\n",
       "      <th>exterqual</th>\n",
       "      <th>extercond</th>\n",
       "      <th>heatingqc</th>\n",
       "      <th>bsmtqual</th>\n",
       "      <th>bsmtcond</th>\n",
       "      <th>kitchenqual</th>\n",
       "      <th>bsmtexposure</th>\n",
       "      <th>bsmtfintype1</th>\n",
       "    </tr>\n",
       "  </thead>\n",
       "  <tbody>\n",
       "    <tr>\n",
       "      <th>count</th>\n",
       "      <td>2917</td>\n",
       "      <td>2919</td>\n",
       "      <td>2919</td>\n",
       "      <td>2919</td>\n",
       "      <td>2838</td>\n",
       "      <td>2837</td>\n",
       "      <td>2918</td>\n",
       "      <td>2837</td>\n",
       "      <td>2840</td>\n",
       "    </tr>\n",
       "    <tr>\n",
       "      <th>unique</th>\n",
       "      <td>2</td>\n",
       "      <td>4</td>\n",
       "      <td>5</td>\n",
       "      <td>5</td>\n",
       "      <td>4</td>\n",
       "      <td>4</td>\n",
       "      <td>4</td>\n",
       "      <td>4</td>\n",
       "      <td>6</td>\n",
       "    </tr>\n",
       "    <tr>\n",
       "      <th>top</th>\n",
       "      <td>AllPub</td>\n",
       "      <td>TA</td>\n",
       "      <td>TA</td>\n",
       "      <td>Ex</td>\n",
       "      <td>TA</td>\n",
       "      <td>TA</td>\n",
       "      <td>TA</td>\n",
       "      <td>No</td>\n",
       "      <td>Unf</td>\n",
       "    </tr>\n",
       "    <tr>\n",
       "      <th>freq</th>\n",
       "      <td>2916</td>\n",
       "      <td>1798</td>\n",
       "      <td>2538</td>\n",
       "      <td>1493</td>\n",
       "      <td>1283</td>\n",
       "      <td>2606</td>\n",
       "      <td>1492</td>\n",
       "      <td>1904</td>\n",
       "      <td>851</td>\n",
       "    </tr>\n",
       "  </tbody>\n",
       "</table>\n",
       "</div>"
      ],
      "text/plain": [
       "       utilities exterqual extercond heatingqc bsmtqual bsmtcond kitchenqual  \\\n",
       "count       2917      2919      2919      2919     2838     2837        2918   \n",
       "unique         2         4         5         5        4        4           4   \n",
       "top       AllPub        TA        TA        Ex       TA       TA          TA   \n",
       "freq        2916      1798      2538      1493     1283     2606        1492   \n",
       "\n",
       "       bsmtexposure bsmtfintype1  \n",
       "count          2837         2840  \n",
       "unique            4            6  \n",
       "top              No          Unf  \n",
       "freq           1904          851  "
      ]
     },
     "execution_count": 115,
     "metadata": {},
     "output_type": "execute_result"
    }
   ],
   "source": [
    "data[quant_feats].describe()"
   ]
  },
  {
   "cell_type": "markdown",
   "metadata": {},
   "source": [
    "__Obs:__\n",
    "+ utilities and extercond and bsmtcond have prevalent values, which likely not help distinguish house\n",
    "+ "
   ]
  },
  {
   "cell_type": "code",
   "execution_count": 117,
   "metadata": {},
   "outputs": [],
   "source": [
    "six_scale = {\"Ex\": 5, \"Gd\": 4, \"TA\": 3, \"Fa\": 2, \"Po\": 1, \"NA\": 0}"
   ]
  },
  {
   "cell_type": "code",
   "execution_count": 118,
   "metadata": {},
   "outputs": [],
   "source": [
    "qual_feats = ['bsmtqual']\n",
    "scorings = [six_scale]"
   ]
  },
  {
   "cell_type": "code",
   "execution_count": 120,
   "metadata": {},
   "outputs": [
    {
     "name": "stdout",
     "output_type": "stream",
     "text": [
      "\n",
      " Converting quantitative text features to scores...\n",
      "\t Feature bsmtqual has 81 NAs, they will be filled by 0\n"
     ]
    }
   ],
   "source": [
    "data = quant_to_scores(qual_feats, data, scorings)"
   ]
  },
  {
   "cell_type": "code",
   "execution_count": 121,
   "metadata": {
    "collapsed": true
   },
   "outputs": [
    {
     "data": {
      "text/html": [
       "<div>\n",
       "<style scoped>\n",
       "    .dataframe tbody tr th:only-of-type {\n",
       "        vertical-align: middle;\n",
       "    }\n",
       "\n",
       "    .dataframe tbody tr th {\n",
       "        vertical-align: top;\n",
       "    }\n",
       "\n",
       "    .dataframe thead th {\n",
       "        text-align: right;\n",
       "    }\n",
       "</style>\n",
       "<table border=\"1\" class=\"dataframe\">\n",
       "  <thead>\n",
       "    <tr style=\"text-align: right;\">\n",
       "      <th></th>\n",
       "      <th>bsmtqual</th>\n",
       "    </tr>\n",
       "  </thead>\n",
       "  <tbody>\n",
       "    <tr>\n",
       "      <th>count</th>\n",
       "      <td>2919.000000</td>\n",
       "    </tr>\n",
       "    <tr>\n",
       "      <th>mean</th>\n",
       "      <td>3.477561</td>\n",
       "    </tr>\n",
       "    <tr>\n",
       "      <th>std</th>\n",
       "      <td>0.905448</td>\n",
       "    </tr>\n",
       "    <tr>\n",
       "      <th>min</th>\n",
       "      <td>0.000000</td>\n",
       "    </tr>\n",
       "    <tr>\n",
       "      <th>25%</th>\n",
       "      <td>3.000000</td>\n",
       "    </tr>\n",
       "    <tr>\n",
       "      <th>50%</th>\n",
       "      <td>4.000000</td>\n",
       "    </tr>\n",
       "    <tr>\n",
       "      <th>75%</th>\n",
       "      <td>4.000000</td>\n",
       "    </tr>\n",
       "    <tr>\n",
       "      <th>max</th>\n",
       "      <td>5.000000</td>\n",
       "    </tr>\n",
       "  </tbody>\n",
       "</table>\n",
       "</div>"
      ],
      "text/plain": [
       "          bsmtqual\n",
       "count  2919.000000\n",
       "mean      3.477561\n",
       "std       0.905448\n",
       "min       0.000000\n",
       "25%       3.000000\n",
       "50%       4.000000\n",
       "75%       4.000000\n",
       "max       5.000000"
      ]
     },
     "execution_count": 121,
     "metadata": {},
     "output_type": "execute_result"
    }
   ],
   "source": [
    "data[qual_feats].describe()"
   ]
  },
  {
   "cell_type": "code",
   "execution_count": 120,
   "metadata": {},
   "outputs": [
    {
     "name": "stdout",
     "output_type": "stream",
     "text": [
      "\n",
      " Converting quantitative text features to scores...\n",
      "\t Feature bsmtqual has 81 NAs, they will be filled by 0\n"
     ]
    }
   ],
   "source": [
    "data = quant_to_scores(qual_feats, data, scorings)\n",
    "train_part, test_part = get_train_tests(data, target)"
   ]
  },
  {
   "cell_type": "code",
   "execution_count": 136,
   "metadata": {},
   "outputs": [],
   "source": [
    "feats = feats0 + room_feats  + bsmt_feats + area_feats"
   ]
  },
  {
   "cell_type": "code",
   "execution_count": 124,
   "metadata": {},
   "outputs": [],
   "source": [
    "feats += ['bsmtqual']\n",
    "\n",
    "X_train = train_part[feats]\n",
    "X_test = test_part[feats]"
   ]
  },
  {
   "cell_type": "code",
   "execution_count": 126,
   "metadata": {},
   "outputs": [
    {
     "data": {
      "text/plain": [
       "0.7856"
      ]
     },
     "execution_count": 126,
     "metadata": {},
     "output_type": "execute_result"
    }
   ],
   "source": [
    "lr.fit(X_train, y_train)\n",
    "round(lr.score(X_train, y_train), 4)"
   ]
  },
  {
   "cell_type": "code",
   "execution_count": 127,
   "metadata": {},
   "outputs": [],
   "source": [
    "make_output(lr.predict(X_test)).to_csv('output/lin_res_2.csv', index=False)"
   ]
  },
  {
   "cell_type": "markdown",
   "metadata": {},
   "source": [
    "+ bsmt quality not boost prediction"
   ]
  },
  {
   "cell_type": "code",
   "execution_count": 114,
   "metadata": {
    "code_folding": [
     0
    ]
   },
   "outputs": [
    {
     "data": {
      "text/plain": [
       "True"
      ]
     },
     "execution_count": 114,
     "metadata": {},
     "output_type": "execute_result"
    }
   ],
   "source": [
    "scorings = [{\"AllPub\": 4, \"NoSewr\": 3, \"NoSeWa\": 2, \"ELO\": 1, \"NA\": 0},\n",
    "            six_scale,\n",
    "            six_scale,\n",
    "            six_scale,\n",
    "            six_scale,\n",
    "            six_scale,\n",
    "            six_scale,\n",
    "            {\"Gd\": 4, \"Av\": 3, \"Mn\": 2, \"No\": 1, \"NA\": 0},\n",
    "            {\"GLQ\": 6, \"ALQ\": 5, \"BLQ\": 4, \"Rec\": 3, \"LwQ\": 2, \"Unf\": 1, \"NA\": 0},\n",
    "            ]\n",
    "len(quant_feats) == len(scorings)"
   ]
  },
  {
   "cell_type": "markdown",
   "metadata": {},
   "source": [
    "# Categorical features\n",
    "\n",
    "To pick good features among categorical vars, we need a way to measure the correlation between a categorical var and our\n",
    "continuous target. Here comes eta correlation."
   ]
  },
  {
   "cell_type": "markdown",
   "metadata": {},
   "source": [
    "## Helpers for categorical correlaton"
   ]
  },
  {
   "cell_type": "code",
   "execution_count": 140,
   "metadata": {
    "collapsed": true
   },
   "outputs": [
    {
     "name": "stdout",
     "output_type": "stream",
     "text": [
      "Collecting dython\n",
      "  Downloading dython-0.5.1-py3-none-any.whl (14 kB)\n",
      "Requirement already satisfied: matplotlib in c:\\users\\victor\\anaconda3\\envs\\updated\\lib\\site-packages (from dython) (3.1.3)\n",
      "Requirement already satisfied: numpy in c:\\users\\victor\\anaconda3\\envs\\updated\\lib\\site-packages (from dython) (1.18.1)\n",
      "Requirement already satisfied: scikit-learn in c:\\users\\victor\\anaconda3\\envs\\updated\\lib\\site-packages (from dython) (0.23.1)\n",
      "Requirement already satisfied: scipy in c:\\users\\victor\\anaconda3\\envs\\updated\\lib\\site-packages (from dython) (1.4.1)\n",
      "Requirement already satisfied: seaborn in c:\\users\\victor\\anaconda3\\envs\\updated\\lib\\site-packages (from dython) (0.10.1)\n",
      "Requirement already satisfied: pandas in c:\\users\\victor\\anaconda3\\envs\\updated\\lib\\site-packages (from dython) (1.0.3)\n",
      "Requirement already satisfied: kiwisolver>=1.0.1 in c:\\users\\victor\\anaconda3\\envs\\updated\\lib\\site-packages (from matplotlib->dython) (1.2.0)\n",
      "Requirement already satisfied: cycler>=0.10 in c:\\users\\victor\\anaconda3\\envs\\updated\\lib\\site-packages (from matplotlib->dython) (0.10.0)\n",
      "Requirement already satisfied: python-dateutil>=2.1 in c:\\users\\victor\\anaconda3\\envs\\updated\\lib\\site-packages (from matplotlib->dython) (2.8.1)\n",
      "Requirement already satisfied: pyparsing!=2.0.4,!=2.1.2,!=2.1.6,>=2.0.1 in c:\\users\\victor\\anaconda3\\envs\\updated\\lib\\site-packages (from matplotlib->dython) (2.4.7)\n",
      "Requirement already satisfied: joblib>=0.11 in c:\\users\\victor\\anaconda3\\envs\\updated\\lib\\site-packages (from scikit-learn->dython) (0.15.1)\n",
      "Requirement already satisfied: threadpoolctl>=2.0.0 in c:\\users\\victor\\anaconda3\\envs\\updated\\lib\\site-packages (from scikit-learn->dython) (2.1.0)\n",
      "Requirement already satisfied: pytz>=2017.2 in c:\\users\\victor\\anaconda3\\envs\\updated\\lib\\site-packages (from pandas->dython) (2020.1)\n",
      "Requirement already satisfied: six in c:\\users\\victor\\anaconda3\\envs\\updated\\lib\\site-packages (from cycler>=0.10->matplotlib->dython) (1.15.0)\n",
      "Installing collected packages: dython\n",
      "Successfully installed dython-0.5.1\n"
     ]
    }
   ],
   "source": [
    "!pip install dython"
   ]
  },
  {
   "cell_type": "code",
   "execution_count": 129,
   "metadata": {
    "code_folding": [
     0
    ]
   },
   "outputs": [],
   "source": [
    "def correlation_ratio(categories, measurements):\n",
    "    fcat, _ = pd.factorize(categories)\n",
    "    cat_num = np.max(fcat)+1\n",
    "    y_avg_array = np.zeros(cat_num)\n",
    "    n_array = np.zeros(cat_num)\n",
    "    for i in range(0,cat_num):\n",
    "        cat_measures = measurements[np.argwhere(fcat == i).flatten()]\n",
    "        n_array[i] = len(cat_measures)\n",
    "        y_avg_array[i] = np.average(cat_measures)\n",
    "    \n",
    "    y_total_avg = np.sum(np.multiply(y_avg_array,n_array))/np.sum(n_array)\n",
    "    numerator = np.sum(np.multiply(n_array,np.power(np.subtract(y_avg_array,y_total_avg),2)))\n",
    "    denominator = np.sum(np.power(np.subtract(measurements,y_total_avg),2))\n",
    "    if numerator == 0:\n",
    "        eta = 0.0\n",
    "    else:\n",
    "        eta = np.sqrt(numerator/denominator)\n",
    "    return eta"
   ]
  },
  {
   "cell_type": "markdown",
   "metadata": {},
   "source": [
    "+ for correlation between 2 categorical vars, check method theils_u in dython"
   ]
  },
  {
   "cell_type": "code",
   "execution_count": 128,
   "metadata": {},
   "outputs": [
    {
     "name": "stdout",
     "output_type": "stream",
     "text": [
      "# cat feats:  42\n",
      "['mszoning', 'street', 'alley', 'lotshape', 'landcontour', 'utilities', 'lotconfig', 'landslope', 'neighborhood', 'condition1', 'condition2', 'bldgtype', 'housestyle', 'roofstyle', 'roofmatl', 'exterior1st', 'exterior2nd', 'masvnrtype', 'exterqual', 'extercond', 'foundation', 'bsmtcond', 'bsmtexposure', 'bsmtfintype1', 'bsmtfintype2', 'heating', 'heatingqc', 'centralair', 'electrical', 'kitchenqual', 'functional', 'fireplacequ', 'garagetype', 'garagefinish', 'garagequal', 'garagecond', 'paveddrive', 'poolqc', 'fence', 'miscfeature', 'saletype', 'salecondition']\n"
     ]
    }
   ],
   "source": [
    "cat_feats = list_string_columns(data)\n",
    "print('# cat feats: ', len(cat_feats))\n",
    "print(cat_feats)"
   ]
  },
  {
   "cell_type": "code",
   "execution_count": 131,
   "metadata": {
    "collapsed": true
   },
   "outputs": [
    {
     "data": {
      "text/html": [
       "<div>\n",
       "<style scoped>\n",
       "    .dataframe tbody tr th:only-of-type {\n",
       "        vertical-align: middle;\n",
       "    }\n",
       "\n",
       "    .dataframe tbody tr th {\n",
       "        vertical-align: top;\n",
       "    }\n",
       "\n",
       "    .dataframe thead th {\n",
       "        text-align: right;\n",
       "    }\n",
       "</style>\n",
       "<table border=\"1\" class=\"dataframe\">\n",
       "  <thead>\n",
       "    <tr style=\"text-align: right;\">\n",
       "      <th></th>\n",
       "      <th>mszoning</th>\n",
       "      <th>street</th>\n",
       "      <th>alley</th>\n",
       "      <th>lotshape</th>\n",
       "      <th>landcontour</th>\n",
       "      <th>utilities</th>\n",
       "      <th>lotconfig</th>\n",
       "      <th>landslope</th>\n",
       "      <th>neighborhood</th>\n",
       "      <th>condition1</th>\n",
       "      <th>...</th>\n",
       "      <th>garagetype</th>\n",
       "      <th>garagefinish</th>\n",
       "      <th>garagequal</th>\n",
       "      <th>garagecond</th>\n",
       "      <th>paveddrive</th>\n",
       "      <th>poolqc</th>\n",
       "      <th>fence</th>\n",
       "      <th>miscfeature</th>\n",
       "      <th>saletype</th>\n",
       "      <th>salecondition</th>\n",
       "    </tr>\n",
       "  </thead>\n",
       "  <tbody>\n",
       "    <tr>\n",
       "      <th>count</th>\n",
       "      <td>1460</td>\n",
       "      <td>1460</td>\n",
       "      <td>91</td>\n",
       "      <td>1460</td>\n",
       "      <td>1460</td>\n",
       "      <td>1460</td>\n",
       "      <td>1460</td>\n",
       "      <td>1460</td>\n",
       "      <td>1460</td>\n",
       "      <td>1460</td>\n",
       "      <td>...</td>\n",
       "      <td>1379</td>\n",
       "      <td>1379</td>\n",
       "      <td>1379</td>\n",
       "      <td>1379</td>\n",
       "      <td>1460</td>\n",
       "      <td>7</td>\n",
       "      <td>281</td>\n",
       "      <td>54</td>\n",
       "      <td>1460</td>\n",
       "      <td>1460</td>\n",
       "    </tr>\n",
       "    <tr>\n",
       "      <th>unique</th>\n",
       "      <td>5</td>\n",
       "      <td>2</td>\n",
       "      <td>2</td>\n",
       "      <td>4</td>\n",
       "      <td>4</td>\n",
       "      <td>2</td>\n",
       "      <td>5</td>\n",
       "      <td>3</td>\n",
       "      <td>25</td>\n",
       "      <td>9</td>\n",
       "      <td>...</td>\n",
       "      <td>6</td>\n",
       "      <td>3</td>\n",
       "      <td>5</td>\n",
       "      <td>5</td>\n",
       "      <td>3</td>\n",
       "      <td>3</td>\n",
       "      <td>4</td>\n",
       "      <td>4</td>\n",
       "      <td>9</td>\n",
       "      <td>6</td>\n",
       "    </tr>\n",
       "    <tr>\n",
       "      <th>top</th>\n",
       "      <td>RL</td>\n",
       "      <td>Pave</td>\n",
       "      <td>Grvl</td>\n",
       "      <td>Reg</td>\n",
       "      <td>Lvl</td>\n",
       "      <td>AllPub</td>\n",
       "      <td>Inside</td>\n",
       "      <td>Gtl</td>\n",
       "      <td>NAmes</td>\n",
       "      <td>Norm</td>\n",
       "      <td>...</td>\n",
       "      <td>Attchd</td>\n",
       "      <td>Unf</td>\n",
       "      <td>TA</td>\n",
       "      <td>TA</td>\n",
       "      <td>Y</td>\n",
       "      <td>Gd</td>\n",
       "      <td>MnPrv</td>\n",
       "      <td>Shed</td>\n",
       "      <td>WD</td>\n",
       "      <td>Normal</td>\n",
       "    </tr>\n",
       "    <tr>\n",
       "      <th>freq</th>\n",
       "      <td>1151</td>\n",
       "      <td>1454</td>\n",
       "      <td>50</td>\n",
       "      <td>925</td>\n",
       "      <td>1311</td>\n",
       "      <td>1459</td>\n",
       "      <td>1052</td>\n",
       "      <td>1382</td>\n",
       "      <td>225</td>\n",
       "      <td>1260</td>\n",
       "      <td>...</td>\n",
       "      <td>870</td>\n",
       "      <td>605</td>\n",
       "      <td>1311</td>\n",
       "      <td>1326</td>\n",
       "      <td>1340</td>\n",
       "      <td>3</td>\n",
       "      <td>157</td>\n",
       "      <td>49</td>\n",
       "      <td>1267</td>\n",
       "      <td>1198</td>\n",
       "    </tr>\n",
       "  </tbody>\n",
       "</table>\n",
       "<p>4 rows × 42 columns</p>\n",
       "</div>"
      ],
      "text/plain": [
       "       mszoning street alley lotshape landcontour utilities lotconfig  \\\n",
       "count      1460   1460    91     1460        1460      1460      1460   \n",
       "unique        5      2     2        4           4         2         5   \n",
       "top          RL   Pave  Grvl      Reg         Lvl    AllPub    Inside   \n",
       "freq       1151   1454    50      925        1311      1459      1052   \n",
       "\n",
       "       landslope neighborhood condition1  ... garagetype garagefinish  \\\n",
       "count       1460         1460       1460  ...       1379         1379   \n",
       "unique         3           25          9  ...          6            3   \n",
       "top          Gtl        NAmes       Norm  ...     Attchd          Unf   \n",
       "freq        1382          225       1260  ...        870          605   \n",
       "\n",
       "       garagequal garagecond paveddrive poolqc  fence miscfeature saletype  \\\n",
       "count        1379       1379       1460      7    281          54     1460   \n",
       "unique          5          5          3      3      4           4        9   \n",
       "top            TA         TA          Y     Gd  MnPrv        Shed       WD   \n",
       "freq         1311       1326       1340      3    157          49     1267   \n",
       "\n",
       "       salecondition  \n",
       "count           1460  \n",
       "unique             6  \n",
       "top           Normal  \n",
       "freq            1198  \n",
       "\n",
       "[4 rows x 42 columns]"
      ]
     },
     "execution_count": 131,
     "metadata": {},
     "output_type": "execute_result"
    }
   ],
   "source": [
    "train_part[cat_feats].describe()"
   ]
  },
  {
   "cell_type": "code",
   "execution_count": 134,
   "metadata": {
    "scrolled": true
   },
   "outputs": [
    {
     "data": {
      "text/html": [
       "<div>\n",
       "<style scoped>\n",
       "    .dataframe tbody tr th:only-of-type {\n",
       "        vertical-align: middle;\n",
       "    }\n",
       "\n",
       "    .dataframe tbody tr th {\n",
       "        vertical-align: top;\n",
       "    }\n",
       "\n",
       "    .dataframe thead th {\n",
       "        text-align: right;\n",
       "    }\n",
       "</style>\n",
       "<table border=\"1\" class=\"dataframe\">\n",
       "  <thead>\n",
       "    <tr style=\"text-align: right;\">\n",
       "      <th></th>\n",
       "      <th>cat_feat</th>\n",
       "      <th>corr</th>\n",
       "    </tr>\n",
       "  </thead>\n",
       "  <tbody>\n",
       "    <tr>\n",
       "      <th>8</th>\n",
       "      <td>neighborhood</td>\n",
       "      <td>0.738630</td>\n",
       "    </tr>\n",
       "    <tr>\n",
       "      <th>18</th>\n",
       "      <td>exterqual</td>\n",
       "      <td>0.690933</td>\n",
       "    </tr>\n",
       "    <tr>\n",
       "      <th>29</th>\n",
       "      <td>kitchenqual</td>\n",
       "      <td>0.675721</td>\n",
       "    </tr>\n",
       "    <tr>\n",
       "      <th>20</th>\n",
       "      <td>foundation</td>\n",
       "      <td>0.506328</td>\n",
       "    </tr>\n",
       "    <tr>\n",
       "      <th>33</th>\n",
       "      <td>garagefinish</td>\n",
       "      <td>0.498963</td>\n",
       "    </tr>\n",
       "    <tr>\n",
       "      <th>26</th>\n",
       "      <td>heatingqc</td>\n",
       "      <td>0.442154</td>\n",
       "    </tr>\n",
       "    <tr>\n",
       "      <th>32</th>\n",
       "      <td>garagetype</td>\n",
       "      <td>0.438726</td>\n",
       "    </tr>\n",
       "    <tr>\n",
       "      <th>23</th>\n",
       "      <td>bsmtfintype1</td>\n",
       "      <td>0.432828</td>\n",
       "    </tr>\n",
       "    <tr>\n",
       "      <th>17</th>\n",
       "      <td>masvnrtype</td>\n",
       "      <td>0.431419</td>\n",
       "    </tr>\n",
       "    <tr>\n",
       "      <th>16</th>\n",
       "      <td>exterior2nd</td>\n",
       "      <td>0.392211</td>\n",
       "    </tr>\n",
       "    <tr>\n",
       "      <th>15</th>\n",
       "      <td>exterior1st</td>\n",
       "      <td>0.390862</td>\n",
       "    </tr>\n",
       "    <tr>\n",
       "      <th>40</th>\n",
       "      <td>saletype</td>\n",
       "      <td>0.370523</td>\n",
       "    </tr>\n",
       "    <tr>\n",
       "      <th>41</th>\n",
       "      <td>salecondition</td>\n",
       "      <td>0.368100</td>\n",
       "    </tr>\n",
       "    <tr>\n",
       "      <th>22</th>\n",
       "      <td>bsmtexposure</td>\n",
       "      <td>0.356166</td>\n",
       "    </tr>\n",
       "    <tr>\n",
       "      <th>0</th>\n",
       "      <td>mszoning</td>\n",
       "      <td>0.327963</td>\n",
       "    </tr>\n",
       "    <tr>\n",
       "      <th>12</th>\n",
       "      <td>housestyle</td>\n",
       "      <td>0.293790</td>\n",
       "    </tr>\n",
       "    <tr>\n",
       "      <th>3</th>\n",
       "      <td>lotshape</td>\n",
       "      <td>0.276362</td>\n",
       "    </tr>\n",
       "    <tr>\n",
       "      <th>27</th>\n",
       "      <td>centralair</td>\n",
       "      <td>0.251328</td>\n",
       "    </tr>\n",
       "    <tr>\n",
       "      <th>28</th>\n",
       "      <td>electrical</td>\n",
       "      <td>0.244278</td>\n",
       "    </tr>\n",
       "    <tr>\n",
       "      <th>31</th>\n",
       "      <td>fireplacequ</td>\n",
       "      <td>0.243738</td>\n",
       "    </tr>\n",
       "    <tr>\n",
       "      <th>13</th>\n",
       "      <td>roofstyle</td>\n",
       "      <td>0.240201</td>\n",
       "    </tr>\n",
       "    <tr>\n",
       "      <th>36</th>\n",
       "      <td>paveddrive</td>\n",
       "      <td>0.233537</td>\n",
       "    </tr>\n",
       "    <tr>\n",
       "      <th>11</th>\n",
       "      <td>bldgtype</td>\n",
       "      <td>0.185833</td>\n",
       "    </tr>\n",
       "    <tr>\n",
       "      <th>9</th>\n",
       "      <td>condition1</td>\n",
       "      <td>0.180640</td>\n",
       "    </tr>\n",
       "    <tr>\n",
       "      <th>14</th>\n",
       "      <td>roofmatl</td>\n",
       "      <td>0.177237</td>\n",
       "    </tr>\n",
       "    <tr>\n",
       "      <th>21</th>\n",
       "      <td>bsmtcond</td>\n",
       "      <td>0.167398</td>\n",
       "    </tr>\n",
       "    <tr>\n",
       "      <th>4</th>\n",
       "      <td>landcontour</td>\n",
       "      <td>0.160605</td>\n",
       "    </tr>\n",
       "    <tr>\n",
       "      <th>34</th>\n",
       "      <td>garagequal</td>\n",
       "      <td>0.158899</td>\n",
       "    </tr>\n",
       "    <tr>\n",
       "      <th>35</th>\n",
       "      <td>garagecond</td>\n",
       "      <td>0.158663</td>\n",
       "    </tr>\n",
       "    <tr>\n",
       "      <th>19</th>\n",
       "      <td>extercond</td>\n",
       "      <td>0.153680</td>\n",
       "    </tr>\n",
       "    <tr>\n",
       "      <th>6</th>\n",
       "      <td>lotconfig</td>\n",
       "      <td>0.144981</td>\n",
       "    </tr>\n",
       "    <tr>\n",
       "      <th>30</th>\n",
       "      <td>functional</td>\n",
       "      <td>0.128376</td>\n",
       "    </tr>\n",
       "    <tr>\n",
       "      <th>25</th>\n",
       "      <td>heating</td>\n",
       "      <td>0.120155</td>\n",
       "    </tr>\n",
       "    <tr>\n",
       "      <th>10</th>\n",
       "      <td>condition2</td>\n",
       "      <td>0.099495</td>\n",
       "    </tr>\n",
       "    <tr>\n",
       "      <th>24</th>\n",
       "      <td>bsmtfintype2</td>\n",
       "      <td>0.095834</td>\n",
       "    </tr>\n",
       "    <tr>\n",
       "      <th>38</th>\n",
       "      <td>fence</td>\n",
       "      <td>0.072851</td>\n",
       "    </tr>\n",
       "    <tr>\n",
       "      <th>37</th>\n",
       "      <td>poolqc</td>\n",
       "      <td>0.066318</td>\n",
       "    </tr>\n",
       "    <tr>\n",
       "      <th>2</th>\n",
       "      <td>alley</td>\n",
       "      <td>0.064571</td>\n",
       "    </tr>\n",
       "    <tr>\n",
       "      <th>7</th>\n",
       "      <td>landslope</td>\n",
       "      <td>0.051784</td>\n",
       "    </tr>\n",
       "    <tr>\n",
       "      <th>1</th>\n",
       "      <td>street</td>\n",
       "      <td>0.041036</td>\n",
       "    </tr>\n",
       "    <tr>\n",
       "      <th>39</th>\n",
       "      <td>miscfeature</td>\n",
       "      <td>0.040383</td>\n",
       "    </tr>\n",
       "    <tr>\n",
       "      <th>5</th>\n",
       "      <td>utilities</td>\n",
       "      <td>0.014314</td>\n",
       "    </tr>\n",
       "  </tbody>\n",
       "</table>\n",
       "</div>"
      ],
      "text/plain": [
       "         cat_feat      corr\n",
       "8    neighborhood  0.738630\n",
       "18      exterqual  0.690933\n",
       "29    kitchenqual  0.675721\n",
       "20     foundation  0.506328\n",
       "33   garagefinish  0.498963\n",
       "26      heatingqc  0.442154\n",
       "32     garagetype  0.438726\n",
       "23   bsmtfintype1  0.432828\n",
       "17     masvnrtype  0.431419\n",
       "16    exterior2nd  0.392211\n",
       "15    exterior1st  0.390862\n",
       "40       saletype  0.370523\n",
       "41  salecondition  0.368100\n",
       "22   bsmtexposure  0.356166\n",
       "0        mszoning  0.327963\n",
       "12     housestyle  0.293790\n",
       "3        lotshape  0.276362\n",
       "27     centralair  0.251328\n",
       "28     electrical  0.244278\n",
       "31    fireplacequ  0.243738\n",
       "13      roofstyle  0.240201\n",
       "36     paveddrive  0.233537\n",
       "11       bldgtype  0.185833\n",
       "9      condition1  0.180640\n",
       "14       roofmatl  0.177237\n",
       "21       bsmtcond  0.167398\n",
       "4     landcontour  0.160605\n",
       "34     garagequal  0.158899\n",
       "35     garagecond  0.158663\n",
       "19      extercond  0.153680\n",
       "6       lotconfig  0.144981\n",
       "30     functional  0.128376\n",
       "25        heating  0.120155\n",
       "10     condition2  0.099495\n",
       "24   bsmtfintype2  0.095834\n",
       "38          fence  0.072851\n",
       "37         poolqc  0.066318\n",
       "2           alley  0.064571\n",
       "7       landslope  0.051784\n",
       "1          street  0.041036\n",
       "39    miscfeature  0.040383\n",
       "5       utilities  0.014314"
      ]
     },
     "execution_count": 134,
     "metadata": {},
     "output_type": "execute_result"
    }
   ],
   "source": [
    "eta_corrs = [correlation_ratio(train_part[cf], train_part[target]) for cf in cat_feats]\n",
    "corr_target_cat_feats = pd.DataFrame({'cat_feat': cat_feats, 'corr_with_target': eta_corrs\n",
    "                                     }).sort_values('corr', ascending=False)\n",
    "corr_target_cat_feats"
   ]
  },
  {
   "cell_type": "markdown",
   "metadata": {},
   "source": [
    "As expected: \n",
    "+ \"neighborhood\" has very high correlation with target, as it is purely categorical feats, I will deal with it later\n",
    "+ \"exterqual\" and \"kitchenqual\" also has high correlation with target"
   ]
  },
  {
   "cell_type": "code",
   "execution_count": 146,
   "metadata": {},
   "outputs": [
    {
     "name": "stdout",
     "output_type": "stream",
     "text": [
      "\n",
      " Converting quantitative text features to scores...\n",
      "\t Feature exterqual has 0 NAs, they will be filled by 0\n"
     ]
    }
   ],
   "source": [
    "# kitchen quality may help, because corr between it and target is high\n",
    "# data = quant_to_scores(['kitchenqual'], data, scorings)\n",
    "data = quant_to_scores(['exterqual'], data, scorings)\n",
    "train_part, test_part = get_train_tests(data, target)"
   ]
  },
  {
   "cell_type": "code",
   "execution_count": 137,
   "metadata": {},
   "outputs": [],
   "source": [
    "feats += ['kitchenqual']\n",
    "X_train = train_part[feats]\n",
    "X_test = test_part[feats]"
   ]
  },
  {
   "cell_type": "code",
   "execution_count": 138,
   "metadata": {},
   "outputs": [
    {
     "data": {
      "text/plain": [
       "0.7941"
      ]
     },
     "execution_count": 138,
     "metadata": {},
     "output_type": "execute_result"
    }
   ],
   "source": [
    "lr.fit(X_train, y_train)\n",
    "round(lr.score(X_train, y_train), 4)"
   ]
  },
  {
   "cell_type": "code",
   "execution_count": 139,
   "metadata": {},
   "outputs": [],
   "source": [
    "make_output(lr.predict(X_test)).to_csv('output/lin_res_2.csv', index=False)"
   ]
  },
  {
   "cell_type": "code",
   "execution_count": 147,
   "metadata": {},
   "outputs": [],
   "source": [
    "feats += ['exterqual']\n",
    "X_train = train_part[feats]\n",
    "X_test = test_part[feats]"
   ]
  },
  {
   "cell_type": "code",
   "execution_count": 148,
   "metadata": {},
   "outputs": [
    {
     "data": {
      "text/plain": [
       "0.7968"
      ]
     },
     "execution_count": 148,
     "metadata": {},
     "output_type": "execute_result"
    }
   ],
   "source": [
    "lr.fit(X_train, y_train)\n",
    "lr_score = round(lr.score(X_train, y_train), 4)"
   ]
  },
  {
   "cell_type": "code",
   "execution_count": 149,
   "metadata": {},
   "outputs": [],
   "source": [
    "make_output(lr.predict(X_test)).to_csv('output/lin_res_2.csv', index=False)"
   ]
  },
  {
   "cell_type": "code",
   "execution_count": null,
   "metadata": {},
   "outputs": [],
   "source": []
  },
  {
   "cell_type": "code",
   "execution_count": 142,
   "metadata": {},
   "outputs": [
    {
     "name": "stdout",
     "output_type": "stream",
     "text": [
      "# cat feats:  41\n",
      "['mszoning', 'street', 'alley', 'lotshape', 'landcontour', 'utilities', 'lotconfig', 'landslope', 'neighborhood', 'condition1', 'condition2', 'bldgtype', 'housestyle', 'roofstyle', 'roofmatl', 'exterior1st', 'exterior2nd', 'masvnrtype', 'exterqual', 'extercond', 'foundation', 'bsmtcond', 'bsmtexposure', 'bsmtfintype1', 'bsmtfintype2', 'heating', 'heatingqc', 'centralair', 'electrical', 'functional', 'fireplacequ', 'garagetype', 'garagefinish', 'garagequal', 'garagecond', 'paveddrive', 'poolqc', 'fence', 'miscfeature', 'saletype', 'salecondition']\n"
     ]
    }
   ],
   "source": [
    "cat_feats = list_string_columns(data)\n",
    "print('# cat feats: ', len(cat_feats))\n",
    "print(cat_feats)"
   ]
  },
  {
   "cell_type": "code",
   "execution_count": 143,
   "metadata": {
    "collapsed": true
   },
   "outputs": [
    {
     "data": {
      "text/html": [
       "<div>\n",
       "<style scoped>\n",
       "    .dataframe tbody tr th:only-of-type {\n",
       "        vertical-align: middle;\n",
       "    }\n",
       "\n",
       "    .dataframe tbody tr th {\n",
       "        vertical-align: top;\n",
       "    }\n",
       "\n",
       "    .dataframe thead th {\n",
       "        text-align: right;\n",
       "    }\n",
       "</style>\n",
       "<table border=\"1\" class=\"dataframe\">\n",
       "  <thead>\n",
       "    <tr style=\"text-align: right;\">\n",
       "      <th></th>\n",
       "      <th>cat_feat</th>\n",
       "      <th>corr</th>\n",
       "    </tr>\n",
       "  </thead>\n",
       "  <tbody>\n",
       "    <tr>\n",
       "      <th>8</th>\n",
       "      <td>neighborhood</td>\n",
       "      <td>0.738630</td>\n",
       "    </tr>\n",
       "    <tr>\n",
       "      <th>18</th>\n",
       "      <td>exterqual</td>\n",
       "      <td>0.690933</td>\n",
       "    </tr>\n",
       "    <tr>\n",
       "      <th>20</th>\n",
       "      <td>foundation</td>\n",
       "      <td>0.506328</td>\n",
       "    </tr>\n",
       "    <tr>\n",
       "      <th>32</th>\n",
       "      <td>garagefinish</td>\n",
       "      <td>0.498963</td>\n",
       "    </tr>\n",
       "    <tr>\n",
       "      <th>26</th>\n",
       "      <td>heatingqc</td>\n",
       "      <td>0.442154</td>\n",
       "    </tr>\n",
       "    <tr>\n",
       "      <th>31</th>\n",
       "      <td>garagetype</td>\n",
       "      <td>0.438726</td>\n",
       "    </tr>\n",
       "    <tr>\n",
       "      <th>23</th>\n",
       "      <td>bsmtfintype1</td>\n",
       "      <td>0.432828</td>\n",
       "    </tr>\n",
       "    <tr>\n",
       "      <th>17</th>\n",
       "      <td>masvnrtype</td>\n",
       "      <td>0.431419</td>\n",
       "    </tr>\n",
       "    <tr>\n",
       "      <th>16</th>\n",
       "      <td>exterior2nd</td>\n",
       "      <td>0.392211</td>\n",
       "    </tr>\n",
       "    <tr>\n",
       "      <th>15</th>\n",
       "      <td>exterior1st</td>\n",
       "      <td>0.390862</td>\n",
       "    </tr>\n",
       "    <tr>\n",
       "      <th>39</th>\n",
       "      <td>saletype</td>\n",
       "      <td>0.370523</td>\n",
       "    </tr>\n",
       "    <tr>\n",
       "      <th>40</th>\n",
       "      <td>salecondition</td>\n",
       "      <td>0.368100</td>\n",
       "    </tr>\n",
       "    <tr>\n",
       "      <th>22</th>\n",
       "      <td>bsmtexposure</td>\n",
       "      <td>0.356166</td>\n",
       "    </tr>\n",
       "    <tr>\n",
       "      <th>0</th>\n",
       "      <td>mszoning</td>\n",
       "      <td>0.327963</td>\n",
       "    </tr>\n",
       "    <tr>\n",
       "      <th>12</th>\n",
       "      <td>housestyle</td>\n",
       "      <td>0.293790</td>\n",
       "    </tr>\n",
       "    <tr>\n",
       "      <th>3</th>\n",
       "      <td>lotshape</td>\n",
       "      <td>0.276362</td>\n",
       "    </tr>\n",
       "    <tr>\n",
       "      <th>27</th>\n",
       "      <td>centralair</td>\n",
       "      <td>0.251328</td>\n",
       "    </tr>\n",
       "    <tr>\n",
       "      <th>28</th>\n",
       "      <td>electrical</td>\n",
       "      <td>0.244278</td>\n",
       "    </tr>\n",
       "    <tr>\n",
       "      <th>30</th>\n",
       "      <td>fireplacequ</td>\n",
       "      <td>0.243738</td>\n",
       "    </tr>\n",
       "    <tr>\n",
       "      <th>13</th>\n",
       "      <td>roofstyle</td>\n",
       "      <td>0.240201</td>\n",
       "    </tr>\n",
       "    <tr>\n",
       "      <th>35</th>\n",
       "      <td>paveddrive</td>\n",
       "      <td>0.233537</td>\n",
       "    </tr>\n",
       "    <tr>\n",
       "      <th>11</th>\n",
       "      <td>bldgtype</td>\n",
       "      <td>0.185833</td>\n",
       "    </tr>\n",
       "    <tr>\n",
       "      <th>9</th>\n",
       "      <td>condition1</td>\n",
       "      <td>0.180640</td>\n",
       "    </tr>\n",
       "    <tr>\n",
       "      <th>14</th>\n",
       "      <td>roofmatl</td>\n",
       "      <td>0.177237</td>\n",
       "    </tr>\n",
       "    <tr>\n",
       "      <th>21</th>\n",
       "      <td>bsmtcond</td>\n",
       "      <td>0.167398</td>\n",
       "    </tr>\n",
       "    <tr>\n",
       "      <th>4</th>\n",
       "      <td>landcontour</td>\n",
       "      <td>0.160605</td>\n",
       "    </tr>\n",
       "    <tr>\n",
       "      <th>33</th>\n",
       "      <td>garagequal</td>\n",
       "      <td>0.158899</td>\n",
       "    </tr>\n",
       "    <tr>\n",
       "      <th>34</th>\n",
       "      <td>garagecond</td>\n",
       "      <td>0.158663</td>\n",
       "    </tr>\n",
       "    <tr>\n",
       "      <th>19</th>\n",
       "      <td>extercond</td>\n",
       "      <td>0.153680</td>\n",
       "    </tr>\n",
       "    <tr>\n",
       "      <th>6</th>\n",
       "      <td>lotconfig</td>\n",
       "      <td>0.144981</td>\n",
       "    </tr>\n",
       "    <tr>\n",
       "      <th>29</th>\n",
       "      <td>functional</td>\n",
       "      <td>0.128376</td>\n",
       "    </tr>\n",
       "    <tr>\n",
       "      <th>25</th>\n",
       "      <td>heating</td>\n",
       "      <td>0.120155</td>\n",
       "    </tr>\n",
       "    <tr>\n",
       "      <th>10</th>\n",
       "      <td>condition2</td>\n",
       "      <td>0.099495</td>\n",
       "    </tr>\n",
       "    <tr>\n",
       "      <th>24</th>\n",
       "      <td>bsmtfintype2</td>\n",
       "      <td>0.095834</td>\n",
       "    </tr>\n",
       "    <tr>\n",
       "      <th>37</th>\n",
       "      <td>fence</td>\n",
       "      <td>0.072851</td>\n",
       "    </tr>\n",
       "    <tr>\n",
       "      <th>36</th>\n",
       "      <td>poolqc</td>\n",
       "      <td>0.066318</td>\n",
       "    </tr>\n",
       "    <tr>\n",
       "      <th>2</th>\n",
       "      <td>alley</td>\n",
       "      <td>0.064571</td>\n",
       "    </tr>\n",
       "    <tr>\n",
       "      <th>7</th>\n",
       "      <td>landslope</td>\n",
       "      <td>0.051784</td>\n",
       "    </tr>\n",
       "    <tr>\n",
       "      <th>1</th>\n",
       "      <td>street</td>\n",
       "      <td>0.041036</td>\n",
       "    </tr>\n",
       "    <tr>\n",
       "      <th>38</th>\n",
       "      <td>miscfeature</td>\n",
       "      <td>0.040383</td>\n",
       "    </tr>\n",
       "    <tr>\n",
       "      <th>5</th>\n",
       "      <td>utilities</td>\n",
       "      <td>0.014314</td>\n",
       "    </tr>\n",
       "  </tbody>\n",
       "</table>\n",
       "</div>"
      ],
      "text/plain": [
       "         cat_feat      corr\n",
       "8    neighborhood  0.738630\n",
       "18      exterqual  0.690933\n",
       "20     foundation  0.506328\n",
       "32   garagefinish  0.498963\n",
       "26      heatingqc  0.442154\n",
       "31     garagetype  0.438726\n",
       "23   bsmtfintype1  0.432828\n",
       "17     masvnrtype  0.431419\n",
       "16    exterior2nd  0.392211\n",
       "15    exterior1st  0.390862\n",
       "39       saletype  0.370523\n",
       "40  salecondition  0.368100\n",
       "22   bsmtexposure  0.356166\n",
       "0        mszoning  0.327963\n",
       "12     housestyle  0.293790\n",
       "3        lotshape  0.276362\n",
       "27     centralair  0.251328\n",
       "28     electrical  0.244278\n",
       "30    fireplacequ  0.243738\n",
       "13      roofstyle  0.240201\n",
       "35     paveddrive  0.233537\n",
       "11       bldgtype  0.185833\n",
       "9      condition1  0.180640\n",
       "14       roofmatl  0.177237\n",
       "21       bsmtcond  0.167398\n",
       "4     landcontour  0.160605\n",
       "33     garagequal  0.158899\n",
       "34     garagecond  0.158663\n",
       "19      extercond  0.153680\n",
       "6       lotconfig  0.144981\n",
       "29     functional  0.128376\n",
       "25        heating  0.120155\n",
       "10     condition2  0.099495\n",
       "24   bsmtfintype2  0.095834\n",
       "37          fence  0.072851\n",
       "36         poolqc  0.066318\n",
       "2           alley  0.064571\n",
       "7       landslope  0.051784\n",
       "1          street  0.041036\n",
       "38    miscfeature  0.040383\n",
       "5       utilities  0.014314"
      ]
     },
     "execution_count": 143,
     "metadata": {},
     "output_type": "execute_result"
    }
   ],
   "source": [
    "eta_corrs = [correlation_ratio(train_part[cf], train_part[target]) for cf in cat_feats]\n",
    "corr_target_cat_feats = pd.DataFrame({'cat_feat': cat_feats, 'corr': eta_corrs}).sort_values('corr', ascending=False)\n",
    "corr_target_cat_feats"
   ]
  },
  {
   "cell_type": "code",
   "execution_count": 141,
   "metadata": {},
   "outputs": [],
   "source": [
    "from dython.nominal import associations"
   ]
  },
  {
   "cell_type": "code",
   "execution_count": 144,
   "metadata": {
    "code_folding": [
     0
    ],
    "collapsed": true
   },
   "outputs": [
    {
     "name": "stderr",
     "output_type": "stream",
     "text": [
      "C:\\Users\\Victor\\Anaconda3\\envs\\updated\\lib\\site-packages\\pandas\\core\\frame.py:4153: SettingWithCopyWarning: \n",
      "A value is trying to be set on a copy of a slice from a DataFrame\n",
      "\n",
      "See the caveats in the documentation: https://pandas.pydata.org/pandas-docs/stable/user_guide/indexing.html#returning-a-view-versus-a-copy\n",
      "  downcast=downcast,\n"
     ]
    },
    {
     "data": {
      "image/png": "[encoded data removed]",
      "text/plain": [
       "<Figure size 720x720 with 2 Axes>"
      ]
     },
     "metadata": {
      "needs_background": "light"
     },
     "output_type": "display_data"
    },
    {
     "data": {
      "text/plain": [
       "{'corr':               neighborhood  exterqual  foundation  garagefinish  heatingqc  \\\n",
       " neighborhood      1.000000   0.431355    0.439727      0.245090   0.199316   \n",
       " exterqual         0.123974   1.000000    0.215728      0.133508   0.169772   \n",
       " foundation        0.160065   0.273227    1.000000      0.131706   0.158675   \n",
       " garagefinish      0.102720   0.194689    0.151642      1.000000   0.078049   \n",
       " heatingqc         0.076047   0.225379    0.166318      0.071053   1.000000   \n",
       " garagetype        0.108315   0.130083    0.130347      0.349166   0.045352   \n",
       " bsmtfintype1      0.100314   0.192360    0.253525      0.070998   0.086609   \n",
       " masvnrtype        0.074362   0.101923    0.072740      0.063995   0.035292   \n",
       " exterior2nd       0.182482   0.202514    0.239462      0.099301   0.139783   \n",
       " exterior1st       0.178130   0.204398    0.240793      0.103552   0.138445   \n",
       " \n",
       "               garagetype  bsmtfintype1  masvnrtype  exterior2nd  exterior1st  \n",
       " neighborhood    0.283415      0.172131    0.226224     0.274441     0.275499  \n",
       " exterqual       0.097825      0.094865    0.089116     0.087534     0.090856  \n",
       " foundation      0.124150      0.158353    0.080552     0.131093     0.135562  \n",
       " garagefinish    0.382907      0.051059    0.081595     0.062591     0.067123  \n",
       " heatingqc       0.045277      0.056703    0.040965     0.080209     0.081696  \n",
       " garagetype      1.000000      0.047904    0.079956     0.064971     0.063835  \n",
       " bsmtfintype1    0.073049      1.000000    0.062985     0.078983     0.080894  \n",
       " masvnrtype      0.068770      0.035526    1.000000     0.042080     0.044497  \n",
       " exterior2nd     0.113038      0.090116    0.085120     1.000000     0.819554  \n",
       " exterior1st     0.107997      0.089749    0.087526     0.796936     1.000000  ,\n",
       " 'ax': <matplotlib.axes._subplots.AxesSubplot at 0x27f905127c8>}"
      ]
     },
     "execution_count": 144,
     "metadata": {},
     "output_type": "execute_result"
    }
   ],
   "source": [
    "# plot corr between 10 cat features with highest corr to target\n",
    "top10_feats = corr_target_cat_feats.head(10)['cat_feat']\n",
    "associations(data[top10_feats], theil_u=True, figsize=(10, 10))"
   ]
  },
  {
   "cell_type": "code",
   "execution_count": 184,
   "metadata": {},
   "outputs": [],
   "source": [
    "# to reduce minority \n",
    "data['zone_type'] = data['mszoning'].apply(fold_zone_type)\n",
    "data['adjacency'] = data['condition1'].apply(to_adjacency)\n",
    "train_part, test_part = get_train_tests(data, target)"
   ]
  },
  {
   "cell_type": "code",
   "execution_count": 185,
   "metadata": {},
   "outputs": [
    {
     "data": {
      "text/plain": [
       "[0.28880288249977604, 0.17293552989193986]"
      ]
     },
     "execution_count": 185,
     "metadata": {},
     "output_type": "execute_result"
    }
   ],
   "source": [
    "[correlation_ratio(train_part[cf], train_part[target]) \n",
    " for cf in ['zone_type', 'adjacency']\n",
    "]"
   ]
  },
  {
   "cell_type": "markdown",
   "metadata": {},
   "source": [
    "## Encode categorical features\n",
    "\n",
    "I will perform onehot encoding incrementally, starting with features having highest correlations with target."
   ]
  },
  {
   "cell_type": "code",
   "execution_count": 152,
   "metadata": {},
   "outputs": [
    {
     "data": {
      "text/html": [
       "<div>\n",
       "<style scoped>\n",
       "    .dataframe tbody tr th:only-of-type {\n",
       "        vertical-align: middle;\n",
       "    }\n",
       "\n",
       "    .dataframe tbody tr th {\n",
       "        vertical-align: top;\n",
       "    }\n",
       "\n",
       "    .dataframe thead th {\n",
       "        text-align: right;\n",
       "    }\n",
       "</style>\n",
       "<table border=\"1\" class=\"dataframe\">\n",
       "  <thead>\n",
       "    <tr style=\"text-align: right;\">\n",
       "      <th></th>\n",
       "      <th>column</th>\n",
       "      <th>na_count</th>\n",
       "    </tr>\n",
       "  </thead>\n",
       "  <tbody>\n",
       "  </tbody>\n",
       "</table>\n",
       "</div>"
      ],
      "text/plain": [
       "Empty DataFrame\n",
       "Columns: [column, na_count]\n",
       "Index: []"
      ]
     },
     "execution_count": 152,
     "metadata": {},
     "output_type": "execute_result"
    }
   ],
   "source": [
    "check_na(data[['neighborhood']])"
   ]
  },
  {
   "cell_type": "code",
   "execution_count": 176,
   "metadata": {
    "collapsed": true
   },
   "outputs": [
    {
     "name": "stdout",
     "output_type": "stream",
     "text": [
      "there are 25 categories as follows:\n",
      "['CollgCr' 'Veenker' 'Crawfor' 'NoRidge' 'Mitchel' 'Somerst' 'NWAmes'\n",
      " 'OldTown' 'BrkSide' 'Sawyer' 'NridgHt' 'NAmes' 'SawyerW' 'IDOTRR'\n",
      " 'MeadowV' 'Edwards' 'Timber' 'Gilbert' 'StoneBr' 'ClearCr' 'NPkVill'\n",
      " 'Blmngtn' 'BrDale' 'SWISU' 'Blueste']\n",
      "(2919, 108)\n"
     ]
    }
   ],
   "source": [
    "# nbhood\n",
    "encoded_data, nbh_feats = onehot_encode('neighborhood', data)\n",
    "print(encoded_data.shape)"
   ]
  },
  {
   "cell_type": "code",
   "execution_count": 163,
   "metadata": {
    "collapsed": true
   },
   "outputs": [
    {
     "data": {
      "text/html": [
       "<div>\n",
       "<style scoped>\n",
       "    .dataframe tbody tr th:only-of-type {\n",
       "        vertical-align: middle;\n",
       "    }\n",
       "\n",
       "    .dataframe tbody tr th {\n",
       "        vertical-align: top;\n",
       "    }\n",
       "\n",
       "    .dataframe thead th {\n",
       "        text-align: right;\n",
       "    }\n",
       "</style>\n",
       "<table border=\"1\" class=\"dataframe\">\n",
       "  <thead>\n",
       "    <tr style=\"text-align: right;\">\n",
       "      <th></th>\n",
       "      <th>neighborhood_CollgCr</th>\n",
       "      <th>neighborhood_Veenker</th>\n",
       "      <th>neighborhood_Crawfor</th>\n",
       "      <th>neighborhood_NoRidge</th>\n",
       "      <th>neighborhood_Mitchel</th>\n",
       "      <th>neighborhood_Somerst</th>\n",
       "      <th>neighborhood_NWAmes</th>\n",
       "      <th>neighborhood_OldTown</th>\n",
       "      <th>neighborhood_BrkSide</th>\n",
       "      <th>neighborhood_Sawyer</th>\n",
       "      <th>...</th>\n",
       "      <th>neighborhood_Edwards</th>\n",
       "      <th>neighborhood_Timber</th>\n",
       "      <th>neighborhood_Gilbert</th>\n",
       "      <th>neighborhood_StoneBr</th>\n",
       "      <th>neighborhood_ClearCr</th>\n",
       "      <th>neighborhood_NPkVill</th>\n",
       "      <th>neighborhood_Blmngtn</th>\n",
       "      <th>neighborhood_BrDale</th>\n",
       "      <th>neighborhood_SWISU</th>\n",
       "      <th>neighborhood_Blueste</th>\n",
       "    </tr>\n",
       "  </thead>\n",
       "  <tbody>\n",
       "    <tr>\n",
       "      <th>0</th>\n",
       "      <td>1</td>\n",
       "      <td>0</td>\n",
       "      <td>0</td>\n",
       "      <td>0</td>\n",
       "      <td>0</td>\n",
       "      <td>0</td>\n",
       "      <td>0</td>\n",
       "      <td>0</td>\n",
       "      <td>0</td>\n",
       "      <td>0</td>\n",
       "      <td>...</td>\n",
       "      <td>0</td>\n",
       "      <td>0</td>\n",
       "      <td>0</td>\n",
       "      <td>0</td>\n",
       "      <td>0</td>\n",
       "      <td>0</td>\n",
       "      <td>0</td>\n",
       "      <td>0</td>\n",
       "      <td>0</td>\n",
       "      <td>0</td>\n",
       "    </tr>\n",
       "    <tr>\n",
       "      <th>1</th>\n",
       "      <td>0</td>\n",
       "      <td>1</td>\n",
       "      <td>0</td>\n",
       "      <td>0</td>\n",
       "      <td>0</td>\n",
       "      <td>0</td>\n",
       "      <td>0</td>\n",
       "      <td>0</td>\n",
       "      <td>0</td>\n",
       "      <td>0</td>\n",
       "      <td>...</td>\n",
       "      <td>0</td>\n",
       "      <td>0</td>\n",
       "      <td>0</td>\n",
       "      <td>0</td>\n",
       "      <td>0</td>\n",
       "      <td>0</td>\n",
       "      <td>0</td>\n",
       "      <td>0</td>\n",
       "      <td>0</td>\n",
       "      <td>0</td>\n",
       "    </tr>\n",
       "    <tr>\n",
       "      <th>2</th>\n",
       "      <td>1</td>\n",
       "      <td>0</td>\n",
       "      <td>0</td>\n",
       "      <td>0</td>\n",
       "      <td>0</td>\n",
       "      <td>0</td>\n",
       "      <td>0</td>\n",
       "      <td>0</td>\n",
       "      <td>0</td>\n",
       "      <td>0</td>\n",
       "      <td>...</td>\n",
       "      <td>0</td>\n",
       "      <td>0</td>\n",
       "      <td>0</td>\n",
       "      <td>0</td>\n",
       "      <td>0</td>\n",
       "      <td>0</td>\n",
       "      <td>0</td>\n",
       "      <td>0</td>\n",
       "      <td>0</td>\n",
       "      <td>0</td>\n",
       "    </tr>\n",
       "    <tr>\n",
       "      <th>3</th>\n",
       "      <td>0</td>\n",
       "      <td>0</td>\n",
       "      <td>1</td>\n",
       "      <td>0</td>\n",
       "      <td>0</td>\n",
       "      <td>0</td>\n",
       "      <td>0</td>\n",
       "      <td>0</td>\n",
       "      <td>0</td>\n",
       "      <td>0</td>\n",
       "      <td>...</td>\n",
       "      <td>0</td>\n",
       "      <td>0</td>\n",
       "      <td>0</td>\n",
       "      <td>0</td>\n",
       "      <td>0</td>\n",
       "      <td>0</td>\n",
       "      <td>0</td>\n",
       "      <td>0</td>\n",
       "      <td>0</td>\n",
       "      <td>0</td>\n",
       "    </tr>\n",
       "    <tr>\n",
       "      <th>4</th>\n",
       "      <td>0</td>\n",
       "      <td>0</td>\n",
       "      <td>0</td>\n",
       "      <td>1</td>\n",
       "      <td>0</td>\n",
       "      <td>0</td>\n",
       "      <td>0</td>\n",
       "      <td>0</td>\n",
       "      <td>0</td>\n",
       "      <td>0</td>\n",
       "      <td>...</td>\n",
       "      <td>0</td>\n",
       "      <td>0</td>\n",
       "      <td>0</td>\n",
       "      <td>0</td>\n",
       "      <td>0</td>\n",
       "      <td>0</td>\n",
       "      <td>0</td>\n",
       "      <td>0</td>\n",
       "      <td>0</td>\n",
       "      <td>0</td>\n",
       "    </tr>\n",
       "  </tbody>\n",
       "</table>\n",
       "<p>5 rows × 25 columns</p>\n",
       "</div>"
      ],
      "text/plain": [
       "   neighborhood_CollgCr  neighborhood_Veenker  neighborhood_Crawfor  \\\n",
       "0                     1                     0                     0   \n",
       "1                     0                     1                     0   \n",
       "2                     1                     0                     0   \n",
       "3                     0                     0                     1   \n",
       "4                     0                     0                     0   \n",
       "\n",
       "   neighborhood_NoRidge  neighborhood_Mitchel  neighborhood_Somerst  \\\n",
       "0                     0                     0                     0   \n",
       "1                     0                     0                     0   \n",
       "2                     0                     0                     0   \n",
       "3                     0                     0                     0   \n",
       "4                     1                     0                     0   \n",
       "\n",
       "   neighborhood_NWAmes  neighborhood_OldTown  neighborhood_BrkSide  \\\n",
       "0                    0                     0                     0   \n",
       "1                    0                     0                     0   \n",
       "2                    0                     0                     0   \n",
       "3                    0                     0                     0   \n",
       "4                    0                     0                     0   \n",
       "\n",
       "   neighborhood_Sawyer  ...  neighborhood_Edwards  neighborhood_Timber  \\\n",
       "0                    0  ...                     0                    0   \n",
       "1                    0  ...                     0                    0   \n",
       "2                    0  ...                     0                    0   \n",
       "3                    0  ...                     0                    0   \n",
       "4                    0  ...                     0                    0   \n",
       "\n",
       "   neighborhood_Gilbert  neighborhood_StoneBr  neighborhood_ClearCr  \\\n",
       "0                     0                     0                     0   \n",
       "1                     0                     0                     0   \n",
       "2                     0                     0                     0   \n",
       "3                     0                     0                     0   \n",
       "4                     0                     0                     0   \n",
       "\n",
       "   neighborhood_NPkVill  neighborhood_Blmngtn  neighborhood_BrDale  \\\n",
       "0                     0                     0                    0   \n",
       "1                     0                     0                    0   \n",
       "2                     0                     0                    0   \n",
       "3                     0                     0                    0   \n",
       "4                     0                     0                    0   \n",
       "\n",
       "   neighborhood_SWISU  neighborhood_Blueste  \n",
       "0                   0                     0  \n",
       "1                   0                     0  \n",
       "2                   0                     0  \n",
       "3                   0                     0  \n",
       "4                   0                     0  \n",
       "\n",
       "[5 rows x 25 columns]"
      ]
     },
     "execution_count": 163,
     "metadata": {},
     "output_type": "execute_result"
    }
   ],
   "source": [
    "encoded_data[nbh_feats] .head()"
   ]
  },
  {
   "cell_type": "code",
   "execution_count": 164,
   "metadata": {},
   "outputs": [],
   "source": [
    "train_part, test_part = get_train_tests(encoded_data, target)"
   ]
  },
  {
   "cell_type": "code",
   "execution_count": 165,
   "metadata": {},
   "outputs": [],
   "source": [
    "feats += nbh_feats\n",
    "X_train = train_part[feats]\n",
    "X_test = test_part[feats]"
   ]
  },
  {
   "cell_type": "markdown",
   "metadata": {
    "heading_collapsed": true
   },
   "source": [
    "## TODO: drop non-important feats"
   ]
  },
  {
   "cell_type": "code",
   "execution_count": null,
   "metadata": {
    "hidden": true
   },
   "outputs": [],
   "source": [
    "to_drop = ['saletype', 'salecondition']"
   ]
  },
  {
   "cell_type": "markdown",
   "metadata": {},
   "source": [
    "# Random forest\n",
    "\n"
   ]
  },
  {
   "cell_type": "markdown",
   "metadata": {},
   "source": [
    "## Base RF\n",
    "\n",
    "No tuning yet."
   ]
  },
  {
   "cell_type": "code",
   "execution_count": null,
   "metadata": {},
   "outputs": [],
   "source": [
    "base_rf = RandomForestRegressor(n_estimators=100, max_features=1.0, n_jobs=-1,\n",
    "                               random_state=1,\n",
    "                               )"
   ]
  },
  {
   "cell_type": "code",
   "execution_count": 166,
   "metadata": {
    "scrolled": false
   },
   "outputs": [
    {
     "data": {
      "text/plain": [
       "RandomForestRegressor(max_features=1.0, n_jobs=-1, random_state=1)"
      ]
     },
     "execution_count": 166,
     "metadata": {},
     "output_type": "execute_result"
    }
   ],
   "source": [
    "base_rf.fit(X_train, y_train)\n",
    "rf_score = round(base_rf.score(X_train, y_train), 4)\n",
    "rf_score"
   ]
  },
  {
   "cell_type": "code",
   "execution_count": 170,
   "metadata": {},
   "outputs": [],
   "source": [
    "y_pred = base_rf.predict(X_test)\n",
    "make_output(y_pred).to_csv('output/rf_res.csv', index=False)"
   ]
  },
  {
   "cell_type": "code",
   "execution_count": null,
   "metadata": {},
   "outputs": [],
   "source": [
    "100 * (rf_score - lr_score)/lr_score"
   ]
  },
  {
   "cell_type": "code",
   "execution_count": 172,
   "metadata": {},
   "outputs": [
    {
     "data": {
      "text/plain": [
       "22.929216867469894"
      ]
     },
     "execution_count": 172,
     "metadata": {},
     "output_type": "execute_result"
    }
   ],
   "source": [
    "100 * (rf_score - 0.7968)/0.7968"
   ]
  },
  {
   "cell_type": "markdown",
   "metadata": {},
   "source": [
    "+ adding neighborhood has a whooping effect. It boosts score by >20% and advanced me >450 places on leaderboard.\n",
    "+ now we add the next relevant categorical var, \"foundation\" (this is because kitchen and exterior qualities are already added). But should expect that the impact may be marginal, as the correlation is not that high."
   ]
  },
  {
   "cell_type": "code",
   "execution_count": 173,
   "metadata": {
    "collapsed": true
   },
   "outputs": [
    {
     "data": {
      "text/plain": [
       "PConc     1308\n",
       "CBlock    1235\n",
       "BrkTil     311\n",
       "Slab        49\n",
       "Stone       11\n",
       "Wood         5\n",
       "Name: foundation, dtype: int64"
      ]
     },
     "execution_count": 173,
     "metadata": {},
     "output_type": "execute_result"
    }
   ],
   "source": [
    "# adding foundation\n",
    "data.foundation.value_counts()"
   ]
  },
  {
   "cell_type": "code",
   "execution_count": 174,
   "metadata": {},
   "outputs": [
    {
     "data": {
      "text/html": [
       "<div>\n",
       "<style scoped>\n",
       "    .dataframe tbody tr th:only-of-type {\n",
       "        vertical-align: middle;\n",
       "    }\n",
       "\n",
       "    .dataframe tbody tr th {\n",
       "        vertical-align: top;\n",
       "    }\n",
       "\n",
       "    .dataframe thead th {\n",
       "        text-align: right;\n",
       "    }\n",
       "</style>\n",
       "<table border=\"1\" class=\"dataframe\">\n",
       "  <thead>\n",
       "    <tr style=\"text-align: right;\">\n",
       "      <th></th>\n",
       "      <th>column</th>\n",
       "      <th>na_count</th>\n",
       "    </tr>\n",
       "  </thead>\n",
       "  <tbody>\n",
       "  </tbody>\n",
       "</table>\n",
       "</div>"
      ],
      "text/plain": [
       "Empty DataFrame\n",
       "Columns: [column, na_count]\n",
       "Index: []"
      ]
     },
     "execution_count": 174,
     "metadata": {},
     "output_type": "execute_result"
    }
   ],
   "source": [
    "check_na(data[['foundation']])"
   ]
  },
  {
   "cell_type": "code",
   "execution_count": 177,
   "metadata": {
    "scrolled": true
   },
   "outputs": [
    {
     "name": "stdout",
     "output_type": "stream",
     "text": [
      "there are 6 categories as follows:\n",
      "['PConc' 'CBlock' 'BrkTil' 'Wood' 'Slab' 'Stone']\n"
     ]
    }
   ],
   "source": [
    "encoded_data, fdn_feats = onehot_encode('foundation', encoded_data)"
   ]
  },
  {
   "cell_type": "code",
   "execution_count": 178,
   "metadata": {},
   "outputs": [],
   "source": [
    "train_part, test_part = get_train_tests(encoded_data, target)"
   ]
  },
  {
   "cell_type": "code",
   "execution_count": 179,
   "metadata": {},
   "outputs": [],
   "source": [
    "feats += fdn_feats\n",
    "X_train = train_part[feats]\n",
    "X_test = test_part[feats]"
   ]
  },
  {
   "cell_type": "code",
   "execution_count": 180,
   "metadata": {
    "scrolled": false
   },
   "outputs": [
    {
     "data": {
      "text/plain": [
       "0.9798"
      ]
     },
     "execution_count": 180,
     "metadata": {},
     "output_type": "execute_result"
    }
   ],
   "source": [
    "base_rf.fit(X_train, y_train)\n",
    "rf_score = round(base_rf.score(X_train, y_train), 4)\n",
    "rf_score"
   ]
  },
  {
   "cell_type": "code",
   "execution_count": 181,
   "metadata": {},
   "outputs": [],
   "source": [
    "make_output(base_rf.predict(X_test)).to_csv('output/rf_res.csv', index=False)"
   ]
  },
  {
   "cell_type": "markdown",
   "metadata": {},
   "source": [
    "+ as expected \"foundation\" not help at all, it even pulls down perf."
   ]
  },
  {
   "cell_type": "markdown",
   "metadata": {},
   "source": [
    "## TODO: add derived features"
   ]
  },
  {
   "cell_type": "code",
   "execution_count": 163,
   "metadata": {},
   "outputs": [],
   "source": [
    "# add some derived features\n",
    "data['age_from_built'] = data.apply(axis=1, func=cal_age_from_built)\n",
    "\n",
    "# total bathroom\n",
    "data['total_bath'] = data['fullbath'] + data['halfbath']"
   ]
  },
  {
   "cell_type": "code",
   "execution_count": 183,
   "metadata": {},
   "outputs": [],
   "source": [
    "train_part, test_part = get_train_tests(data, target)"
   ]
  },
  {
   "cell_type": "markdown",
   "metadata": {},
   "source": [
    "## Tuning RF via grid search\n",
    "\n",
    "I will try later."
   ]
  },
  {
   "cell_type": "code",
   "execution_count": null,
   "metadata": {},
   "outputs": [],
   "source": []
  }
 ],
 "metadata": {
  "kernelspec": {
   "display_name": "Python 3",
   "language": "python",
   "name": "python3"
  },
  "language_info": {
   "codemirror_mode": {
    "name": "ipython",
    "version": 3
   },
   "file_extension": ".py",
   "mimetype": "text/x-python",
   "name": "python",
   "nbconvert_exporter": "python",
   "pygments_lexer": "ipython3",
   "version": "3.7.7"
  },
  "toc": {
   "base_numbering": 1,
   "nav_menu": {},
   "number_sections": true,
   "sideBar": true,
   "skip_h1_title": false,
   "title_cell": "Table of Contents",
   "title_sidebar": "Contents",
   "toc_cell": false,
   "toc_position": {
    "height": "calc(100% - 180px)",
    "left": "10px",
    "top": "150px",
    "width": "275.797px"
   },
   "toc_section_display": true,
   "toc_window_display": true
  }
 },
 "nbformat": 4,
 "nbformat_minor": 4
}
