{
 "cells": [
  {
   "cell_type": "markdown",
   "metadata": {},
   "source": [
    "I will start with a standard random forest (RF) as base model. Then we will tune hyperparams of RF to achieve a better model. Finally, I will try XGBoost."
   ]
  },
  {
   "cell_type": "markdown",
   "metadata": {},
   "source": [
    "We will pick features based on analysis from EDA notebook."
   ]
  },
  {
   "cell_type": "code",
   "execution_count": 1,
   "metadata": {},
   "outputs": [],
   "source": [
    "import pandas as pd\n",
    "import numpy as np\n",
    "import matplotlib.pyplot as plt\n",
    "import seaborn as sns\n",
    "import os"
   ]
  },
  {
   "cell_type": "code",
   "execution_count": 2,
   "metadata": {},
   "outputs": [],
   "source": [
    "from sklearn.model_selection import GridSearchCV, train_test_split\n",
    "from sklearn.ensemble import RandomForestRegressor\n",
    "from sklearn.metrics import  mean_absolute_error, mean_squared_error, mean_squared_log_error"
   ]
  },
  {
   "cell_type": "code",
   "execution_count": 48,
   "metadata": {},
   "outputs": [],
   "source": [
    "from sklearn.linear_model import LinearRegression, RidgeCV, LassoCV\n",
    "from sklearn.preprocessing import StandardScaler, MinMaxScaler"
   ]
  },
  {
   "cell_type": "code",
   "execution_count": 3,
   "metadata": {},
   "outputs": [
    {
     "name": "stdout",
     "output_type": "stream",
     "text": [
      "(1460, 81)\n",
      "(1459, 80)\n"
     ]
    }
   ],
   "source": [
    "# folder = '/kaggle/input/house-prices-advanced-regression-techniques/'\n",
    "folder = 'data'\n",
    "\n",
    "train = pd.read_csv(os.path.join(folder, 'train.csv'))\n",
    "test = pd.read_csv(os.path.join(folder, 'test.csv'))\n",
    "\n",
    "# exclude outliers\n",
    "# train = train.query('GrLivArea <= 4000' )\n",
    "# test = test.query('GrLivArea <= 4000')\n",
    "print(train.shape)\n",
    "print(test.shape)"
   ]
  },
  {
   "cell_type": "code",
   "execution_count": 4,
   "metadata": {
    "scrolled": true
   },
   "outputs": [],
   "source": [
    "# concat train and test sets st we always perform transformation on both sets\n",
    "test['SalePrice'] = 0\n",
    "data = pd.concat([train, test])"
   ]
  },
  {
   "cell_type": "code",
   "execution_count": 5,
   "metadata": {
    "scrolled": true
   },
   "outputs": [],
   "source": [
    "# lowercase all column names for convenience\n",
    "data.columns = [str.lower(cc) for cc in data.columns]\n",
    "\n",
    "# sale price in thousands is better for plotting\n",
    "data['sale_price_in_thousand'] = data['saleprice']/(10**3)"
   ]
  },
  {
   "cell_type": "code",
   "execution_count": 6,
   "metadata": {
    "scrolled": true
   },
   "outputs": [],
   "source": [
    "# sale price per square feet is also interested\n",
    "data['sale_price_per_sf'] = data['saleprice'] / data['grlivarea']"
   ]
  },
  {
   "cell_type": "markdown",
   "metadata": {},
   "source": [
    "There are two approaches:\n",
    "+ predict directly sale price\n",
    "+ predict price per SF, then multiply with living area to estimate sale price\n",
    "\n",
    "I will try both, but first we need some helpers."
   ]
  },
  {
   "cell_type": "markdown",
   "metadata": {},
   "source": [
    "### Helper methods"
   ]
  },
  {
   "cell_type": "code",
   "execution_count": 7,
   "metadata": {},
   "outputs": [],
   "source": [
    "def cal_age_from_built(row):\n",
    "    return row['yrsold'] - row['yearbuilt']\n",
    "\n",
    "def cal_age_from_remodel(row):\n",
    "    return row['yrsold'] - row['yearremodadd']\n",
    "\n",
    "\n",
    "def fold_zone_type(ms_zone):\n",
    "    if ms_zone in ['FV', 'RH', 'C (all)']:\n",
    "        return 'Other'\n",
    "    else:\n",
    "        return ms_zone\n",
    "#         return {'RL': 'Residential Low Density'.lower() , \n",
    "#                 'RM': 'Residential Medium Density'.lower(),\n",
    "#                 None: 'NA'\n",
    "#                }[ms_zone]    \n",
    "\n",
    "def to_adjacency(cond):\n",
    "    if 'RR' in cond:\n",
    "        return 'Railroad'\n",
    "    if 'Pos' in cond:\n",
    "        return 'Positive feature'\n",
    "    return {\n",
    "        'Artery': 'Arterial street',\n",
    "        'Feedr': 'Feeder street',\n",
    "        'Norm': 'Normal'    \n",
    "        }[cond]"
   ]
  },
  {
   "cell_type": "code",
   "execution_count": 8,
   "metadata": {},
   "outputs": [],
   "source": [
    "def to_quantitative(text_feat, df, scoring):\n",
    "    '''\n",
    "    Given a feature stored in data as text but actually a quantitative feat, convert it to numerical values\n",
    "    via given encoding\n",
    "    :param scoring:\n",
    "    :param text_feat:\n",
    "    :return:\n",
    "    '''\n",
    "    n_na = sum(df[text_feat].isnull())\n",
    "    print('\\t Feature {0} has {1} NAs, they will be filled by 0'.format(text_feat, n_na))\n",
    "\n",
    "    res = df.copy()\n",
    "    res[text_feat].fillna(\"NA\", inplace=True)\n",
    "\n",
    "    # print('\\t Column {} has {} NAs, they will be filled by forward filling'.format(text_feat, n_na))\n",
    "    # res[text_feat].fillna(method='ffill', inplace=True)\n",
    "    res[text_feat] = res[text_feat].apply(lambda form: scoring[form])\n",
    "    return res\n",
    "\n",
    "def quant_to_scores(quant_feats, data, scorings):\n",
    "    print('\\n Converting quantitative text features to scores...')\n",
    "    score_dict = dict(zip(quant_feats, scorings))\n",
    "    \n",
    "    for tf in quant_feats:  \n",
    "        data = to_quantitative(text_feat=tf, df=data, scoring=score_dict[tf])\n",
    "\n",
    "    return data"
   ]
  },
  {
   "cell_type": "code",
   "execution_count": 9,
   "metadata": {},
   "outputs": [],
   "source": [
    "def onehot_encode(cat_feat, data, dummy_na=False):\n",
    "    encoded = pd.get_dummies(data[cat_feat], prefix=cat_feat, dummy_na=dummy_na)\n",
    "    res = pd.concat([data.drop(columns=[cat_feat]), encoded], axis='columns')\n",
    "    return res\n",
    "\n",
    "def encode_cat_feats(data, cat_feats, dummy_na=False):\n",
    "    print('Onehot encode categorical features: ', cat_feats)\n",
    "\n",
    "    encoded_df = data.copy()\n",
    "    # encode 1 cat feature at a time\n",
    "    for cf in cat_feats:\n",
    "        encoded_df = onehot_encode(cf, encoded_df, dummy_na=dummy_na)\n",
    "\n",
    "    return encoded_df"
   ]
  },
  {
   "cell_type": "code",
   "execution_count": 10,
   "metadata": {},
   "outputs": [],
   "source": [
    "def list_string_columns(data):\n",
    "    return list(data.columns[np.where(data.dtypes == 'object')])"
   ]
  },
  {
   "cell_type": "code",
   "execution_count": 11,
   "metadata": {},
   "outputs": [],
   "source": [
    "def split_train_valid(data, target):\n",
    "    y = data.pop(target)\n",
    "    X = data\n",
    "    X_train, X_valid, y_train, y_valid = train_test_split(X, y, test_size=.1, \n",
    "                                                          random_state=1\n",
    "                                                         )\n",
    "    return X_train, X_valid, y_train, y_valid"
   ]
  },
  {
   "cell_type": "code",
   "execution_count": 12,
   "metadata": {},
   "outputs": [],
   "source": [
    "def check_na(data):\n",
    "    # check if any NA left\n",
    "    na_count = [sum(data[ff].isnull()) for ff in data.columns]\n",
    "    res = pd.DataFrame({'column': data.columns, 'na_count': na_count})\n",
    "    res['na_fraction'] = res['na_count']/len(data)\n",
    "    return res.query('na_count > 0')"
   ]
  },
  {
   "cell_type": "code",
   "execution_count": 13,
   "metadata": {},
   "outputs": [],
   "source": [
    "def list_numeric_columns(data):\n",
    "    return list(data.columns[np.where(data.dtypes != 'object')])"
   ]
  },
  {
   "cell_type": "code",
   "execution_count": 14,
   "metadata": {},
   "outputs": [],
   "source": [
    "def make_output(y_pred):\n",
    "    test_index = range(len(train) + 1, len(data) + 1)\n",
    "    return pd.DataFrame({'Id': test_index, 'SalePrice': y_pred})"
   ]
  },
  {
   "cell_type": "code",
   "execution_count": 15,
   "metadata": {},
   "outputs": [],
   "source": [
    "# for converting quantitative text feats to scores\n",
    "six_scale = {\"Ex\": 5, \"Gd\": 4, \"TA\": 3, \"Fa\": 2, \"Po\": 1, \"NA\": 0}\n",
    "quant_feats = ['utilities',\n",
    " 'exterqual',\n",
    " 'extercond',\n",
    " 'heatingqc',\n",
    " 'bsmtqual',\n",
    " 'bsmtcond',\n",
    " 'kitchenqual',\n",
    " 'bsmtexposure',\n",
    " 'bsmtfintype1'\n",
    "]\n",
    "scorings = [{\"AllPub\": 4, \"NoSewr\": 3, \"NoSeWa\": 2, \"ELO\": 1, \"NA\": 0},\n",
    "            six_scale,\n",
    "            six_scale,\n",
    "            six_scale,\n",
    "            six_scale,\n",
    "            six_scale,\n",
    "            six_scale,\n",
    "            {\"Gd\": 4, \"Av\": 3, \"Mn\": 2, \"No\": 1, \"NA\": 0},\n",
    "            {\"GLQ\": 6, \"ALQ\": 5, \"BLQ\": 4, \"Rec\": 3, \"LwQ\": 2, \"Unf\": 1, \"NA\": 0},\n",
    "            ]\n",
    "# len(quant_feats) == len(scorings)"
   ]
  },
  {
   "cell_type": "markdown",
   "metadata": {},
   "source": [
    "## Preprocessing"
   ]
  },
  {
   "cell_type": "code",
   "execution_count": 27,
   "metadata": {},
   "outputs": [],
   "source": [
    "target = 'saleprice'"
   ]
  },
  {
   "cell_type": "code",
   "execution_count": 16,
   "metadata": {
    "collapsed": true
   },
   "outputs": [
    {
     "data": {
      "text/html": [
       "<div>\n",
       "<style scoped>\n",
       "    .dataframe tbody tr th:only-of-type {\n",
       "        vertical-align: middle;\n",
       "    }\n",
       "\n",
       "    .dataframe tbody tr th {\n",
       "        vertical-align: top;\n",
       "    }\n",
       "\n",
       "    .dataframe thead th {\n",
       "        text-align: right;\n",
       "    }\n",
       "</style>\n",
       "<table border=\"1\" class=\"dataframe\">\n",
       "  <thead>\n",
       "    <tr style=\"text-align: right;\">\n",
       "      <th></th>\n",
       "      <th>column</th>\n",
       "      <th>na_count</th>\n",
       "      <th>na_fraction</th>\n",
       "    </tr>\n",
       "  </thead>\n",
       "  <tbody>\n",
       "    <tr>\n",
       "      <th>72</th>\n",
       "      <td>poolqc</td>\n",
       "      <td>2909</td>\n",
       "      <td>0.996574</td>\n",
       "    </tr>\n",
       "    <tr>\n",
       "      <th>74</th>\n",
       "      <td>miscfeature</td>\n",
       "      <td>2814</td>\n",
       "      <td>0.964029</td>\n",
       "    </tr>\n",
       "    <tr>\n",
       "      <th>6</th>\n",
       "      <td>alley</td>\n",
       "      <td>2721</td>\n",
       "      <td>0.932169</td>\n",
       "    </tr>\n",
       "    <tr>\n",
       "      <th>73</th>\n",
       "      <td>fence</td>\n",
       "      <td>2348</td>\n",
       "      <td>0.804385</td>\n",
       "    </tr>\n",
       "    <tr>\n",
       "      <th>57</th>\n",
       "      <td>fireplacequ</td>\n",
       "      <td>1420</td>\n",
       "      <td>0.486468</td>\n",
       "    </tr>\n",
       "    <tr>\n",
       "      <th>3</th>\n",
       "      <td>lotfrontage</td>\n",
       "      <td>486</td>\n",
       "      <td>0.166495</td>\n",
       "    </tr>\n",
       "    <tr>\n",
       "      <th>60</th>\n",
       "      <td>garagefinish</td>\n",
       "      <td>159</td>\n",
       "      <td>0.054471</td>\n",
       "    </tr>\n",
       "    <tr>\n",
       "      <th>63</th>\n",
       "      <td>garagequal</td>\n",
       "      <td>159</td>\n",
       "      <td>0.054471</td>\n",
       "    </tr>\n",
       "    <tr>\n",
       "      <th>64</th>\n",
       "      <td>garagecond</td>\n",
       "      <td>159</td>\n",
       "      <td>0.054471</td>\n",
       "    </tr>\n",
       "    <tr>\n",
       "      <th>59</th>\n",
       "      <td>garageyrblt</td>\n",
       "      <td>159</td>\n",
       "      <td>0.054471</td>\n",
       "    </tr>\n",
       "    <tr>\n",
       "      <th>58</th>\n",
       "      <td>garagetype</td>\n",
       "      <td>157</td>\n",
       "      <td>0.053786</td>\n",
       "    </tr>\n",
       "    <tr>\n",
       "      <th>32</th>\n",
       "      <td>bsmtexposure</td>\n",
       "      <td>82</td>\n",
       "      <td>0.028092</td>\n",
       "    </tr>\n",
       "    <tr>\n",
       "      <th>31</th>\n",
       "      <td>bsmtcond</td>\n",
       "      <td>82</td>\n",
       "      <td>0.028092</td>\n",
       "    </tr>\n",
       "    <tr>\n",
       "      <th>30</th>\n",
       "      <td>bsmtqual</td>\n",
       "      <td>81</td>\n",
       "      <td>0.027749</td>\n",
       "    </tr>\n",
       "    <tr>\n",
       "      <th>35</th>\n",
       "      <td>bsmtfintype2</td>\n",
       "      <td>80</td>\n",
       "      <td>0.027407</td>\n",
       "    </tr>\n",
       "    <tr>\n",
       "      <th>33</th>\n",
       "      <td>bsmtfintype1</td>\n",
       "      <td>79</td>\n",
       "      <td>0.027064</td>\n",
       "    </tr>\n",
       "    <tr>\n",
       "      <th>25</th>\n",
       "      <td>masvnrtype</td>\n",
       "      <td>24</td>\n",
       "      <td>0.008222</td>\n",
       "    </tr>\n",
       "    <tr>\n",
       "      <th>26</th>\n",
       "      <td>masvnrarea</td>\n",
       "      <td>23</td>\n",
       "      <td>0.007879</td>\n",
       "    </tr>\n",
       "    <tr>\n",
       "      <th>2</th>\n",
       "      <td>mszoning</td>\n",
       "      <td>4</td>\n",
       "      <td>0.001370</td>\n",
       "    </tr>\n",
       "    <tr>\n",
       "      <th>47</th>\n",
       "      <td>bsmtfullbath</td>\n",
       "      <td>2</td>\n",
       "      <td>0.000685</td>\n",
       "    </tr>\n",
       "    <tr>\n",
       "      <th>48</th>\n",
       "      <td>bsmthalfbath</td>\n",
       "      <td>2</td>\n",
       "      <td>0.000685</td>\n",
       "    </tr>\n",
       "    <tr>\n",
       "      <th>55</th>\n",
       "      <td>functional</td>\n",
       "      <td>2</td>\n",
       "      <td>0.000685</td>\n",
       "    </tr>\n",
       "    <tr>\n",
       "      <th>9</th>\n",
       "      <td>utilities</td>\n",
       "      <td>2</td>\n",
       "      <td>0.000685</td>\n",
       "    </tr>\n",
       "    <tr>\n",
       "      <th>62</th>\n",
       "      <td>garagearea</td>\n",
       "      <td>1</td>\n",
       "      <td>0.000343</td>\n",
       "    </tr>\n",
       "    <tr>\n",
       "      <th>61</th>\n",
       "      <td>garagecars</td>\n",
       "      <td>1</td>\n",
       "      <td>0.000343</td>\n",
       "    </tr>\n",
       "    <tr>\n",
       "      <th>42</th>\n",
       "      <td>electrical</td>\n",
       "      <td>1</td>\n",
       "      <td>0.000343</td>\n",
       "    </tr>\n",
       "    <tr>\n",
       "      <th>53</th>\n",
       "      <td>kitchenqual</td>\n",
       "      <td>1</td>\n",
       "      <td>0.000343</td>\n",
       "    </tr>\n",
       "    <tr>\n",
       "      <th>38</th>\n",
       "      <td>totalbsmtsf</td>\n",
       "      <td>1</td>\n",
       "      <td>0.000343</td>\n",
       "    </tr>\n",
       "    <tr>\n",
       "      <th>37</th>\n",
       "      <td>bsmtunfsf</td>\n",
       "      <td>1</td>\n",
       "      <td>0.000343</td>\n",
       "    </tr>\n",
       "    <tr>\n",
       "      <th>36</th>\n",
       "      <td>bsmtfinsf2</td>\n",
       "      <td>1</td>\n",
       "      <td>0.000343</td>\n",
       "    </tr>\n",
       "    <tr>\n",
       "      <th>34</th>\n",
       "      <td>bsmtfinsf1</td>\n",
       "      <td>1</td>\n",
       "      <td>0.000343</td>\n",
       "    </tr>\n",
       "    <tr>\n",
       "      <th>24</th>\n",
       "      <td>exterior2nd</td>\n",
       "      <td>1</td>\n",
       "      <td>0.000343</td>\n",
       "    </tr>\n",
       "    <tr>\n",
       "      <th>23</th>\n",
       "      <td>exterior1st</td>\n",
       "      <td>1</td>\n",
       "      <td>0.000343</td>\n",
       "    </tr>\n",
       "    <tr>\n",
       "      <th>78</th>\n",
       "      <td>saletype</td>\n",
       "      <td>1</td>\n",
       "      <td>0.000343</td>\n",
       "    </tr>\n",
       "  </tbody>\n",
       "</table>\n",
       "</div>"
      ],
      "text/plain": [
       "          column  na_count  na_fraction\n",
       "72        poolqc      2909     0.996574\n",
       "74   miscfeature      2814     0.964029\n",
       "6          alley      2721     0.932169\n",
       "73         fence      2348     0.804385\n",
       "57   fireplacequ      1420     0.486468\n",
       "3    lotfrontage       486     0.166495\n",
       "60  garagefinish       159     0.054471\n",
       "63    garagequal       159     0.054471\n",
       "64    garagecond       159     0.054471\n",
       "59   garageyrblt       159     0.054471\n",
       "58    garagetype       157     0.053786\n",
       "32  bsmtexposure        82     0.028092\n",
       "31      bsmtcond        82     0.028092\n",
       "30      bsmtqual        81     0.027749\n",
       "35  bsmtfintype2        80     0.027407\n",
       "33  bsmtfintype1        79     0.027064\n",
       "25    masvnrtype        24     0.008222\n",
       "26    masvnrarea        23     0.007879\n",
       "2       mszoning         4     0.001370\n",
       "47  bsmtfullbath         2     0.000685\n",
       "48  bsmthalfbath         2     0.000685\n",
       "55    functional         2     0.000685\n",
       "9      utilities         2     0.000685\n",
       "62    garagearea         1     0.000343\n",
       "61    garagecars         1     0.000343\n",
       "42    electrical         1     0.000343\n",
       "53   kitchenqual         1     0.000343\n",
       "38   totalbsmtsf         1     0.000343\n",
       "37     bsmtunfsf         1     0.000343\n",
       "36    bsmtfinsf2         1     0.000343\n",
       "34    bsmtfinsf1         1     0.000343\n",
       "24   exterior2nd         1     0.000343\n",
       "23   exterior1st         1     0.000343\n",
       "78      saletype         1     0.000343"
      ]
     },
     "execution_count": 16,
     "metadata": {},
     "output_type": "execute_result"
    }
   ],
   "source": [
    "na_checker = check_na(data)\n",
    "na_checker = na_checker.sort_values('na_count', ascending=False)\n",
    "na_checker"
   ]
  },
  {
   "cell_type": "markdown",
   "metadata": {},
   "source": [
    "Drop columns with lots of NAs."
   ]
  },
  {
   "cell_type": "code",
   "execution_count": 17,
   "metadata": {},
   "outputs": [
    {
     "name": "stdout",
     "output_type": "stream",
     "text": [
      "72         poolqc\n",
      "74    miscfeature\n",
      "6           alley\n",
      "73          fence\n",
      "57    fireplacequ\n",
      "Name: column, dtype: object\n"
     ]
    }
   ],
   "source": [
    "columns_with_lots_of_na = na_checker[na_checker['na_fraction'] > .3] ['column']\n",
    "print(columns_with_lots_of_na)\n",
    "data = data.drop(columns=columns_with_lots_of_na)"
   ]
  },
  {
   "cell_type": "markdown",
   "metadata": {},
   "source": [
    "### For numeric columns, fill NAs by mean"
   ]
  },
  {
   "cell_type": "code",
   "execution_count": 18,
   "metadata": {
    "scrolled": true
   },
   "outputs": [],
   "source": [
    "num_vars = list_numeric_columns(data)\n",
    "data[num_vars].mean()\n",
    "data[num_vars] = data[num_vars].fillna(data[num_vars].mean())"
   ]
  },
  {
   "cell_type": "markdown",
   "metadata": {},
   "source": [
    "### Convert quantitative text columns to scores"
   ]
  },
  {
   "cell_type": "code",
   "execution_count": 19,
   "metadata": {
    "collapsed": true
   },
   "outputs": [
    {
     "name": "stdout",
     "output_type": "stream",
     "text": [
      "\n",
      " Converting quantitative text features to scores...\n",
      "\t Feature utilities has 2 NAs, they will be filled by 0\n",
      "\t Feature exterqual has 0 NAs, they will be filled by 0\n",
      "\t Feature extercond has 0 NAs, they will be filled by 0\n",
      "\t Feature heatingqc has 0 NAs, they will be filled by 0\n",
      "\t Feature bsmtqual has 81 NAs, they will be filled by 0\n",
      "\t Feature bsmtcond has 82 NAs, they will be filled by 0\n",
      "\t Feature kitchenqual has 1 NAs, they will be filled by 0\n",
      "\t Feature bsmtexposure has 82 NAs, they will be filled by 0\n",
      "\t Feature bsmtfintype1 has 79 NAs, they will be filled by 0\n"
     ]
    }
   ],
   "source": [
    "data = quant_to_scores(quant_feats, data, scorings)"
   ]
  },
  {
   "cell_type": "code",
   "execution_count": 20,
   "metadata": {
    "collapsed": true
   },
   "outputs": [
    {
     "data": {
      "text/html": [
       "<div>\n",
       "<style scoped>\n",
       "    .dataframe tbody tr th:only-of-type {\n",
       "        vertical-align: middle;\n",
       "    }\n",
       "\n",
       "    .dataframe tbody tr th {\n",
       "        vertical-align: top;\n",
       "    }\n",
       "\n",
       "    .dataframe thead th {\n",
       "        text-align: right;\n",
       "    }\n",
       "</style>\n",
       "<table border=\"1\" class=\"dataframe\">\n",
       "  <thead>\n",
       "    <tr style=\"text-align: right;\">\n",
       "      <th></th>\n",
       "      <th>utilities</th>\n",
       "      <th>exterqual</th>\n",
       "      <th>extercond</th>\n",
       "      <th>heatingqc</th>\n",
       "      <th>bsmtqual</th>\n",
       "      <th>bsmtcond</th>\n",
       "      <th>kitchenqual</th>\n",
       "      <th>bsmtexposure</th>\n",
       "      <th>bsmtfintype1</th>\n",
       "    </tr>\n",
       "  </thead>\n",
       "  <tbody>\n",
       "    <tr>\n",
       "      <th>count</th>\n",
       "      <td>2919.000000</td>\n",
       "      <td>2919.000000</td>\n",
       "      <td>2919.000000</td>\n",
       "      <td>2919.000000</td>\n",
       "      <td>2919.000000</td>\n",
       "      <td>2919.000000</td>\n",
       "      <td>2919.000000</td>\n",
       "      <td>2919.000000</td>\n",
       "      <td>2919.000000</td>\n",
       "    </tr>\n",
       "    <tr>\n",
       "      <th>mean</th>\n",
       "      <td>3.996574</td>\n",
       "      <td>3.396711</td>\n",
       "      <td>3.085646</td>\n",
       "      <td>4.151764</td>\n",
       "      <td>3.477561</td>\n",
       "      <td>2.918465</td>\n",
       "      <td>3.509764</td>\n",
       "      <td>1.623844</td>\n",
       "      <td>3.541624</td>\n",
       "    </tr>\n",
       "    <tr>\n",
       "      <th>std</th>\n",
       "      <td>0.111020</td>\n",
       "      <td>0.580293</td>\n",
       "      <td>0.372361</td>\n",
       "      <td>0.957952</td>\n",
       "      <td>0.905448</td>\n",
       "      <td>0.574950</td>\n",
       "      <td>0.665273</td>\n",
       "      <td>1.070026</td>\n",
       "      <td>2.113851</td>\n",
       "    </tr>\n",
       "    <tr>\n",
       "      <th>min</th>\n",
       "      <td>0.000000</td>\n",
       "      <td>2.000000</td>\n",
       "      <td>1.000000</td>\n",
       "      <td>1.000000</td>\n",
       "      <td>0.000000</td>\n",
       "      <td>0.000000</td>\n",
       "      <td>0.000000</td>\n",
       "      <td>0.000000</td>\n",
       "      <td>0.000000</td>\n",
       "    </tr>\n",
       "    <tr>\n",
       "      <th>25%</th>\n",
       "      <td>4.000000</td>\n",
       "      <td>3.000000</td>\n",
       "      <td>3.000000</td>\n",
       "      <td>3.000000</td>\n",
       "      <td>3.000000</td>\n",
       "      <td>3.000000</td>\n",
       "      <td>3.000000</td>\n",
       "      <td>1.000000</td>\n",
       "      <td>1.000000</td>\n",
       "    </tr>\n",
       "    <tr>\n",
       "      <th>50%</th>\n",
       "      <td>4.000000</td>\n",
       "      <td>3.000000</td>\n",
       "      <td>3.000000</td>\n",
       "      <td>5.000000</td>\n",
       "      <td>4.000000</td>\n",
       "      <td>3.000000</td>\n",
       "      <td>3.000000</td>\n",
       "      <td>1.000000</td>\n",
       "      <td>4.000000</td>\n",
       "    </tr>\n",
       "    <tr>\n",
       "      <th>75%</th>\n",
       "      <td>4.000000</td>\n",
       "      <td>4.000000</td>\n",
       "      <td>3.000000</td>\n",
       "      <td>5.000000</td>\n",
       "      <td>4.000000</td>\n",
       "      <td>3.000000</td>\n",
       "      <td>4.000000</td>\n",
       "      <td>2.000000</td>\n",
       "      <td>6.000000</td>\n",
       "    </tr>\n",
       "    <tr>\n",
       "      <th>max</th>\n",
       "      <td>4.000000</td>\n",
       "      <td>5.000000</td>\n",
       "      <td>5.000000</td>\n",
       "      <td>5.000000</td>\n",
       "      <td>5.000000</td>\n",
       "      <td>4.000000</td>\n",
       "      <td>5.000000</td>\n",
       "      <td>4.000000</td>\n",
       "      <td>6.000000</td>\n",
       "    </tr>\n",
       "  </tbody>\n",
       "</table>\n",
       "</div>"
      ],
      "text/plain": [
       "         utilities    exterqual    extercond    heatingqc     bsmtqual  \\\n",
       "count  2919.000000  2919.000000  2919.000000  2919.000000  2919.000000   \n",
       "mean      3.996574     3.396711     3.085646     4.151764     3.477561   \n",
       "std       0.111020     0.580293     0.372361     0.957952     0.905448   \n",
       "min       0.000000     2.000000     1.000000     1.000000     0.000000   \n",
       "25%       4.000000     3.000000     3.000000     3.000000     3.000000   \n",
       "50%       4.000000     3.000000     3.000000     5.000000     4.000000   \n",
       "75%       4.000000     4.000000     3.000000     5.000000     4.000000   \n",
       "max       4.000000     5.000000     5.000000     5.000000     5.000000   \n",
       "\n",
       "          bsmtcond  kitchenqual  bsmtexposure  bsmtfintype1  \n",
       "count  2919.000000  2919.000000   2919.000000   2919.000000  \n",
       "mean      2.918465     3.509764      1.623844      3.541624  \n",
       "std       0.574950     0.665273      1.070026      2.113851  \n",
       "min       0.000000     0.000000      0.000000      0.000000  \n",
       "25%       3.000000     3.000000      1.000000      1.000000  \n",
       "50%       3.000000     3.000000      1.000000      4.000000  \n",
       "75%       3.000000     4.000000      2.000000      6.000000  \n",
       "max       4.000000     5.000000      4.000000      6.000000  "
      ]
     },
     "execution_count": 20,
     "metadata": {},
     "output_type": "execute_result"
    }
   ],
   "source": [
    "data[quant_feats].describe()"
   ]
  },
  {
   "cell_type": "markdown",
   "metadata": {},
   "source": [
    "### Compute derived features\n",
    "\n",
    "+ age from built\n",
    "+ aggr features by neighborhood:\n",
    "    + mean price\n",
    "    + diff from avg house size\n",
    "    + diff from avg lot size\n",
    "    + diff from avg age\n",
    "    + diff from avg house quality"
   ]
  },
  {
   "cell_type": "code",
   "execution_count": 21,
   "metadata": {},
   "outputs": [],
   "source": [
    "data['age_from_built'] = data.apply(axis=1, func=cal_age_from_built)"
   ]
  },
  {
   "cell_type": "code",
   "execution_count": 22,
   "metadata": {},
   "outputs": [],
   "source": [
    "data['adjacency'] = data['condition1'].apply(to_adjacency)"
   ]
  },
  {
   "cell_type": "code",
   "execution_count": 23,
   "metadata": {},
   "outputs": [],
   "source": [
    "# TODO: drop non-important feats\n",
    "to_drop = [ 'garagetype', 'garagefinish', 'garagequal', 'garagecond',\n",
    "            'condition1', 'condition2', \n",
    "           'bsmtfintype2', 'street',\n",
    "          'landslope', 'landcontour', 'bldgtype', \n",
    "           'heating',\n",
    "            'roofmatl', \n",
    "           'masvnrtype',\n",
    "          ]\n",
    "#            'centralair','electrical', \n",
    "#            'functional', 'paveddrive',\n",
    "#            'saletype', 'salecondition',"
   ]
  },
  {
   "cell_type": "code",
   "execution_count": 24,
   "metadata": {},
   "outputs": [],
   "source": [
    "data = data.drop(columns=to_drop)"
   ]
  },
  {
   "cell_type": "code",
   "execution_count": 25,
   "metadata": {
    "scrolled": true
   },
   "outputs": [
    {
     "data": {
      "text/html": [
       "<div>\n",
       "<style scoped>\n",
       "    .dataframe tbody tr th:only-of-type {\n",
       "        vertical-align: middle;\n",
       "    }\n",
       "\n",
       "    .dataframe tbody tr th {\n",
       "        vertical-align: top;\n",
       "    }\n",
       "\n",
       "    .dataframe thead th {\n",
       "        text-align: right;\n",
       "    }\n",
       "</style>\n",
       "<table border=\"1\" class=\"dataframe\">\n",
       "  <thead>\n",
       "    <tr style=\"text-align: right;\">\n",
       "      <th></th>\n",
       "      <th>neighborhood</th>\n",
       "      <th>avg_saleprice</th>\n",
       "      <th>avg_lotarea</th>\n",
       "      <th>avg_grlivarea</th>\n",
       "    </tr>\n",
       "  </thead>\n",
       "  <tbody>\n",
       "    <tr>\n",
       "      <th>0</th>\n",
       "      <td>Blmngtn</td>\n",
       "      <td>118314.464286</td>\n",
       "      <td>3399.357143</td>\n",
       "      <td>1404.892857</td>\n",
       "    </tr>\n",
       "    <tr>\n",
       "      <th>1</th>\n",
       "      <td>Blueste</td>\n",
       "      <td>27500.000000</td>\n",
       "      <td>2346.500000</td>\n",
       "      <td>1159.700000</td>\n",
       "    </tr>\n",
       "    <tr>\n",
       "      <th>2</th>\n",
       "      <td>BrDale</td>\n",
       "      <td>55730.000000</td>\n",
       "      <td>1840.633333</td>\n",
       "      <td>1115.233333</td>\n",
       "    </tr>\n",
       "    <tr>\n",
       "      <th>3</th>\n",
       "      <td>BrkSide</td>\n",
       "      <td>67040.509259</td>\n",
       "      <td>6959.777778</td>\n",
       "      <td>1234.907407</td>\n",
       "    </tr>\n",
       "    <tr>\n",
       "      <th>4</th>\n",
       "      <td>ClearCr</td>\n",
       "      <td>135268.909091</td>\n",
       "      <td>24842.250000</td>\n",
       "      <td>1744.386364</td>\n",
       "    </tr>\n",
       "    <tr>\n",
       "      <th>5</th>\n",
       "      <td>CollgCr</td>\n",
       "      <td>111216.726592</td>\n",
       "      <td>9999.752809</td>\n",
       "      <td>1496.119850</td>\n",
       "    </tr>\n",
       "    <tr>\n",
       "      <th>6</th>\n",
       "      <td>Crawfor</td>\n",
       "      <td>104289.912621</td>\n",
       "      <td>11650.106796</td>\n",
       "      <td>1722.796117</td>\n",
       "    </tr>\n",
       "    <tr>\n",
       "      <th>7</th>\n",
       "      <td>Edwards</td>\n",
       "      <td>66092.628866</td>\n",
       "      <td>10355.536082</td>\n",
       "      <td>1337.737113</td>\n",
       "    </tr>\n",
       "    <tr>\n",
       "      <th>8</th>\n",
       "      <td>Gilbert</td>\n",
       "      <td>92336.400000</td>\n",
       "      <td>11342.369697</td>\n",
       "      <td>1620.896970</td>\n",
       "    </tr>\n",
       "    <tr>\n",
       "      <th>9</th>\n",
       "      <td>IDOTRR</td>\n",
       "      <td>39834.193548</td>\n",
       "      <td>8826.473118</td>\n",
       "      <td>1205.247312</td>\n",
       "    </tr>\n",
       "    <tr>\n",
       "      <th>10</th>\n",
       "      <td>MeadowV</td>\n",
       "      <td>45291.891892</td>\n",
       "      <td>2109.027027</td>\n",
       "      <td>1066.702703</td>\n",
       "    </tr>\n",
       "    <tr>\n",
       "      <th>11</th>\n",
       "      <td>Mitchel</td>\n",
       "      <td>67168.736842</td>\n",
       "      <td>12019.964912</td>\n",
       "      <td>1327.991228</td>\n",
       "    </tr>\n",
       "    <tr>\n",
       "      <th>12</th>\n",
       "      <td>NAmes</td>\n",
       "      <td>74075.830700</td>\n",
       "      <td>10039.702032</td>\n",
       "      <td>1292.054176</td>\n",
       "    </tr>\n",
       "    <tr>\n",
       "      <th>13</th>\n",
       "      <td>NPkVill</td>\n",
       "      <td>55836.956522</td>\n",
       "      <td>2755.608696</td>\n",
       "      <td>1244.086957</td>\n",
       "    </tr>\n",
       "    <tr>\n",
       "      <th>14</th>\n",
       "      <td>NWAmes</td>\n",
       "      <td>105348.511450</td>\n",
       "      <td>11661.694656</td>\n",
       "      <td>1688.770992</td>\n",
       "    </tr>\n",
       "    <tr>\n",
       "      <th>15</th>\n",
       "      <td>NoRidge</td>\n",
       "      <td>193621.239437</td>\n",
       "      <td>12975.577465</td>\n",
       "      <td>2480.633803</td>\n",
       "    </tr>\n",
       "    <tr>\n",
       "      <th>16</th>\n",
       "      <td>NridgHt</td>\n",
       "      <td>146703.843373</td>\n",
       "      <td>11216.524096</td>\n",
       "      <td>1942.638554</td>\n",
       "    </tr>\n",
       "    <tr>\n",
       "      <th>17</th>\n",
       "      <td>OldTown</td>\n",
       "      <td>60625.351464</td>\n",
       "      <td>8240.903766</td>\n",
       "      <td>1431.974895</td>\n",
       "    </tr>\n",
       "    <tr>\n",
       "      <th>18</th>\n",
       "      <td>SWISU</td>\n",
       "      <td>74266.333333</td>\n",
       "      <td>7615.375000</td>\n",
       "      <td>1636.479167</td>\n",
       "    </tr>\n",
       "    <tr>\n",
       "      <th>19</th>\n",
       "      <td>Sawyer</td>\n",
       "      <td>67037.695364</td>\n",
       "      <td>10371.854305</td>\n",
       "      <td>1183.026490</td>\n",
       "    </tr>\n",
       "    <tr>\n",
       "      <th>20</th>\n",
       "      <td>SawyerW</td>\n",
       "      <td>88054.336000</td>\n",
       "      <td>10155.248000</td>\n",
       "      <td>1604.064000</td>\n",
       "    </tr>\n",
       "    <tr>\n",
       "      <th>21</th>\n",
       "      <td>Somerst</td>\n",
       "      <td>106498.164835</td>\n",
       "      <td>7610.675824</td>\n",
       "      <td>1604.829670</td>\n",
       "    </tr>\n",
       "    <tr>\n",
       "      <th>22</th>\n",
       "      <td>StoneBr</td>\n",
       "      <td>152205.392157</td>\n",
       "      <td>11383.392157</td>\n",
       "      <td>1949.215686</td>\n",
       "    </tr>\n",
       "    <tr>\n",
       "      <th>23</th>\n",
       "      <td>Timber</td>\n",
       "      <td>127852.819444</td>\n",
       "      <td>18233.541667</td>\n",
       "      <td>1714.638889</td>\n",
       "    </tr>\n",
       "    <tr>\n",
       "      <th>24</th>\n",
       "      <td>Veenker</td>\n",
       "      <td>109437.500000</td>\n",
       "      <td>15482.208333</td>\n",
       "      <td>1819.541667</td>\n",
       "    </tr>\n",
       "  </tbody>\n",
       "</table>\n",
       "</div>"
      ],
      "text/plain": [
       "   neighborhood  avg_saleprice   avg_lotarea  avg_grlivarea\n",
       "0       Blmngtn  118314.464286   3399.357143    1404.892857\n",
       "1       Blueste   27500.000000   2346.500000    1159.700000\n",
       "2        BrDale   55730.000000   1840.633333    1115.233333\n",
       "3       BrkSide   67040.509259   6959.777778    1234.907407\n",
       "4       ClearCr  135268.909091  24842.250000    1744.386364\n",
       "5       CollgCr  111216.726592   9999.752809    1496.119850\n",
       "6       Crawfor  104289.912621  11650.106796    1722.796117\n",
       "7       Edwards   66092.628866  10355.536082    1337.737113\n",
       "8       Gilbert   92336.400000  11342.369697    1620.896970\n",
       "9        IDOTRR   39834.193548   8826.473118    1205.247312\n",
       "10      MeadowV   45291.891892   2109.027027    1066.702703\n",
       "11      Mitchel   67168.736842  12019.964912    1327.991228\n",
       "12        NAmes   74075.830700  10039.702032    1292.054176\n",
       "13      NPkVill   55836.956522   2755.608696    1244.086957\n",
       "14       NWAmes  105348.511450  11661.694656    1688.770992\n",
       "15      NoRidge  193621.239437  12975.577465    2480.633803\n",
       "16      NridgHt  146703.843373  11216.524096    1942.638554\n",
       "17      OldTown   60625.351464   8240.903766    1431.974895\n",
       "18        SWISU   74266.333333   7615.375000    1636.479167\n",
       "19       Sawyer   67037.695364  10371.854305    1183.026490\n",
       "20      SawyerW   88054.336000  10155.248000    1604.064000\n",
       "21      Somerst  106498.164835   7610.675824    1604.829670\n",
       "22      StoneBr  152205.392157  11383.392157    1949.215686\n",
       "23       Timber  127852.819444  18233.541667    1714.638889\n",
       "24      Veenker  109437.500000  15482.208333    1819.541667"
      ]
     },
     "execution_count": 25,
     "metadata": {},
     "output_type": "execute_result"
    }
   ],
   "source": [
    "to_aggreg = ['saleprice', 'lotarea', 'grlivarea']\n",
    "avg_by_nbh = data.groupby('neighborhood')[to_aggreg].mean().add_prefix('avg_').reset_index()\n",
    "avg_by_nbh"
   ]
  },
  {
   "cell_type": "code",
   "execution_count": null,
   "metadata": {},
   "outputs": [],
   "source": [
    "data = pd.merge(data, avg_by_nbh)"
   ]
  },
  {
   "cell_type": "code",
   "execution_count": 32,
   "metadata": {},
   "outputs": [],
   "source": [
    "data['diff_from_avg_house_size_in_neighborhood'] = data['grlivarea'] - data['avg_grlivarea']\n",
    "data['diff_from_avg_lot_size_in_neighborhood'] = data['lotarea'] - data['avg_lotarea']\n",
    "data = data.rename(columns= {'avg_saleprice': 'avg_saleprice_in_neighborhood'})"
   ]
  },
  {
   "cell_type": "code",
   "execution_count": 64,
   "metadata": {},
   "outputs": [],
   "source": [
    "data['house_land_ratio'] = data['grlivarea'] / data['lotarea']"
   ]
  },
  {
   "cell_type": "code",
   "execution_count": 65,
   "metadata": {},
   "outputs": [],
   "source": [
    "train_part = data[data[target] > 0]\n",
    "test_part = data[data[target]==0]\n",
    "y_train = train_part[target]"
   ]
  },
  {
   "cell_type": "code",
   "execution_count": null,
   "metadata": {
    "scrolled": true
   },
   "outputs": [],
   "source": [
    "# list(data)"
   ]
  },
  {
   "cell_type": "markdown",
   "metadata": {},
   "source": [
    "### Simple model\n",
    "Linear regression with some more features."
   ]
  },
  {
   "cell_type": "code",
   "execution_count": 66,
   "metadata": {},
   "outputs": [],
   "source": [
    "base_feats = ['mosold', 'yrsold', 'lotfrontage', 'grlivarea', 'bedroomabvgr', 'house_land_ratio']\n",
    "X_train = train_part[base_feats]\n",
    "X_test = test_part[base_feats]"
   ]
  },
  {
   "cell_type": "code",
   "execution_count": 70,
   "metadata": {},
   "outputs": [
    {
     "name": "stdout",
     "output_type": "stream",
     "text": [
      "0    165093.350481\n",
      "1    142413.338298\n",
      "2    198069.068596\n",
      "3    115702.050562\n",
      "4     97833.416876\n",
      "Name: SalePrice, dtype: float64\n"
     ]
    }
   ],
   "source": [
    "reg = RidgeCV(alphas=[.1, 1, 10], cv=5)\n",
    "reg.fit(X_train, y_train)\n",
    "ridge_res = make_output(reg.predict(X_test))\n",
    "print(ridge_res['SalePrice'].head())\n",
    "ridge_res.to_csv('ridge_pred.csv', index=False)"
   ]
  },
  {
   "cell_type": "code",
   "execution_count": 69,
   "metadata": {},
   "outputs": [
    {
     "data": {
      "text/plain": [
       "0    149675.230512\n",
       "1    122311.665139\n",
       "2    199717.548510\n",
       "3    128806.519177\n",
       "4    112835.566624\n",
       "Name: SalePrice, dtype: float64"
      ]
     },
     "execution_count": 69,
     "metadata": {},
     "output_type": "execute_result"
    }
   ],
   "source": [
    "reg = LassoCV( cv=5)\n",
    "reg.fit(X_train, y_train)\n",
    "lasso_res = make_output(reg.predict(X_test))\n",
    "lasso_res.SalePrice.head()"
   ]
  },
  {
   "cell_type": "code",
   "execution_count": 58,
   "metadata": {},
   "outputs": [],
   "source": [
    "lasso_res.to_csv('lasso_pred.csv', index=False)"
   ]
  },
  {
   "cell_type": "code",
   "execution_count": 34,
   "metadata": {},
   "outputs": [],
   "source": [
    "simple_feats = ['mosold', 'yrsold', 'lotarea', 'grlivarea', 'bedroomabvgr',\n",
    "                'avg_saleprice_in_neighborhood', \n",
    "                'diff_from_avg_house_size_in_neighborhood',\n",
    "                'diff_from_avg_lot_size_in_neighborhood'\n",
    "               ]\n",
    "\n",
    "X_train = train_part[simple_feats]\n",
    "X_test = test_part[simple_feats]"
   ]
  },
  {
   "cell_type": "code",
   "execution_count": 36,
   "metadata": {},
   "outputs": [],
   "source": [
    "# for linear reg\n",
    "scaler = StandardScaler()\n",
    "X_train = scaler.fit_transform(X_train)\n",
    "X_test = scaler.fit_transform(X_test)\n",
    "\n",
    "reg = LinearRegression()\n",
    "reg.fit(X_train, y_train)\n",
    "y_pred = reg.predict(X_test)\n",
    "\n",
    "lin_res = make_output(y_pred)\n",
    "lin_res.to_csv('lin_pred.csv', index=False)"
   ]
  },
  {
   "cell_type": "code",
   "execution_count": 37,
   "metadata": {},
   "outputs": [
    {
     "name": "stdout",
     "output_type": "stream",
     "text": [
      "count      1459.000000\n",
      "mean     180921.195890\n",
      "std       66750.481038\n",
      "min       50324.140672\n",
      "25%      130092.720341\n",
      "50%      170348.365089\n",
      "75%      217925.072868\n",
      "max      544280.510733\n",
      "Name: SalePrice, dtype: float64\n"
     ]
    }
   ],
   "source": [
    "print(lin_res.SalePrice.describe())"
   ]
  },
  {
   "cell_type": "markdown",
   "metadata": {},
   "source": [
    "### Simple RF"
   ]
  },
  {
   "cell_type": "code",
   "execution_count": 38,
   "metadata": {},
   "outputs": [
    {
     "data": {
      "text/plain": [
       "RandomForestRegressor(max_features=1.0, n_jobs=-1, random_state=1)"
      ]
     },
     "execution_count": 38,
     "metadata": {},
     "output_type": "execute_result"
    }
   ],
   "source": [
    "rf = RandomForestRegressor(n_estimators=100, max_features=1.0, n_jobs=-1,\n",
    "                               random_state=1,\n",
    "                               )\n",
    "rf.fit(X_train, y_train)"
   ]
  },
  {
   "cell_type": "code",
   "execution_count": 39,
   "metadata": {},
   "outputs": [],
   "source": [
    "rf_res = make_output(rf.predict(X_test))\n",
    "rf_res.to_csv('rf_pred0.csv', index=False)"
   ]
  },
  {
   "cell_type": "code",
   "execution_count": 40,
   "metadata": {},
   "outputs": [
    {
     "data": {
      "text/plain": [
       "count      1459.000000\n",
       "mean     185313.241892\n",
       "std       75467.504985\n",
       "min       64684.440000\n",
       "25%      137135.625000\n",
       "50%      164547.000000\n",
       "75%      218696.970000\n",
       "max      618050.760000\n",
       "Name: SalePrice, dtype: float64"
      ]
     },
     "execution_count": 40,
     "metadata": {},
     "output_type": "execute_result"
    }
   ],
   "source": [
    "rf_res.SalePrice.describe()"
   ]
  },
  {
   "cell_type": "code",
   "execution_count": 41,
   "metadata": {},
   "outputs": [
    {
     "data": {
      "text/html": [
       "<div>\n",
       "<style scoped>\n",
       "    .dataframe tbody tr th:only-of-type {\n",
       "        vertical-align: middle;\n",
       "    }\n",
       "\n",
       "    .dataframe tbody tr th {\n",
       "        vertical-align: top;\n",
       "    }\n",
       "\n",
       "    .dataframe thead th {\n",
       "        text-align: right;\n",
       "    }\n",
       "</style>\n",
       "<table border=\"1\" class=\"dataframe\">\n",
       "  <thead>\n",
       "    <tr style=\"text-align: right;\">\n",
       "      <th></th>\n",
       "      <th>Id</th>\n",
       "      <th>SalePrice</th>\n",
       "    </tr>\n",
       "  </thead>\n",
       "  <tbody>\n",
       "    <tr>\n",
       "      <th>0</th>\n",
       "      <td>1461</td>\n",
       "      <td>191370.46</td>\n",
       "    </tr>\n",
       "    <tr>\n",
       "      <th>1</th>\n",
       "      <td>1462</td>\n",
       "      <td>142251.50</td>\n",
       "    </tr>\n",
       "    <tr>\n",
       "      <th>2</th>\n",
       "      <td>1463</td>\n",
       "      <td>207162.93</td>\n",
       "    </tr>\n",
       "    <tr>\n",
       "      <th>3</th>\n",
       "      <td>1464</td>\n",
       "      <td>149170.00</td>\n",
       "    </tr>\n",
       "    <tr>\n",
       "      <th>4</th>\n",
       "      <td>1465</td>\n",
       "      <td>136612.00</td>\n",
       "    </tr>\n",
       "  </tbody>\n",
       "</table>\n",
       "</div>"
      ],
      "text/plain": [
       "     Id  SalePrice\n",
       "0  1461  191370.46\n",
       "1  1462  142251.50\n",
       "2  1463  207162.93\n",
       "3  1464  149170.00\n",
       "4  1465  136612.00"
      ]
     },
     "execution_count": 41,
     "metadata": {},
     "output_type": "execute_result"
    }
   ],
   "source": [
    "rf_res.head()"
   ]
  },
  {
   "cell_type": "markdown",
   "metadata": {},
   "source": [
    "### Encode cat features"
   ]
  },
  {
   "cell_type": "code",
   "execution_count": null,
   "metadata": {},
   "outputs": [],
   "source": [
    "cat_feats = list_string_columns(data)\n",
    "print('# cat feats: ', len(cat_feats))\n",
    "print(cat_feats)"
   ]
  },
  {
   "cell_type": "code",
   "execution_count": null,
   "metadata": {},
   "outputs": [],
   "source": [
    "data[cat_feats].describe()"
   ]
  },
  {
   "cell_type": "code",
   "execution_count": null,
   "metadata": {},
   "outputs": [],
   "source": [
    "dump_data = encode_cat_feats(data, cat_feats=cat_feats, dummy_na=True)\n",
    "print(dump_data.shape)\n",
    "# dump_data.head()"
   ]
  },
  {
   "cell_type": "markdown",
   "metadata": {},
   "source": [
    "## Base RF\n",
    "\n",
    "No tuning, no new features."
   ]
  },
  {
   "cell_type": "code",
   "execution_count": null,
   "metadata": {},
   "outputs": [],
   "source": [
    "encoded_train = dump_data.loc[dump_data[target] != 0].copy()\n",
    "na_checker = check_na(encoded_train)\n",
    "if not na_checker.empty:\n",
    "    print(na_checker)\n",
    "\n",
    "X_train, X_valid, y_train, y_valid = split_train_valid(encoded_train, target)\n",
    "\n",
    "base_rf = RandomForestRegressor(n_estimators=100, max_features=1.0, n_jobs=-1,\n",
    "                               random_state=1,\n",
    "                               )\n",
    "base_rf.fit(X_train, y_train)\n",
    "\n",
    "y_pred = base_rf.predict(X_valid)\n",
    "base_rmse = np.sqrt(mean_squared_error(y_valid, y_pred)) \n",
    "print('If predict directly sale price, base RMSE: ', round(base_rmse, 2))\n",
    "base_rmsle = np.sqrt(mean_squared_log_error(y_valid, y_pred))\n",
    "print('base RMSLE: ', base_rmsle)"
   ]
  },
  {
   "cell_type": "code",
   "execution_count": null,
   "metadata": {
    "scrolled": true
   },
   "outputs": [],
   "source": [
    "data[data.saleprice != 0].saleprice.describe()"
   ]
  },
  {
   "cell_type": "markdown",
   "metadata": {},
   "source": [
    "As sale prices are at least 30K, this RMSE of less than 2K is really nice.\n",
    "But we need to see if we have overfitting here. This will be in next version."
   ]
  },
  {
   "cell_type": "markdown",
   "metadata": {},
   "source": [
    "## Predict on test set"
   ]
  },
  {
   "cell_type": "code",
   "execution_count": null,
   "metadata": {},
   "outputs": [],
   "source": [
    "X_test = dump_data.loc[dump_data[target] == 0].drop(columns=[target])\n",
    "print(X_test.shape)\n",
    "\n",
    "y_pred = base_rf.predict(X_test)"
   ]
  },
  {
   "cell_type": "code",
   "execution_count": null,
   "metadata": {},
   "outputs": [],
   "source": [
    "res = make_output(y_pred)\n",
    "res.SalePrice.describe()"
   ]
  },
  {
   "cell_type": "code",
   "execution_count": null,
   "metadata": {},
   "outputs": [],
   "source": [
    "res.to_csv('pred1.csv', index=False)"
   ]
  },
  {
   "cell_type": "markdown",
   "metadata": {},
   "source": [
    "## Run CV to avoid overfitting\n",
    "\n",
    "Tune RF via randomized search."
   ]
  },
  {
   "cell_type": "code",
   "execution_count": null,
   "metadata": {},
   "outputs": [],
   "source": [
    "from sklearn.model_selection import RandomizedSearchCV\n",
    "# Number of trees in random forest\n",
    "n_estimators = [int(x) for x in np.linspace(start = 100, stop = 500, num = 5)]\n",
    "# Number of features to consider at every split\n",
    "max_features = ['auto', 'sqrt']\n",
    "# Maximum number of levels in tree\n",
    "max_depth = [int(x) for x in np.linspace(4, 24, num = 6)]\n",
    "max_depth.append(None)\n",
    "# Minimum number of samples required to split a node\n",
    "min_samples_split = [2, 5, 10]\n",
    "# Minimum number of samples required at each leaf node\n",
    "min_samples_leaf = [1, 2, 4]\n",
    "# Method of selecting samples for training each tree\n",
    "bootstrap = [True, False]\n",
    "# Create the random grid\n",
    "random_grid = {'n_estimators': n_estimators,\n",
    "               'max_features': max_features,\n",
    "               'max_depth': max_depth,\n",
    "               'min_samples_split': min_samples_split,\n",
    "               'min_samples_leaf': min_samples_leaf,\n",
    "               'bootstrap': bootstrap}\n",
    "print(random_grid)"
   ]
  },
  {
   "cell_type": "code",
   "execution_count": null,
   "metadata": {},
   "outputs": [],
   "source": [
    "# base model\n",
    "rf = RandomForestRegressor()\n",
    "# Random search of parameters, using 3 fold cross validation, \n",
    "# search across 100 different combinations, and use all available cores\n",
    "rf_random = RandomizedSearchCV(estimator = rf, \n",
    "                               param_distributions = random_grid, \n",
    "                               n_iter = 100, cv = 3, verbose=2, \n",
    "                               random_state=42, \n",
    "                               n_jobs = -1\n",
    "                              )"
   ]
  },
  {
   "cell_type": "code",
   "execution_count": null,
   "metadata": {},
   "outputs": [],
   "source": [
    "encoded_train = dump_data[dump_data[target] != 0].copy()\n",
    "y = encoded_train.pop(target)\n",
    "X = encoded_train"
   ]
  },
  {
   "cell_type": "code",
   "execution_count": null,
   "metadata": {},
   "outputs": [],
   "source": [
    "rf_random.fit(X, y)"
   ]
  },
  {
   "cell_type": "code",
   "execution_count": null,
   "metadata": {},
   "outputs": [],
   "source": [
    "rf_random.best_params_"
   ]
  },
  {
   "cell_type": "code",
   "execution_count": null,
   "metadata": {},
   "outputs": [],
   "source": [
    "def cal_rmsle(estimator, X_valid, y_valid):\n",
    "    y_pred = estimator.predict(X_valid)\n",
    "    return np.sqrt(mean_squared_log_error(y_valid, y_pred))"
   ]
  },
  {
   "cell_type": "code",
   "execution_count": null,
   "metadata": {},
   "outputs": [],
   "source": [
    "rf_best = rf_random.best_estimator_\n",
    "print(cal_rmsle(rf_best, X_valid, y_valid))"
   ]
  },
  {
   "cell_type": "code",
   "execution_count": null,
   "metadata": {},
   "outputs": [],
   "source": [
    "y_pred = rf_best.predict(X_test)\n",
    "res = make_output(y_pred)\n",
    "res.SalePrice.describe()"
   ]
  },
  {
   "cell_type": "code",
   "execution_count": null,
   "metadata": {},
   "outputs": [],
   "source": [
    "res.to_csv('tuned_pred.csv', index=False)"
   ]
  }
 ],
 "metadata": {
  "kernelspec": {
   "display_name": "Python 3",
   "language": "python",
   "name": "python3"
  },
  "language_info": {
   "codemirror_mode": {
    "name": "ipython",
    "version": 3
   },
   "file_extension": ".py",
   "mimetype": "text/x-python",
   "name": "python",
   "nbconvert_exporter": "python",
   "pygments_lexer": "ipython3",
   "version": "3.7.7"
  }
 },
 "nbformat": 4,
 "nbformat_minor": 4
}
