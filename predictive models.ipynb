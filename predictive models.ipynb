{
 "cells": [
  {
   "cell_type": "markdown",
   "metadata": {},
   "source": [
    "I will start with a standard random forest (RF) as base model. Then we will tune hyperparams of RF to achieve a better model. Finally, I will try XGBoost."
   ]
  },
  {
   "cell_type": "markdown",
   "metadata": {},
   "source": [
    "We will pick features based on analysis from EDA notebook."
   ]
  },
  {
   "cell_type": "code",
   "execution_count": 4,
   "metadata": {},
   "outputs": [],
   "source": [
    "import pandas as pd\n",
    "import numpy as np\n",
    "import matplotlib.pyplot as plt\n",
    "import seaborn as sns\n",
    "import os\n",
    "\n",
    "from sklearn.model_selection import GridSearchCV, train_test_split, RandomizedSearchCV\n",
    "from sklearn.linear_model import LinearRegression, RidgeCV, LassoCV\n",
    "from sklearn.ensemble import RandomForestRegressor\n",
    "from sklearn.metrics import  mean_absolute_error, mean_squared_error"
   ]
  },
  {
   "cell_type": "code",
   "execution_count": 3,
   "metadata": {
    "collapsed": true
   },
   "outputs": [
    {
     "name": "stdout",
     "output_type": "stream",
     "text": [
      "Collecting importlib\n",
      "  Downloading importlib-1.0.4.zip (7.1 kB)\n",
      "Building wheels for collected packages: importlib\n",
      "  Building wheel for importlib (setup.py): started\n",
      "  Building wheel for importlib (setup.py): finished with status 'done'\n",
      "  Created wheel for importlib: filename=importlib-1.0.4-py3-none-any.whl size=5862 sha256=3fca76519f9cf799e42885cb1aa470a5ca44847a55bcebae5623310ee67d7bda\n",
      "  Stored in directory: c:\\users\\victor\\appdata\\local\\pip\\cache\\wheels\\86\\e4\\cb\\62b0e9efd7da1e984baec0c0ded0b727a7ed25e1904ed51fca\n",
      "Successfully built importlib\n",
      "Installing collected packages: importlib\n",
      "Successfully installed importlib-1.0.4\n"
     ]
    }
   ],
   "source": [
    "!pip install -U importlib"
   ]
  },
  {
   "cell_type": "code",
   "execution_count": 5,
   "metadata": {
    "collapsed": true
   },
   "outputs": [
    {
     "name": "stdout",
     "output_type": "stream",
     "text": [
      "(1460, 81)\n",
      "(1459, 80)\n"
     ]
    },
    {
     "data": {
      "text/html": [
       "<div>\n",
       "<style scoped>\n",
       "    .dataframe tbody tr th:only-of-type {\n",
       "        vertical-align: middle;\n",
       "    }\n",
       "\n",
       "    .dataframe tbody tr th {\n",
       "        vertical-align: top;\n",
       "    }\n",
       "\n",
       "    .dataframe thead th {\n",
       "        text-align: right;\n",
       "    }\n",
       "</style>\n",
       "<table border=\"1\" class=\"dataframe\">\n",
       "  <thead>\n",
       "    <tr style=\"text-align: right;\">\n",
       "      <th></th>\n",
       "      <th>Id</th>\n",
       "      <th>MSSubClass</th>\n",
       "      <th>MSZoning</th>\n",
       "      <th>LotFrontage</th>\n",
       "      <th>LotArea</th>\n",
       "      <th>Street</th>\n",
       "      <th>Alley</th>\n",
       "      <th>LotShape</th>\n",
       "      <th>LandContour</th>\n",
       "      <th>Utilities</th>\n",
       "      <th>...</th>\n",
       "      <th>PoolArea</th>\n",
       "      <th>PoolQC</th>\n",
       "      <th>Fence</th>\n",
       "      <th>MiscFeature</th>\n",
       "      <th>MiscVal</th>\n",
       "      <th>MoSold</th>\n",
       "      <th>YrSold</th>\n",
       "      <th>SaleType</th>\n",
       "      <th>SaleCondition</th>\n",
       "      <th>SalePrice</th>\n",
       "    </tr>\n",
       "  </thead>\n",
       "  <tbody>\n",
       "    <tr>\n",
       "      <th>0</th>\n",
       "      <td>1</td>\n",
       "      <td>60</td>\n",
       "      <td>RL</td>\n",
       "      <td>65.0</td>\n",
       "      <td>8450</td>\n",
       "      <td>Pave</td>\n",
       "      <td>NaN</td>\n",
       "      <td>Reg</td>\n",
       "      <td>Lvl</td>\n",
       "      <td>AllPub</td>\n",
       "      <td>...</td>\n",
       "      <td>0</td>\n",
       "      <td>NaN</td>\n",
       "      <td>NaN</td>\n",
       "      <td>NaN</td>\n",
       "      <td>0</td>\n",
       "      <td>2</td>\n",
       "      <td>2008</td>\n",
       "      <td>WD</td>\n",
       "      <td>Normal</td>\n",
       "      <td>208500</td>\n",
       "    </tr>\n",
       "    <tr>\n",
       "      <th>1</th>\n",
       "      <td>2</td>\n",
       "      <td>20</td>\n",
       "      <td>RL</td>\n",
       "      <td>80.0</td>\n",
       "      <td>9600</td>\n",
       "      <td>Pave</td>\n",
       "      <td>NaN</td>\n",
       "      <td>Reg</td>\n",
       "      <td>Lvl</td>\n",
       "      <td>AllPub</td>\n",
       "      <td>...</td>\n",
       "      <td>0</td>\n",
       "      <td>NaN</td>\n",
       "      <td>NaN</td>\n",
       "      <td>NaN</td>\n",
       "      <td>0</td>\n",
       "      <td>5</td>\n",
       "      <td>2007</td>\n",
       "      <td>WD</td>\n",
       "      <td>Normal</td>\n",
       "      <td>181500</td>\n",
       "    </tr>\n",
       "    <tr>\n",
       "      <th>2</th>\n",
       "      <td>3</td>\n",
       "      <td>60</td>\n",
       "      <td>RL</td>\n",
       "      <td>68.0</td>\n",
       "      <td>11250</td>\n",
       "      <td>Pave</td>\n",
       "      <td>NaN</td>\n",
       "      <td>IR1</td>\n",
       "      <td>Lvl</td>\n",
       "      <td>AllPub</td>\n",
       "      <td>...</td>\n",
       "      <td>0</td>\n",
       "      <td>NaN</td>\n",
       "      <td>NaN</td>\n",
       "      <td>NaN</td>\n",
       "      <td>0</td>\n",
       "      <td>9</td>\n",
       "      <td>2008</td>\n",
       "      <td>WD</td>\n",
       "      <td>Normal</td>\n",
       "      <td>223500</td>\n",
       "    </tr>\n",
       "    <tr>\n",
       "      <th>3</th>\n",
       "      <td>4</td>\n",
       "      <td>70</td>\n",
       "      <td>RL</td>\n",
       "      <td>60.0</td>\n",
       "      <td>9550</td>\n",
       "      <td>Pave</td>\n",
       "      <td>NaN</td>\n",
       "      <td>IR1</td>\n",
       "      <td>Lvl</td>\n",
       "      <td>AllPub</td>\n",
       "      <td>...</td>\n",
       "      <td>0</td>\n",
       "      <td>NaN</td>\n",
       "      <td>NaN</td>\n",
       "      <td>NaN</td>\n",
       "      <td>0</td>\n",
       "      <td>2</td>\n",
       "      <td>2006</td>\n",
       "      <td>WD</td>\n",
       "      <td>Abnorml</td>\n",
       "      <td>140000</td>\n",
       "    </tr>\n",
       "    <tr>\n",
       "      <th>4</th>\n",
       "      <td>5</td>\n",
       "      <td>60</td>\n",
       "      <td>RL</td>\n",
       "      <td>84.0</td>\n",
       "      <td>14260</td>\n",
       "      <td>Pave</td>\n",
       "      <td>NaN</td>\n",
       "      <td>IR1</td>\n",
       "      <td>Lvl</td>\n",
       "      <td>AllPub</td>\n",
       "      <td>...</td>\n",
       "      <td>0</td>\n",
       "      <td>NaN</td>\n",
       "      <td>NaN</td>\n",
       "      <td>NaN</td>\n",
       "      <td>0</td>\n",
       "      <td>12</td>\n",
       "      <td>2008</td>\n",
       "      <td>WD</td>\n",
       "      <td>Normal</td>\n",
       "      <td>250000</td>\n",
       "    </tr>\n",
       "  </tbody>\n",
       "</table>\n",
       "<p>5 rows × 81 columns</p>\n",
       "</div>"
      ],
      "text/plain": [
       "   Id  MSSubClass MSZoning  LotFrontage  LotArea Street Alley LotShape  \\\n",
       "0   1          60       RL         65.0     8450   Pave   NaN      Reg   \n",
       "1   2          20       RL         80.0     9600   Pave   NaN      Reg   \n",
       "2   3          60       RL         68.0    11250   Pave   NaN      IR1   \n",
       "3   4          70       RL         60.0     9550   Pave   NaN      IR1   \n",
       "4   5          60       RL         84.0    14260   Pave   NaN      IR1   \n",
       "\n",
       "  LandContour Utilities  ... PoolArea PoolQC Fence MiscFeature MiscVal MoSold  \\\n",
       "0         Lvl    AllPub  ...        0    NaN   NaN         NaN       0      2   \n",
       "1         Lvl    AllPub  ...        0    NaN   NaN         NaN       0      5   \n",
       "2         Lvl    AllPub  ...        0    NaN   NaN         NaN       0      9   \n",
       "3         Lvl    AllPub  ...        0    NaN   NaN         NaN       0      2   \n",
       "4         Lvl    AllPub  ...        0    NaN   NaN         NaN       0     12   \n",
       "\n",
       "  YrSold  SaleType  SaleCondition  SalePrice  \n",
       "0   2008        WD         Normal     208500  \n",
       "1   2007        WD         Normal     181500  \n",
       "2   2008        WD         Normal     223500  \n",
       "3   2006        WD        Abnorml     140000  \n",
       "4   2008        WD         Normal     250000  \n",
       "\n",
       "[5 rows x 81 columns]"
      ]
     },
     "execution_count": 5,
     "metadata": {},
     "output_type": "execute_result"
    }
   ],
   "source": [
    "# folder = '/kaggle/input/house-prices-advanced-regression-techniques/'\n",
    "folder = 'data'\n",
    "\n",
    "train = pd.read_csv(os.path.join(folder, 'train.csv'))\n",
    "test = pd.read_csv(os.path.join(folder, 'test.csv'))\n",
    "\n",
    "print(train.shape)\n",
    "print(test.shape)\n",
    "\n",
    "train.head()"
   ]
  },
  {
   "cell_type": "code",
   "execution_count": 6,
   "metadata": {},
   "outputs": [
    {
     "name": "stdout",
     "output_type": "stream",
     "text": [
      "(2919, 81)\n"
     ]
    }
   ],
   "source": [
    "# concat train and test sets st we always perform transformation on both sets\n",
    "test['SalePrice'] = 0\n",
    "data = pd.concat([train, test])\n",
    "\n",
    "print(data.shape)\n",
    "\n",
    "# lowercase all column names for convenience\n",
    "data.columns = [str.lower(cc) for cc in data.columns]\n",
    "\n",
    "# sale price in thousands is better for plotting\n",
    "data['sale_price_in_thousand'] = data['saleprice']/(10**3)\n",
    "\n",
    "# sale price per square feet is also interested\n",
    "data['sale_price_per_sf'] = data['saleprice'] / data['grlivarea']"
   ]
  },
  {
   "cell_type": "markdown",
   "metadata": {},
   "source": [
    "There are two approaches:\n",
    "+ predict directly sale price\n",
    "+ predict price per SF, then multiply with living area to estimate sale price\n",
    "\n",
    "I will try both, but first we need some helpers."
   ]
  },
  {
   "cell_type": "markdown",
   "metadata": {},
   "source": [
    "### Helper methods"
   ]
  },
  {
   "cell_type": "code",
   "execution_count": 7,
   "metadata": {},
   "outputs": [],
   "source": [
    "def cal_age_from_built(row):\n",
    "    return row['yrsold'] - row['yearbuilt']\n",
    "\n",
    "def cal_age_from_remodel(row):\n",
    "    return row['yrsold'] - row['yearremodadd']\n",
    "\n",
    "\n",
    "def fold_zone_type(ms_zone):\n",
    "    if ms_zone in ['FV', 'RH', 'C (all)']:\n",
    "        return 'Other'\n",
    "    else:\n",
    "        return ms_zone\n",
    "#         return {'RL': 'Residential Low Density'.lower() , \n",
    "#                 'RM': 'Residential Medium Density'.lower(),\n",
    "#                 None: 'NA'\n",
    "#                }[ms_zone]    \n",
    "\n",
    "def to_adjacency(cond):\n",
    "    if 'RR' in cond:\n",
    "        return 'Railroad'\n",
    "    if 'Pos' in cond:\n",
    "        return 'Positive feature'\n",
    "    return {\n",
    "        'Artery': 'Arterial street',\n",
    "        'Feedr': 'Feeder street',\n",
    "        'Norm': 'Normal'    \n",
    "        }[cond]"
   ]
  },
  {
   "cell_type": "code",
   "execution_count": 8,
   "metadata": {},
   "outputs": [],
   "source": [
    "def onehot_encode(cat_feat, data, dummy_na=False):\n",
    "    encoded = pd.get_dummies(data[cat_feat], prefix=cat_feat, dummy_na=dummy_na)\n",
    "    res = pd.concat([data.drop(columns=[cat_feat]), encoded], axis='columns')\n",
    "    return res\n",
    "\n",
    "def encode_cat_feats(data, cat_feats, dummy_na=False):\n",
    "    print('Onehot encode categorical features: ', cat_feats)\n",
    "\n",
    "    encoded_df = data.copy()\n",
    "    # encode 1 cat feature at a time\n",
    "    for cf in cat_feats:\n",
    "        encoded_df = onehot_encode(cf, encoded_df, dummy_na=dummy_na)\n",
    "\n",
    "    return encoded_df"
   ]
  },
  {
   "cell_type": "code",
   "execution_count": 11,
   "metadata": {},
   "outputs": [],
   "source": [
    "def list_numeric_columns(data):\n",
    "    return list(data.columns[np.where(data.dtypes != 'object')])\n",
    "\n",
    "def list_string_columns(data):\n",
    "    return list(data.columns[np.where(data.dtypes == 'object')])\n",
    "\n",
    "def split_train_valid(data, target):\n",
    "    y = data.pop(target)\n",
    "    X = data\n",
    "    X_train, X_valid, y_train, y_valid = train_test_split(X, y, test_size=.1, \n",
    "                                                          random_state=1\n",
    "                                                         )\n",
    "    return X_train, X_valid, y_train, y_valid\n",
    "\n",
    "def check_na(data):\n",
    "    # check if any NA left\n",
    "    na_count = [sum(data[ff].isnull()) for ff in data.columns]\n",
    "    return pd.DataFrame({'column': data.columns, 'na_count': na_count}).\\\n",
    "              query('na_count > 0')   "
   ]
  },
  {
   "cell_type": "code",
   "execution_count": 12,
   "metadata": {},
   "outputs": [],
   "source": [
    "def to_quantitative(text_feat, df, scoring):\n",
    "    '''\n",
    "    Given a feature stored in data as text but actually a quantitative feat, convert it to numerical values\n",
    "    via given encoding\n",
    "    :param scoring:\n",
    "    :param text_feat:\n",
    "    :return:\n",
    "    '''\n",
    "    n_na = sum(df[text_feat].isnull())\n",
    "    print('\\t Feature {0} has {1} NAs, they will be filled by 0'.format(text_feat, n_na))\n",
    "\n",
    "    res = df.copy()\n",
    "    res[text_feat].fillna(\"NA\", inplace=True)\n",
    "    res[text_feat] = res[text_feat].apply(lambda form: scoring[form])\n",
    "    return res\n",
    "\n",
    "def quant_to_scores(quant_feats, data, scorings):\n",
    "    print('\\n Converting quantitative text features to scores...')\n",
    "    score_dict = dict(zip(quant_feats, scorings))\n",
    "    \n",
    "    for tf in quant_feats:  \n",
    "        data = to_quantitative(text_feat=tf, df=data, scoring=score_dict[tf])\n",
    "\n",
    "    return data"
   ]
  },
  {
   "cell_type": "code",
   "execution_count": 43,
   "metadata": {},
   "outputs": [],
   "source": [
    "def make_output(y_pred):\n",
    "    test_index = range(len(train_part) + 1, len(data) + 1)\n",
    "    return pd.DataFrame({'Id': test_index, 'SalePrice': y_pred})"
   ]
  },
  {
   "cell_type": "markdown",
   "metadata": {},
   "source": [
    "## Preprocessing"
   ]
  },
  {
   "cell_type": "code",
   "execution_count": 70,
   "metadata": {},
   "outputs": [
    {
     "data": {
      "text/html": [
       "<div>\n",
       "<style scoped>\n",
       "    .dataframe tbody tr th:only-of-type {\n",
       "        vertical-align: middle;\n",
       "    }\n",
       "\n",
       "    .dataframe tbody tr th {\n",
       "        vertical-align: top;\n",
       "    }\n",
       "\n",
       "    .dataframe thead th {\n",
       "        text-align: right;\n",
       "    }\n",
       "</style>\n",
       "<table border=\"1\" class=\"dataframe\">\n",
       "  <thead>\n",
       "    <tr style=\"text-align: right;\">\n",
       "      <th></th>\n",
       "      <th>column</th>\n",
       "      <th>na_count</th>\n",
       "    </tr>\n",
       "  </thead>\n",
       "  <tbody>\n",
       "    <tr>\n",
       "      <th>72</th>\n",
       "      <td>poolqc</td>\n",
       "      <td>2909</td>\n",
       "    </tr>\n",
       "    <tr>\n",
       "      <th>74</th>\n",
       "      <td>miscfeature</td>\n",
       "      <td>2814</td>\n",
       "    </tr>\n",
       "    <tr>\n",
       "      <th>6</th>\n",
       "      <td>alley</td>\n",
       "      <td>2721</td>\n",
       "    </tr>\n",
       "    <tr>\n",
       "      <th>73</th>\n",
       "      <td>fence</td>\n",
       "      <td>2348</td>\n",
       "    </tr>\n",
       "    <tr>\n",
       "      <th>57</th>\n",
       "      <td>fireplacequ</td>\n",
       "      <td>1420</td>\n",
       "    </tr>\n",
       "    <tr>\n",
       "      <th>3</th>\n",
       "      <td>lotfrontage</td>\n",
       "      <td>486</td>\n",
       "    </tr>\n",
       "    <tr>\n",
       "      <th>64</th>\n",
       "      <td>garagecond</td>\n",
       "      <td>159</td>\n",
       "    </tr>\n",
       "    <tr>\n",
       "      <th>59</th>\n",
       "      <td>garageyrblt</td>\n",
       "      <td>159</td>\n",
       "    </tr>\n",
       "    <tr>\n",
       "      <th>63</th>\n",
       "      <td>garagequal</td>\n",
       "      <td>159</td>\n",
       "    </tr>\n",
       "    <tr>\n",
       "      <th>60</th>\n",
       "      <td>garagefinish</td>\n",
       "      <td>159</td>\n",
       "    </tr>\n",
       "    <tr>\n",
       "      <th>58</th>\n",
       "      <td>garagetype</td>\n",
       "      <td>157</td>\n",
       "    </tr>\n",
       "    <tr>\n",
       "      <th>32</th>\n",
       "      <td>bsmtexposure</td>\n",
       "      <td>82</td>\n",
       "    </tr>\n",
       "    <tr>\n",
       "      <th>31</th>\n",
       "      <td>bsmtcond</td>\n",
       "      <td>82</td>\n",
       "    </tr>\n",
       "    <tr>\n",
       "      <th>30</th>\n",
       "      <td>bsmtqual</td>\n",
       "      <td>81</td>\n",
       "    </tr>\n",
       "    <tr>\n",
       "      <th>35</th>\n",
       "      <td>bsmtfintype2</td>\n",
       "      <td>80</td>\n",
       "    </tr>\n",
       "    <tr>\n",
       "      <th>33</th>\n",
       "      <td>bsmtfintype1</td>\n",
       "      <td>79</td>\n",
       "    </tr>\n",
       "    <tr>\n",
       "      <th>25</th>\n",
       "      <td>masvnrtype</td>\n",
       "      <td>24</td>\n",
       "    </tr>\n",
       "    <tr>\n",
       "      <th>26</th>\n",
       "      <td>masvnrarea</td>\n",
       "      <td>23</td>\n",
       "    </tr>\n",
       "    <tr>\n",
       "      <th>2</th>\n",
       "      <td>mszoning</td>\n",
       "      <td>4</td>\n",
       "    </tr>\n",
       "    <tr>\n",
       "      <th>47</th>\n",
       "      <td>bsmtfullbath</td>\n",
       "      <td>2</td>\n",
       "    </tr>\n",
       "    <tr>\n",
       "      <th>48</th>\n",
       "      <td>bsmthalfbath</td>\n",
       "      <td>2</td>\n",
       "    </tr>\n",
       "    <tr>\n",
       "      <th>55</th>\n",
       "      <td>functional</td>\n",
       "      <td>2</td>\n",
       "    </tr>\n",
       "    <tr>\n",
       "      <th>9</th>\n",
       "      <td>utilities</td>\n",
       "      <td>2</td>\n",
       "    </tr>\n",
       "    <tr>\n",
       "      <th>61</th>\n",
       "      <td>garagecars</td>\n",
       "      <td>1</td>\n",
       "    </tr>\n",
       "    <tr>\n",
       "      <th>62</th>\n",
       "      <td>garagearea</td>\n",
       "      <td>1</td>\n",
       "    </tr>\n",
       "    <tr>\n",
       "      <th>42</th>\n",
       "      <td>electrical</td>\n",
       "      <td>1</td>\n",
       "    </tr>\n",
       "    <tr>\n",
       "      <th>53</th>\n",
       "      <td>kitchenqual</td>\n",
       "      <td>1</td>\n",
       "    </tr>\n",
       "    <tr>\n",
       "      <th>37</th>\n",
       "      <td>bsmtunfsf</td>\n",
       "      <td>1</td>\n",
       "    </tr>\n",
       "    <tr>\n",
       "      <th>36</th>\n",
       "      <td>bsmtfinsf2</td>\n",
       "      <td>1</td>\n",
       "    </tr>\n",
       "    <tr>\n",
       "      <th>34</th>\n",
       "      <td>bsmtfinsf1</td>\n",
       "      <td>1</td>\n",
       "    </tr>\n",
       "    <tr>\n",
       "      <th>24</th>\n",
       "      <td>exterior2nd</td>\n",
       "      <td>1</td>\n",
       "    </tr>\n",
       "    <tr>\n",
       "      <th>23</th>\n",
       "      <td>exterior1st</td>\n",
       "      <td>1</td>\n",
       "    </tr>\n",
       "    <tr>\n",
       "      <th>78</th>\n",
       "      <td>saletype</td>\n",
       "      <td>1</td>\n",
       "    </tr>\n",
       "  </tbody>\n",
       "</table>\n",
       "</div>"
      ],
      "text/plain": [
       "          column  na_count\n",
       "72        poolqc      2909\n",
       "74   miscfeature      2814\n",
       "6          alley      2721\n",
       "73         fence      2348\n",
       "57   fireplacequ      1420\n",
       "3    lotfrontage       486\n",
       "64    garagecond       159\n",
       "59   garageyrblt       159\n",
       "63    garagequal       159\n",
       "60  garagefinish       159\n",
       "58    garagetype       157\n",
       "32  bsmtexposure        82\n",
       "31      bsmtcond        82\n",
       "30      bsmtqual        81\n",
       "35  bsmtfintype2        80\n",
       "33  bsmtfintype1        79\n",
       "25    masvnrtype        24\n",
       "26    masvnrarea        23\n",
       "2       mszoning         4\n",
       "47  bsmtfullbath         2\n",
       "48  bsmthalfbath         2\n",
       "55    functional         2\n",
       "9      utilities         2\n",
       "61    garagecars         1\n",
       "62    garagearea         1\n",
       "42    electrical         1\n",
       "53   kitchenqual         1\n",
       "37     bsmtunfsf         1\n",
       "36    bsmtfinsf2         1\n",
       "34    bsmtfinsf1         1\n",
       "24   exterior2nd         1\n",
       "23   exterior1st         1\n",
       "78      saletype         1"
      ]
     },
     "execution_count": 70,
     "metadata": {},
     "output_type": "execute_result"
    }
   ],
   "source": [
    "na_checker = check_na(data)\n",
    "na_checker = na_checker.sort_values('na_count', ascending=False)\n",
    "na_checker"
   ]
  },
  {
   "cell_type": "code",
   "execution_count": 80,
   "metadata": {},
   "outputs": [],
   "source": [
    "data['totalbsmtsf'].fillna(data['totalbsmtsf'].mean(), inplace=True)\n",
    "data['bsmtunfsf'].fillna(data['bsmtunfsf'].mean(), inplace=True)"
   ]
  },
  {
   "cell_type": "code",
   "execution_count": null,
   "metadata": {},
   "outputs": [],
   "source": []
  },
  {
   "cell_type": "code",
   "execution_count": 74,
   "metadata": {},
   "outputs": [],
   "source": [
    "target = 'saleprice'\n",
    "train_part = data.loc[data[target] > 0]\n",
    "test_part = data.loc[data[target] == 0]"
   ]
  },
  {
   "cell_type": "markdown",
   "metadata": {},
   "source": [
    "## Simple model\n",
    "LInear regressors with no derived features."
   ]
  },
  {
   "cell_type": "code",
   "execution_count": 55,
   "metadata": {},
   "outputs": [],
   "source": [
    "# total bathroom\n",
    "data['total_bath'] = data['fullbath'] + data['halfbath']"
   ]
  },
  {
   "cell_type": "code",
   "execution_count": null,
   "metadata": {},
   "outputs": [],
   "source": [
    "target = 'saleprice'"
   ]
  },
  {
   "cell_type": "code",
   "execution_count": 84,
   "metadata": {},
   "outputs": [],
   "source": [
    "def get_train_tests(data, target):\n",
    "    train_part = data.loc[data[target] > 0]\n",
    "    test_part = data.loc[data[target] == 0]\n",
    "    return train_part, test_part"
   ]
  },
  {
   "cell_type": "code",
   "execution_count": 85,
   "metadata": {},
   "outputs": [],
   "source": [
    "train_part, test_part = get_train_tests(data, target)"
   ]
  },
  {
   "cell_type": "code",
   "execution_count": 46,
   "metadata": {},
   "outputs": [],
   "source": [
    "feats0 = ['overallqual', 'yearbuilt', 'mosold', 'yrsold', 'grlivarea', 'lotarea']"
   ]
  },
  {
   "cell_type": "code",
   "execution_count": 47,
   "metadata": {},
   "outputs": [],
   "source": [
    "y_train = train_part[target]\n",
    "X_train = train_part[feats0]\n",
    "X_test = test_part[feats0]"
   ]
  },
  {
   "cell_type": "code",
   "execution_count": 48,
   "metadata": {},
   "outputs": [
    {
     "name": "stdout",
     "output_type": "stream",
     "text": [
      "score of linear regressor 0.7497036340620418\n",
      "score of ridge regressor 0.7497036340620418\n"
     ]
    }
   ],
   "source": [
    "lr = LinearRegression()\n",
    "lr.fit(X_train, y_train)\n",
    "print('score of linear regressor', lr.score(X_train, y_train))\n",
    "\n",
    "alphas = np.linspace(-3, 0, 4)\n",
    "ridge = RidgeCV(alphas=alphas, cv=5)\n",
    "ridge.fit(X_train, y_train)\n",
    "print('score of ridge regressor', ridge.score(X_train, y_train))"
   ]
  },
  {
   "cell_type": "markdown",
   "metadata": {},
   "source": [
    "Ridge and base linear regressors have same score."
   ]
  },
  {
   "cell_type": "code",
   "execution_count": 37,
   "metadata": {},
   "outputs": [],
   "source": [
    "y_pred = ridge.predict(X_test)"
   ]
  },
  {
   "cell_type": "code",
   "execution_count": 44,
   "metadata": {
    "collapsed": true
   },
   "outputs": [
    {
     "data": {
      "text/html": [
       "<div>\n",
       "<style scoped>\n",
       "    .dataframe tbody tr th:only-of-type {\n",
       "        vertical-align: middle;\n",
       "    }\n",
       "\n",
       "    .dataframe tbody tr th {\n",
       "        vertical-align: top;\n",
       "    }\n",
       "\n",
       "    .dataframe thead th {\n",
       "        text-align: right;\n",
       "    }\n",
       "</style>\n",
       "<table border=\"1\" class=\"dataframe\">\n",
       "  <thead>\n",
       "    <tr style=\"text-align: right;\">\n",
       "      <th></th>\n",
       "      <th>Id</th>\n",
       "      <th>SalePrice</th>\n",
       "    </tr>\n",
       "  </thead>\n",
       "  <tbody>\n",
       "    <tr>\n",
       "      <th>1454</th>\n",
       "      <td>2915</td>\n",
       "      <td>92308.551102</td>\n",
       "    </tr>\n",
       "    <tr>\n",
       "      <th>1455</th>\n",
       "      <td>2916</td>\n",
       "      <td>92462.926766</td>\n",
       "    </tr>\n",
       "    <tr>\n",
       "      <th>1456</th>\n",
       "      <td>2917</td>\n",
       "      <td>125227.592449</td>\n",
       "    </tr>\n",
       "    <tr>\n",
       "      <th>1457</th>\n",
       "      <td>2918</td>\n",
       "      <td>125937.080425</td>\n",
       "    </tr>\n",
       "    <tr>\n",
       "      <th>1458</th>\n",
       "      <td>2919</td>\n",
       "      <td>243743.740786</td>\n",
       "    </tr>\n",
       "  </tbody>\n",
       "</table>\n",
       "</div>"
      ],
      "text/plain": [
       "        Id      SalePrice\n",
       "1454  2915   92308.551102\n",
       "1455  2916   92462.926766\n",
       "1456  2917  125227.592449\n",
       "1457  2918  125937.080425\n",
       "1458  2919  243743.740786"
      ]
     },
     "execution_count": 44,
     "metadata": {},
     "output_type": "execute_result"
    }
   ],
   "source": [
    "ridge_res = make_output(ridge.predict(X_test))\n",
    "ridge_res.head()"
   ]
  },
  {
   "cell_type": "code",
   "execution_count": 45,
   "metadata": {},
   "outputs": [],
   "source": [
    "ridge_res.to_csv('output/ridge_pred.csv', index=False)"
   ]
  },
  {
   "cell_type": "markdown",
   "metadata": {},
   "source": [
    "## Incrementally add features"
   ]
  },
  {
   "cell_type": "code",
   "execution_count": 57,
   "metadata": {},
   "outputs": [],
   "source": [
    "# features for bathrooms, bedrooms\n",
    "room_feats = ['bedroomabvgr', 'fullbath', 'halfbath', 'total_bath',\n",
    "              'kitchenabvgr', 'totrmsabvgrd'\n",
    "             ]"
   ]
  },
  {
   "cell_type": "code",
   "execution_count": 73,
   "metadata": {},
   "outputs": [],
   "source": [
    "X_train = train_part[feats0 + room_feats]\n",
    "X_test = test_part[feats0 + room_feats]"
   ]
  },
  {
   "cell_type": "code",
   "execution_count": 59,
   "metadata": {
    "scrolled": true
   },
   "outputs": [
    {
     "name": "stderr",
     "output_type": "stream",
     "text": [
      "C:\\Users\\Victor\\Anaconda3\\envs\\updated\\lib\\site-packages\\sklearn\\linear_model\\_ridge.py:148: LinAlgWarning: Ill-conditioned matrix (rcond=4.47659e-24): result may not be accurate.\n",
      "  overwrite_a=True).T\n"
     ]
    },
    {
     "data": {
      "text/plain": [
       "0.7668613411201849"
      ]
     },
     "execution_count": 59,
     "metadata": {},
     "output_type": "execute_result"
    }
   ],
   "source": [
    "ridge.fit(X_train, y_train)\n",
    "ridge.score(X_train, y_train)"
   ]
  },
  {
   "cell_type": "code",
   "execution_count": 60,
   "metadata": {},
   "outputs": [
    {
     "data": {
      "text/html": [
       "<div>\n",
       "<style scoped>\n",
       "    .dataframe tbody tr th:only-of-type {\n",
       "        vertical-align: middle;\n",
       "    }\n",
       "\n",
       "    .dataframe tbody tr th {\n",
       "        vertical-align: top;\n",
       "    }\n",
       "\n",
       "    .dataframe thead th {\n",
       "        text-align: right;\n",
       "    }\n",
       "</style>\n",
       "<table border=\"1\" class=\"dataframe\">\n",
       "  <thead>\n",
       "    <tr style=\"text-align: right;\">\n",
       "      <th></th>\n",
       "      <th>column</th>\n",
       "      <th>na_count</th>\n",
       "    </tr>\n",
       "  </thead>\n",
       "  <tbody>\n",
       "  </tbody>\n",
       "</table>\n",
       "</div>"
      ],
      "text/plain": [
       "Empty DataFrame\n",
       "Columns: [column, na_count]\n",
       "Index: []"
      ]
     },
     "execution_count": 60,
     "metadata": {},
     "output_type": "execute_result"
    }
   ],
   "source": [
    "check_na(X_train)"
   ]
  },
  {
   "cell_type": "code",
   "execution_count": 52,
   "metadata": {
    "collapsed": true
   },
   "outputs": [
    {
     "data": {
      "text/html": [
       "<div>\n",
       "<style scoped>\n",
       "    .dataframe tbody tr th:only-of-type {\n",
       "        vertical-align: middle;\n",
       "    }\n",
       "\n",
       "    .dataframe tbody tr th {\n",
       "        vertical-align: top;\n",
       "    }\n",
       "\n",
       "    .dataframe thead th {\n",
       "        text-align: right;\n",
       "    }\n",
       "</style>\n",
       "<table border=\"1\" class=\"dataframe\">\n",
       "  <thead>\n",
       "    <tr style=\"text-align: right;\">\n",
       "      <th></th>\n",
       "      <th>Id</th>\n",
       "      <th>SalePrice</th>\n",
       "    </tr>\n",
       "  </thead>\n",
       "  <tbody>\n",
       "    <tr>\n",
       "      <th>0</th>\n",
       "      <td>1461</td>\n",
       "      <td>121729.187236</td>\n",
       "    </tr>\n",
       "    <tr>\n",
       "      <th>1</th>\n",
       "      <td>1462</td>\n",
       "      <td>155098.899738</td>\n",
       "    </tr>\n",
       "    <tr>\n",
       "      <th>2</th>\n",
       "      <td>1463</td>\n",
       "      <td>168843.642517</td>\n",
       "    </tr>\n",
       "    <tr>\n",
       "      <th>3</th>\n",
       "      <td>1464</td>\n",
       "      <td>192426.914222</td>\n",
       "    </tr>\n",
       "    <tr>\n",
       "      <th>4</th>\n",
       "      <td>1465</td>\n",
       "      <td>219777.022163</td>\n",
       "    </tr>\n",
       "  </tbody>\n",
       "</table>\n",
       "</div>"
      ],
      "text/plain": [
       "     Id      SalePrice\n",
       "0  1461  121729.187236\n",
       "1  1462  155098.899738\n",
       "2  1463  168843.642517\n",
       "3  1464  192426.914222\n",
       "4  1465  219777.022163"
      ]
     },
     "execution_count": 52,
     "metadata": {},
     "output_type": "execute_result"
    }
   ],
   "source": [
    "ridge_res = make_output(ridge.predict(X_test))\n",
    "ridge_res.head()"
   ]
  },
  {
   "cell_type": "code",
   "execution_count": 53,
   "metadata": {},
   "outputs": [],
   "source": [
    "ridge_res.to_csv('output/ridge_pred_2.csv', index=False)"
   ]
  },
  {
   "cell_type": "code",
   "execution_count": 61,
   "metadata": {},
   "outputs": [
    {
     "name": "stdout",
     "output_type": "stream",
     "text": [
      "score of linear regressor 0.7668627922722758\n"
     ]
    }
   ],
   "source": [
    "lr = LinearRegression()\n",
    "lr.fit(X_train, y_train)\n",
    "print('score of linear regressor', lr.score(X_train, y_train))"
   ]
  },
  {
   "cell_type": "code",
   "execution_count": 94,
   "metadata": {},
   "outputs": [],
   "source": [
    "# basement features\n",
    "# a potential feature is ratio between unfinished basement area and total area\n",
    "\n",
    "# data['bsmt_unfinished_ratio'] = data['bsmtunfsf'] / data['totalbsmtsf']\n",
    "bsmt_feats = ['totalbsmtsf', ] \n"
   ]
  },
  {
   "cell_type": "markdown",
   "metadata": {},
   "source": [
    "+ adding bsmtunfsf pull down perf\n",
    "+ bsmt_unfinished_ratio has NA"
   ]
  },
  {
   "cell_type": "code",
   "execution_count": 95,
   "metadata": {},
   "outputs": [],
   "source": [
    "train_part, test_part = get_train_tests(data, target)"
   ]
  },
  {
   "cell_type": "code",
   "execution_count": 96,
   "metadata": {},
   "outputs": [],
   "source": [
    "X_train = train_part[feats0 + room_feats + bsmt_feats]\n",
    "X_test = test_part[feats0 + room_feats + bsmt_feats]"
   ]
  },
  {
   "cell_type": "code",
   "execution_count": 97,
   "metadata": {},
   "outputs": [
    {
     "name": "stdout",
     "output_type": "stream",
     "text": [
      "Empty DataFrame\n",
      "Columns: [column, na_count]\n",
      "Index: []\n",
      "Empty DataFrame\n",
      "Columns: [column, na_count]\n",
      "Index: []\n"
     ]
    }
   ],
   "source": [
    "print(check_na(X_train))\n",
    "print(check_na(X_test))"
   ]
  },
  {
   "cell_type": "code",
   "execution_count": 98,
   "metadata": {
    "scrolled": true
   },
   "outputs": [
    {
     "data": {
      "text/plain": [
       "0.7834926493506555"
      ]
     },
     "execution_count": 98,
     "metadata": {},
     "output_type": "execute_result"
    }
   ],
   "source": [
    "lr.fit(X_train, y_train)\n",
    "lr.score(X_train, y_train)"
   ]
  },
  {
   "cell_type": "code",
   "execution_count": 99,
   "metadata": {
    "scrolled": true
   },
   "outputs": [
    {
     "data": {
      "text/html": [
       "<div>\n",
       "<style scoped>\n",
       "    .dataframe tbody tr th:only-of-type {\n",
       "        vertical-align: middle;\n",
       "    }\n",
       "\n",
       "    .dataframe tbody tr th {\n",
       "        vertical-align: top;\n",
       "    }\n",
       "\n",
       "    .dataframe thead th {\n",
       "        text-align: right;\n",
       "    }\n",
       "</style>\n",
       "<table border=\"1\" class=\"dataframe\">\n",
       "  <thead>\n",
       "    <tr style=\"text-align: right;\">\n",
       "      <th></th>\n",
       "      <th>Id</th>\n",
       "      <th>SalePrice</th>\n",
       "    </tr>\n",
       "  </thead>\n",
       "  <tbody>\n",
       "    <tr>\n",
       "      <th>0</th>\n",
       "      <td>1461</td>\n",
       "      <td>122864.405726</td>\n",
       "    </tr>\n",
       "    <tr>\n",
       "      <th>1</th>\n",
       "      <td>1462</td>\n",
       "      <td>171362.088712</td>\n",
       "    </tr>\n",
       "    <tr>\n",
       "      <th>2</th>\n",
       "      <td>1463</td>\n",
       "      <td>173757.455656</td>\n",
       "    </tr>\n",
       "    <tr>\n",
       "      <th>3</th>\n",
       "      <td>1464</td>\n",
       "      <td>195865.850200</td>\n",
       "    </tr>\n",
       "    <tr>\n",
       "      <th>4</th>\n",
       "      <td>1465</td>\n",
       "      <td>215198.228143</td>\n",
       "    </tr>\n",
       "  </tbody>\n",
       "</table>\n",
       "</div>"
      ],
      "text/plain": [
       "     Id      SalePrice\n",
       "0  1461  122864.405726\n",
       "1  1462  171362.088712\n",
       "2  1463  173757.455656\n",
       "3  1464  195865.850200\n",
       "4  1465  215198.228143"
      ]
     },
     "execution_count": 99,
     "metadata": {},
     "output_type": "execute_result"
    }
   ],
   "source": [
    "lin_res = make_output(lr.predict(X_test))\n",
    "lin_res.head()"
   ]
  },
  {
   "cell_type": "code",
   "execution_count": 100,
   "metadata": {},
   "outputs": [],
   "source": [
    "lin_res.to_csv('output/lin_res.csv', index=False)"
   ]
  },
  {
   "cell_type": "code",
   "execution_count": null,
   "metadata": {},
   "outputs": [],
   "source": []
  },
  {
   "cell_type": "code",
   "execution_count": null,
   "metadata": {},
   "outputs": [],
   "source": []
  },
  {
   "cell_type": "markdown",
   "metadata": {},
   "source": [
    "Drop columns with lots of NAs."
   ]
  },
  {
   "cell_type": "code",
   "execution_count": 157,
   "metadata": {
    "collapsed": true
   },
   "outputs": [
    {
     "name": "stdout",
     "output_type": "stream",
     "text": [
      "72          poolqc\n",
      "74     miscfeature\n",
      "6            alley\n",
      "73           fence\n",
      "57     fireplacequ\n",
      "3      lotfrontage\n",
      "60    garagefinish\n",
      "63      garagequal\n",
      "64      garagecond\n",
      "59     garageyrblt\n",
      "58      garagetype\n",
      "Name: column, dtype: object\n"
     ]
    }
   ],
   "source": [
    "columns_with_lots_of_na = na_checker.head(11)['column']\n",
    "print(columns_with_lots_of_na)\n",
    "data = data.drop(columns=columns_with_lots_of_na)"
   ]
  },
  {
   "cell_type": "markdown",
   "metadata": {},
   "source": [
    "### For numeric columns, fill NAs by mean"
   ]
  },
  {
   "cell_type": "code",
   "execution_count": 158,
   "metadata": {
    "scrolled": true
   },
   "outputs": [],
   "source": [
    "num_vars = list_numeric_columns(data)\n",
    "data[num_vars].mean()\n",
    "data[num_vars] = data[num_vars].fillna(data[num_vars].mean())"
   ]
  },
  {
   "cell_type": "markdown",
   "metadata": {},
   "source": [
    "### Convert quantitative text columns to scores"
   ]
  },
  {
   "cell_type": "code",
   "execution_count": 145,
   "metadata": {},
   "outputs": [
    {
     "data": {
      "text/plain": [
       "True"
      ]
     },
     "execution_count": 145,
     "metadata": {},
     "output_type": "execute_result"
    }
   ],
   "source": [
    "six_scale = {\"Ex\": 5, \"Gd\": 4, \"TA\": 3, \"Fa\": 2, \"Po\": 1, \"NA\": 0}\n",
    "quant_feats = ['utilities',\n",
    " 'exterqual',\n",
    " 'extercond',\n",
    " 'heatingqc',\n",
    " 'bsmtqual',\n",
    " 'bsmtcond',\n",
    " 'kitchenqual',\n",
    " 'bsmtexposure',\n",
    " 'bsmtfintype1'\n",
    "]\n",
    "scorings = [{\"AllPub\": 4, \"NoSewr\": 3, \"NoSeWa\": 2, \"ELO\": 1, \"NA\": 0},\n",
    "            six_scale,\n",
    "            six_scale,\n",
    "            six_scale,\n",
    "            six_scale,\n",
    "            six_scale,\n",
    "            six_scale,\n",
    "            {\"Gd\": 4, \"Av\": 3, \"Mn\": 2, \"No\": 1, \"NA\": 0},\n",
    "            {\"GLQ\": 6, \"ALQ\": 5, \"BLQ\": 4, \"Rec\": 3, \"LwQ\": 2, \"Unf\": 1, \"NA\": 0},\n",
    "            ]\n",
    "len(quant_feats) == len(scorings)"
   ]
  },
  {
   "cell_type": "code",
   "execution_count": 168,
   "metadata": {},
   "outputs": [
    {
     "data": {
      "text/plain": [
       "9"
      ]
     },
     "execution_count": 168,
     "metadata": {},
     "output_type": "execute_result"
    }
   ],
   "source": [
    "len(quant_feats)"
   ]
  },
  {
   "cell_type": "code",
   "execution_count": 159,
   "metadata": {
    "collapsed": true
   },
   "outputs": [
    {
     "name": "stdout",
     "output_type": "stream",
     "text": [
      "\n",
      " Converting quantitative text features to scores...\n",
      "\t Feature utilities has 2 NAs, they will be filled by 0\n",
      "\t Feature exterqual has 0 NAs, they will be filled by 0\n",
      "\t Feature extercond has 0 NAs, they will be filled by 0\n",
      "\t Feature heatingqc has 0 NAs, they will be filled by 0\n",
      "\t Feature bsmtqual has 81 NAs, they will be filled by 0\n",
      "\t Feature bsmtcond has 82 NAs, they will be filled by 0\n",
      "\t Feature kitchenqual has 1 NAs, they will be filled by 0\n",
      "\t Feature bsmtexposure has 82 NAs, they will be filled by 0\n",
      "\t Feature bsmtfintype1 has 79 NAs, they will be filled by 0\n"
     ]
    }
   ],
   "source": [
    "data = quant_to_scores(quant_feats, data, scorings)"
   ]
  },
  {
   "cell_type": "code",
   "execution_count": 160,
   "metadata": {
    "collapsed": true
   },
   "outputs": [
    {
     "data": {
      "text/html": [
       "<div>\n",
       "<style scoped>\n",
       "    .dataframe tbody tr th:only-of-type {\n",
       "        vertical-align: middle;\n",
       "    }\n",
       "\n",
       "    .dataframe tbody tr th {\n",
       "        vertical-align: top;\n",
       "    }\n",
       "\n",
       "    .dataframe thead th {\n",
       "        text-align: right;\n",
       "    }\n",
       "</style>\n",
       "<table border=\"1\" class=\"dataframe\">\n",
       "  <thead>\n",
       "    <tr style=\"text-align: right;\">\n",
       "      <th></th>\n",
       "      <th>utilities</th>\n",
       "      <th>exterqual</th>\n",
       "      <th>extercond</th>\n",
       "      <th>heatingqc</th>\n",
       "      <th>bsmtqual</th>\n",
       "      <th>bsmtcond</th>\n",
       "      <th>kitchenqual</th>\n",
       "      <th>bsmtexposure</th>\n",
       "      <th>bsmtfintype1</th>\n",
       "    </tr>\n",
       "  </thead>\n",
       "  <tbody>\n",
       "    <tr>\n",
       "      <th>count</th>\n",
       "      <td>2919.000000</td>\n",
       "      <td>2919.000000</td>\n",
       "      <td>2919.000000</td>\n",
       "      <td>2919.000000</td>\n",
       "      <td>2919.000000</td>\n",
       "      <td>2919.000000</td>\n",
       "      <td>2919.000000</td>\n",
       "      <td>2919.000000</td>\n",
       "      <td>2919.000000</td>\n",
       "    </tr>\n",
       "    <tr>\n",
       "      <th>mean</th>\n",
       "      <td>3.996574</td>\n",
       "      <td>3.396711</td>\n",
       "      <td>3.085646</td>\n",
       "      <td>4.151764</td>\n",
       "      <td>3.477561</td>\n",
       "      <td>2.918465</td>\n",
       "      <td>3.509764</td>\n",
       "      <td>1.623844</td>\n",
       "      <td>3.541624</td>\n",
       "    </tr>\n",
       "    <tr>\n",
       "      <th>std</th>\n",
       "      <td>0.111020</td>\n",
       "      <td>0.580293</td>\n",
       "      <td>0.372361</td>\n",
       "      <td>0.957952</td>\n",
       "      <td>0.905448</td>\n",
       "      <td>0.574950</td>\n",
       "      <td>0.665273</td>\n",
       "      <td>1.070026</td>\n",
       "      <td>2.113851</td>\n",
       "    </tr>\n",
       "    <tr>\n",
       "      <th>min</th>\n",
       "      <td>0.000000</td>\n",
       "      <td>2.000000</td>\n",
       "      <td>1.000000</td>\n",
       "      <td>1.000000</td>\n",
       "      <td>0.000000</td>\n",
       "      <td>0.000000</td>\n",
       "      <td>0.000000</td>\n",
       "      <td>0.000000</td>\n",
       "      <td>0.000000</td>\n",
       "    </tr>\n",
       "    <tr>\n",
       "      <th>25%</th>\n",
       "      <td>4.000000</td>\n",
       "      <td>3.000000</td>\n",
       "      <td>3.000000</td>\n",
       "      <td>3.000000</td>\n",
       "      <td>3.000000</td>\n",
       "      <td>3.000000</td>\n",
       "      <td>3.000000</td>\n",
       "      <td>1.000000</td>\n",
       "      <td>1.000000</td>\n",
       "    </tr>\n",
       "    <tr>\n",
       "      <th>50%</th>\n",
       "      <td>4.000000</td>\n",
       "      <td>3.000000</td>\n",
       "      <td>3.000000</td>\n",
       "      <td>5.000000</td>\n",
       "      <td>4.000000</td>\n",
       "      <td>3.000000</td>\n",
       "      <td>3.000000</td>\n",
       "      <td>1.000000</td>\n",
       "      <td>4.000000</td>\n",
       "    </tr>\n",
       "    <tr>\n",
       "      <th>75%</th>\n",
       "      <td>4.000000</td>\n",
       "      <td>4.000000</td>\n",
       "      <td>3.000000</td>\n",
       "      <td>5.000000</td>\n",
       "      <td>4.000000</td>\n",
       "      <td>3.000000</td>\n",
       "      <td>4.000000</td>\n",
       "      <td>2.000000</td>\n",
       "      <td>6.000000</td>\n",
       "    </tr>\n",
       "    <tr>\n",
       "      <th>max</th>\n",
       "      <td>4.000000</td>\n",
       "      <td>5.000000</td>\n",
       "      <td>5.000000</td>\n",
       "      <td>5.000000</td>\n",
       "      <td>5.000000</td>\n",
       "      <td>4.000000</td>\n",
       "      <td>5.000000</td>\n",
       "      <td>4.000000</td>\n",
       "      <td>6.000000</td>\n",
       "    </tr>\n",
       "  </tbody>\n",
       "</table>\n",
       "</div>"
      ],
      "text/plain": [
       "         utilities    exterqual    extercond    heatingqc     bsmtqual  \\\n",
       "count  2919.000000  2919.000000  2919.000000  2919.000000  2919.000000   \n",
       "mean      3.996574     3.396711     3.085646     4.151764     3.477561   \n",
       "std       0.111020     0.580293     0.372361     0.957952     0.905448   \n",
       "min       0.000000     2.000000     1.000000     1.000000     0.000000   \n",
       "25%       4.000000     3.000000     3.000000     3.000000     3.000000   \n",
       "50%       4.000000     3.000000     3.000000     5.000000     4.000000   \n",
       "75%       4.000000     4.000000     3.000000     5.000000     4.000000   \n",
       "max       4.000000     5.000000     5.000000     5.000000     5.000000   \n",
       "\n",
       "          bsmtcond  kitchenqual  bsmtexposure  bsmtfintype1  \n",
       "count  2919.000000  2919.000000   2919.000000   2919.000000  \n",
       "mean      2.918465     3.509764      1.623844      3.541624  \n",
       "std       0.574950     0.665273      1.070026      2.113851  \n",
       "min       0.000000     0.000000      0.000000      0.000000  \n",
       "25%       3.000000     3.000000      1.000000      1.000000  \n",
       "50%       3.000000     3.000000      1.000000      4.000000  \n",
       "75%       3.000000     4.000000      2.000000      6.000000  \n",
       "max       4.000000     5.000000      4.000000      6.000000  "
      ]
     },
     "execution_count": 160,
     "metadata": {},
     "output_type": "execute_result"
    }
   ],
   "source": [
    "data[quant_feats].describe()"
   ]
  },
  {
   "cell_type": "markdown",
   "metadata": {},
   "source": [
    "### Compute derived features\n",
    "\n",
    "From EDA, following derived features have decent/high correlation with target:\n",
    "+ age from built\n",
    "+ "
   ]
  },
  {
   "cell_type": "code",
   "execution_count": 163,
   "metadata": {},
   "outputs": [],
   "source": [
    "data['age_from_built'] = data.apply(axis=1, func=cal_age_from_built)"
   ]
  },
  {
   "cell_type": "code",
   "execution_count": 164,
   "metadata": {},
   "outputs": [],
   "source": [
    "# for plotting\n",
    "data['zone_type'] = data['mszoning'].apply(fold_zone_type)\n",
    "data['adjacency'] = data['condition1'].apply(to_adjacency)"
   ]
  },
  {
   "cell_type": "markdown",
   "metadata": {},
   "source": [
    "### Encode cat features"
   ]
  },
  {
   "cell_type": "code",
   "execution_count": 165,
   "metadata": {},
   "outputs": [
    {
     "name": "stdout",
     "output_type": "stream",
     "text": [
      "# cat feats:  27\n",
      "['mszoning', 'street', 'lotshape', 'landcontour', 'lotconfig', 'landslope', 'neighborhood', 'condition1', 'condition2', 'bldgtype', 'housestyle', 'roofstyle', 'roofmatl', 'exterior1st', 'exterior2nd', 'masvnrtype', 'foundation', 'bsmtfintype2', 'heating', 'centralair', 'electrical', 'functional', 'paveddrive', 'saletype', 'salecondition', 'zone_type', 'adjacency']\n"
     ]
    }
   ],
   "source": [
    "cat_feats = list_string_columns(data)\n",
    "print('# cat feats: ', len(cat_feats))\n",
    "print(cat_feats)"
   ]
  },
  {
   "cell_type": "code",
   "execution_count": 166,
   "metadata": {},
   "outputs": [
    {
     "name": "stdout",
     "output_type": "stream",
     "text": [
      "Onehot encode categorical features:  ['mszoning', 'street', 'lotshape', 'landcontour', 'lotconfig', 'landslope', 'neighborhood', 'condition1', 'condition2', 'bldgtype', 'housestyle', 'roofstyle', 'roofmatl', 'exterior1st', 'exterior2nd', 'masvnrtype', 'foundation', 'bsmtfintype2', 'heating', 'centralair', 'electrical', 'functional', 'paveddrive', 'saletype', 'salecondition', 'zone_type', 'adjacency']\n",
      "(2919, 260)\n"
     ]
    },
    {
     "data": {
      "text/html": [
       "<div>\n",
       "<style scoped>\n",
       "    .dataframe tbody tr th:only-of-type {\n",
       "        vertical-align: middle;\n",
       "    }\n",
       "\n",
       "    .dataframe tbody tr th {\n",
       "        vertical-align: top;\n",
       "    }\n",
       "\n",
       "    .dataframe thead th {\n",
       "        text-align: right;\n",
       "    }\n",
       "</style>\n",
       "<table border=\"1\" class=\"dataframe\">\n",
       "  <thead>\n",
       "    <tr style=\"text-align: right;\">\n",
       "      <th></th>\n",
       "      <th>id</th>\n",
       "      <th>mssubclass</th>\n",
       "      <th>lotarea</th>\n",
       "      <th>utilities</th>\n",
       "      <th>overallqual</th>\n",
       "      <th>overallcond</th>\n",
       "      <th>yearbuilt</th>\n",
       "      <th>yearremodadd</th>\n",
       "      <th>masvnrarea</th>\n",
       "      <th>exterqual</th>\n",
       "      <th>...</th>\n",
       "      <th>zone_type_Other</th>\n",
       "      <th>zone_type_RL</th>\n",
       "      <th>zone_type_RM</th>\n",
       "      <th>zone_type_nan</th>\n",
       "      <th>adjacency_Arterial street</th>\n",
       "      <th>adjacency_Feeder street</th>\n",
       "      <th>adjacency_Normal</th>\n",
       "      <th>adjacency_Positive feature</th>\n",
       "      <th>adjacency_Railroad</th>\n",
       "      <th>adjacency_nan</th>\n",
       "    </tr>\n",
       "  </thead>\n",
       "  <tbody>\n",
       "    <tr>\n",
       "      <th>0</th>\n",
       "      <td>1</td>\n",
       "      <td>60</td>\n",
       "      <td>8450</td>\n",
       "      <td>4</td>\n",
       "      <td>7</td>\n",
       "      <td>5</td>\n",
       "      <td>2003</td>\n",
       "      <td>2003</td>\n",
       "      <td>196.0</td>\n",
       "      <td>4</td>\n",
       "      <td>...</td>\n",
       "      <td>0</td>\n",
       "      <td>1</td>\n",
       "      <td>0</td>\n",
       "      <td>0</td>\n",
       "      <td>0</td>\n",
       "      <td>0</td>\n",
       "      <td>1</td>\n",
       "      <td>0</td>\n",
       "      <td>0</td>\n",
       "      <td>0</td>\n",
       "    </tr>\n",
       "    <tr>\n",
       "      <th>1</th>\n",
       "      <td>2</td>\n",
       "      <td>20</td>\n",
       "      <td>9600</td>\n",
       "      <td>4</td>\n",
       "      <td>6</td>\n",
       "      <td>8</td>\n",
       "      <td>1976</td>\n",
       "      <td>1976</td>\n",
       "      <td>0.0</td>\n",
       "      <td>3</td>\n",
       "      <td>...</td>\n",
       "      <td>0</td>\n",
       "      <td>1</td>\n",
       "      <td>0</td>\n",
       "      <td>0</td>\n",
       "      <td>0</td>\n",
       "      <td>1</td>\n",
       "      <td>0</td>\n",
       "      <td>0</td>\n",
       "      <td>0</td>\n",
       "      <td>0</td>\n",
       "    </tr>\n",
       "    <tr>\n",
       "      <th>2</th>\n",
       "      <td>3</td>\n",
       "      <td>60</td>\n",
       "      <td>11250</td>\n",
       "      <td>4</td>\n",
       "      <td>7</td>\n",
       "      <td>5</td>\n",
       "      <td>2001</td>\n",
       "      <td>2002</td>\n",
       "      <td>162.0</td>\n",
       "      <td>4</td>\n",
       "      <td>...</td>\n",
       "      <td>0</td>\n",
       "      <td>1</td>\n",
       "      <td>0</td>\n",
       "      <td>0</td>\n",
       "      <td>0</td>\n",
       "      <td>0</td>\n",
       "      <td>1</td>\n",
       "      <td>0</td>\n",
       "      <td>0</td>\n",
       "      <td>0</td>\n",
       "    </tr>\n",
       "    <tr>\n",
       "      <th>3</th>\n",
       "      <td>4</td>\n",
       "      <td>70</td>\n",
       "      <td>9550</td>\n",
       "      <td>4</td>\n",
       "      <td>7</td>\n",
       "      <td>5</td>\n",
       "      <td>1915</td>\n",
       "      <td>1970</td>\n",
       "      <td>0.0</td>\n",
       "      <td>3</td>\n",
       "      <td>...</td>\n",
       "      <td>0</td>\n",
       "      <td>1</td>\n",
       "      <td>0</td>\n",
       "      <td>0</td>\n",
       "      <td>0</td>\n",
       "      <td>0</td>\n",
       "      <td>1</td>\n",
       "      <td>0</td>\n",
       "      <td>0</td>\n",
       "      <td>0</td>\n",
       "    </tr>\n",
       "    <tr>\n",
       "      <th>4</th>\n",
       "      <td>5</td>\n",
       "      <td>60</td>\n",
       "      <td>14260</td>\n",
       "      <td>4</td>\n",
       "      <td>8</td>\n",
       "      <td>5</td>\n",
       "      <td>2000</td>\n",
       "      <td>2000</td>\n",
       "      <td>350.0</td>\n",
       "      <td>4</td>\n",
       "      <td>...</td>\n",
       "      <td>0</td>\n",
       "      <td>1</td>\n",
       "      <td>0</td>\n",
       "      <td>0</td>\n",
       "      <td>0</td>\n",
       "      <td>0</td>\n",
       "      <td>1</td>\n",
       "      <td>0</td>\n",
       "      <td>0</td>\n",
       "      <td>0</td>\n",
       "    </tr>\n",
       "  </tbody>\n",
       "</table>\n",
       "<p>5 rows × 260 columns</p>\n",
       "</div>"
      ],
      "text/plain": [
       "   id  mssubclass  lotarea  utilities  overallqual  overallcond  yearbuilt  \\\n",
       "0   1          60     8450          4            7            5       2003   \n",
       "1   2          20     9600          4            6            8       1976   \n",
       "2   3          60    11250          4            7            5       2001   \n",
       "3   4          70     9550          4            7            5       1915   \n",
       "4   5          60    14260          4            8            5       2000   \n",
       "\n",
       "   yearremodadd  masvnrarea  exterqual  ...  zone_type_Other  zone_type_RL  \\\n",
       "0          2003       196.0          4  ...                0             1   \n",
       "1          1976         0.0          3  ...                0             1   \n",
       "2          2002       162.0          4  ...                0             1   \n",
       "3          1970         0.0          3  ...                0             1   \n",
       "4          2000       350.0          4  ...                0             1   \n",
       "\n",
       "   zone_type_RM  zone_type_nan  adjacency_Arterial street  \\\n",
       "0             0              0                          0   \n",
       "1             0              0                          0   \n",
       "2             0              0                          0   \n",
       "3             0              0                          0   \n",
       "4             0              0                          0   \n",
       "\n",
       "   adjacency_Feeder street  adjacency_Normal  adjacency_Positive feature  \\\n",
       "0                        0                 1                           0   \n",
       "1                        1                 0                           0   \n",
       "2                        0                 1                           0   \n",
       "3                        0                 1                           0   \n",
       "4                        0                 1                           0   \n",
       "\n",
       "   adjacency_Railroad  adjacency_nan  \n",
       "0                   0              0  \n",
       "1                   0              0  \n",
       "2                   0              0  \n",
       "3                   0              0  \n",
       "4                   0              0  \n",
       "\n",
       "[5 rows x 260 columns]"
      ]
     },
     "execution_count": 166,
     "metadata": {},
     "output_type": "execute_result"
    }
   ],
   "source": [
    "dump_data = encode_cat_feats(data, cat_feats=cat_feats, dummy_na=True)\n",
    "print(dump_data.shape)\n",
    "dump_data.head()"
   ]
  },
  {
   "cell_type": "code",
   "execution_count": null,
   "metadata": {},
   "outputs": [],
   "source": [
    "# TODO: drop non-important feats\n",
    "to_drop = ['saletype', 'salecondition']"
   ]
  },
  {
   "cell_type": "markdown",
   "metadata": {},
   "source": [
    "## Base model\n",
    "\n",
    "No feature selection, no tuning, just dump in all features."
   ]
  },
  {
   "cell_type": "code",
   "execution_count": 167,
   "metadata": {},
   "outputs": [],
   "source": [
    "target = 'saleprice'\n",
    "\n",
    "encoded_train = dump_data.loc[dump_data[target] != 0].copy()\n",
    "na_checker = check_na(encoded_train)\n",
    "if not na_checker.empty:\n",
    "    print(na_checker)\n",
    "\n",
    "X_train, X_valid, y_train, y_valid = split_train_valid(encoded_train, target)"
   ]
  },
  {
   "cell_type": "code",
   "execution_count": 169,
   "metadata": {
    "scrolled": false
   },
   "outputs": [
    {
     "data": {
      "text/plain": [
       "RandomForestRegressor(max_features=1.0, n_jobs=-1, random_state=1)"
      ]
     },
     "execution_count": 169,
     "metadata": {},
     "output_type": "execute_result"
    }
   ],
   "source": [
    "base_rf = RandomForestRegressor(n_estimators=100, max_features=1.0, n_jobs=-1,\n",
    "                               random_state=1,\n",
    "                               )\n",
    "base_rf.fit(X_train, y_train)"
   ]
  },
  {
   "cell_type": "code",
   "execution_count": 170,
   "metadata": {},
   "outputs": [
    {
     "name": "stdout",
     "output_type": "stream",
     "text": [
      "If predict directly sale price, base RMSE:  1850.62\n"
     ]
    }
   ],
   "source": [
    "y_pred = base_rf.predict(X_valid)\n",
    "base_rmse = np.sqrt(mean_squared_error(y_valid, y_pred)) \n",
    "print('If predict directly sale price, base RMSE: ', round(base_rmse, 2))"
   ]
  },
  {
   "cell_type": "code",
   "execution_count": null,
   "metadata": {},
   "outputs": [],
   "source": []
  },
  {
   "cell_type": "markdown",
   "metadata": {},
   "source": [
    "### Pick a small set of features\n",
    "\n",
    "BAsed on EDA."
   ]
  },
  {
   "cell_type": "code",
   "execution_count": 87,
   "metadata": {},
   "outputs": [
    {
     "name": "stdout",
     "output_type": "stream",
     "text": [
      "['adjacency', 'mszoning', 'neighborhood', 'bldgtype', 'housestyle', 'heatingqc', 'centralair', 'electrical', 'kitchenqual', 'bsmtqual', 'age_from_built', 'overallqual']\n"
     ]
    }
   ],
   "source": [
    "interest_cat_vars = ['adjacency', 'mszoning', 'neighborhood',\n",
    "                     'bldgtype', 'housestyle', \n",
    "                     'heatingqc', 'centralair', 'electrical', 'kitchenqual',\n",
    "                     'bsmtqual',\n",
    "                    ]\n",
    "\n",
    "interest_num_vars = ['age_from_built', 'overallqual']\n",
    "\n",
    "base_features = interest_cat_vars + interest_num_vars\n",
    "print(base_features)"
   ]
  },
  {
   "cell_type": "code",
   "execution_count": 113,
   "metadata": {
    "scrolled": false
   },
   "outputs": [
    {
     "name": "stdout",
     "output_type": "stream",
     "text": [
      "Onehot encode categorical features:  ['adjacency', 'mszoning', 'neighborhood', 'bldgtype', 'housestyle', 'heatingqc', 'centralair', 'electrical', 'kitchenqual', 'bsmtqual']\n",
      "(2919, 70)\n"
     ]
    }
   ],
   "source": [
    "picked_data = data[base_features]\n",
    "print(picked_data.shape)\n",
    "# picked_data.head()"
   ]
  },
  {
   "cell_type": "markdown",
   "metadata": {},
   "source": [
    "### Predict sale price directly"
   ]
  },
  {
   "cell_type": "code",
   "execution_count": 115,
   "metadata": {},
   "outputs": [],
   "source": [
    "target = 'saleprice'\n",
    "ready_data_1 = pd.concat([picked_data, \n",
    "                        data[['grlivarea', 'garagearea']]],\n",
    "                       axis=1\n",
    "                      )\n",
    "ready_data_1[target] = data[target]\n",
    "\n",
    "encoded_train_1 = ready_data_1.loc[ready_data_1[target] != 0].copy()\n",
    "na_checker = check_na(encoded_train_1)\n",
    "if not na_checker.empty:\n",
    "    print(na_checker)\n",
    "\n",
    "X_train, X_valid, y_train, y_valid = split_train_valid(encoded_train_1, target)"
   ]
  },
  {
   "cell_type": "code",
   "execution_count": 116,
   "metadata": {
    "scrolled": false
   },
   "outputs": [
    {
     "data": {
      "text/plain": [
       "RandomForestRegressor(max_features=1.0, n_jobs=-1, random_state=1)"
      ]
     },
     "execution_count": 116,
     "metadata": {},
     "output_type": "execute_result"
    }
   ],
   "source": [
    "base_rf = RandomForestRegressor(n_estimators=100, max_features=1.0, n_jobs=-1,\n",
    "                               random_state=1,\n",
    "                               )\n",
    "base_rf.fit(X_train, y_train)"
   ]
  },
  {
   "cell_type": "code",
   "execution_count": 118,
   "metadata": {},
   "outputs": [
    {
     "name": "stdout",
     "output_type": "stream",
     "text": [
      "If predict directly sale price, base RMSE:  25119.73\n"
     ]
    }
   ],
   "source": [
    "y_pred = base_rf.predict(X_valid)\n",
    "base_rmse = np.sqrt(mean_squared_error(y_valid, y_pred)) \n",
    "print('If predict directly sale price, base RMSE: ', round(base_rmse, 2))"
   ]
  },
  {
   "cell_type": "markdown",
   "metadata": {},
   "source": [
    "### Predict price per square feet\n",
    "\n",
    "I predict price per square feet, then multiply with living area to estimate sale price."
   ]
  },
  {
   "cell_type": "code",
   "execution_count": 126,
   "metadata": {},
   "outputs": [
    {
     "name": "stdout",
     "output_type": "stream",
     "text": [
      "Base RMSE:  17.26\n"
     ]
    }
   ],
   "source": [
    "target = 'sale_price_per_sf'\n",
    "\n",
    "# below columns are not needed for prediction, but needed later to compute rmse\n",
    "additional_cols = ['grlivarea', 'saleprice'] \n",
    "ready_data_2 = pd.concat([picked_data, \n",
    "                          data[additional_cols]\n",
    "                         ], \n",
    "                         axis=1\n",
    "                        )\n",
    "\n",
    "ready_data_2[target] = data[target]\n",
    "\n",
    "encoded_train = ready_data_2.loc[ready_data_2[target] != 0].copy()\n",
    "na_checker = check_na(encoded_train)\n",
    "if not na_checker.empty:\n",
    "    print(na_checker)\n",
    "    encoded_train.dropna(inplace=True)\n",
    "\n",
    "X_train, X_valid, y_train, y_valid = split_train_valid(encoded_train, target)\n",
    "\n",
    "base_rf = RandomForestRegressor(n_estimators=100, max_features=1.0, n_jobs=-1,\n",
    "                               random_state=1,\n",
    "                               )\n",
    "base_rf.fit(X_train.drop(columns=additional_cols), \n",
    "            y_train\n",
    "           )\n",
    "\n",
    "y_pred = base_rf.predict(X_valid.drop(columns=additional_cols))\n",
    "base_rmse = np.sqrt(mean_squared_error(y_valid, y_pred)) \n",
    "print('Base RMSE when predict price per SF: ', round(base_rmse, 2))"
   ]
  },
  {
   "cell_type": "code",
   "execution_count": 127,
   "metadata": {},
   "outputs": [
    {
     "name": "stderr",
     "output_type": "stream",
     "text": [
      "C:\\Users\\Victor\\Anaconda3\\envs\\updated\\lib\\site-packages\\ipykernel_launcher.py:2: SettingWithCopyWarning: \n",
      "A value is trying to be set on a copy of a slice from a DataFrame.\n",
      "Try using .loc[row_indexer,col_indexer] = value instead\n",
      "\n",
      "See the caveats in the documentation: https://pandas.pydata.org/pandas-docs/stable/user_guide/indexing.html#returning-a-view-versus-a-copy\n",
      "  \n",
      "C:\\Users\\Victor\\Anaconda3\\envs\\updated\\lib\\site-packages\\ipykernel_launcher.py:3: SettingWithCopyWarning: \n",
      "A value is trying to be set on a copy of a slice from a DataFrame.\n",
      "Try using .loc[row_indexer,col_indexer] = value instead\n",
      "\n",
      "See the caveats in the documentation: https://pandas.pydata.org/pandas-docs/stable/user_guide/indexing.html#returning-a-view-versus-a-copy\n",
      "  This is separate from the ipykernel package so we can avoid doing imports until\n"
     ]
    }
   ],
   "source": [
    "# estimate sale price\n",
    "X_valid['pred_price_per_sf'] = y_pred\n",
    "X_valid['pred_sale_price'] = X_valid['pred_price_per_sf'] * X_valid['grlivarea']"
   ]
  },
  {
   "cell_type": "code",
   "execution_count": 128,
   "metadata": {},
   "outputs": [
    {
     "name": "stdout",
     "output_type": "stream",
     "text": [
      "If predict via price per square feet, then RMSE:  29249.019800106955\n"
     ]
    }
   ],
   "source": [
    "base_rmse2 = np.sqrt(mean_squared_error(X_valid.saleprice, \n",
    "                                        X_valid.pred_sale_price))\n",
    "\n",
    "print('If predict via price per square feet, then RMSE: ', base_rmse2)"
   ]
  },
  {
   "cell_type": "markdown",
   "metadata": {},
   "source": [
    "## Tuning RF via grid search"
   ]
  },
  {
   "cell_type": "code",
   "execution_count": 129,
   "metadata": {},
   "outputs": [],
   "source": [
    "?RandomForestRegressor"
   ]
  },
  {
   "cell_type": "code",
   "execution_count": null,
   "metadata": {},
   "outputs": [],
   "source": [
    "param_dict = "
   ]
  },
  {
   "cell_type": "code",
   "execution_count": null,
   "metadata": {},
   "outputs": [],
   "source": []
  },
  {
   "cell_type": "code",
   "execution_count": null,
   "metadata": {},
   "outputs": [],
   "source": [
    "X_test = dump_data.loc[dump_data[target] != 0]"
   ]
  },
  {
   "cell_type": "code",
   "execution_count": null,
   "metadata": {},
   "outputs": [],
   "source": []
  },
  {
   "cell_type": "code",
   "execution_count": null,
   "metadata": {},
   "outputs": [],
   "source": []
  }
 ],
 "metadata": {
  "kernelspec": {
   "display_name": "Python 3",
   "language": "python",
   "name": "python3"
  },
  "language_info": {
   "codemirror_mode": {
    "name": "ipython",
    "version": 3
   },
   "file_extension": ".py",
   "mimetype": "text/x-python",
   "name": "python",
   "nbconvert_exporter": "python",
   "pygments_lexer": "ipython3",
   "version": "3.7.7"
  }
 },
 "nbformat": 4,
 "nbformat_minor": 4
}
