{
 "cells": [
  {
   "cell_type": "markdown",
   "metadata": {},
   "source": [
    "# Summary\n",
    "\n",
    "I will start with linear regression as base model. \n",
    "\n",
    "+ I add quantitative features incrementally to see their impact on prediction perf\n",
    "+ I will also figure out what is the best perf of a linear model\n",
    "\n",
    "Then we will switch to ensemble models:\n",
    "+ random forest\n",
    "+ tune hyperparams of RF to achieve a better model. "
   ]
  },
  {
   "cell_type": "markdown",
   "metadata": {},
   "source": [
    "We will pick features based on analysis from my [EDA notebook](https://www.kaggle.com/victor191/eda-and-smart-feature-engineer)."
   ]
  },
  {
   "cell_type": "code",
   "execution_count": 1,
   "metadata": {
    "ExecuteTime": {
     "end_time": "2020-07-04T15:26:39.195976Z",
     "start_time": "2020-07-04T15:26:38.109429Z"
    }
   },
   "outputs": [],
   "source": [
    "import pandas as pd\n",
    "import numpy as np\n",
    "import matplotlib.pyplot as plt\n",
    "import seaborn as sns\n",
    "import os\n",
    "\n",
    "from sklearn.linear_model import LinearRegression, RidgeCV, LassoCV\n",
    "from sklearn.ensemble import RandomForestRegressor\n",
    "from sklearn.metrics import  mean_absolute_error, mean_squared_error\n",
    "from sklearn.model_selection import GridSearchCV, train_test_split, RandomizedSearchCV, StratifiedKFold"
   ]
  },
  {
   "cell_type": "code",
   "execution_count": 2,
   "metadata": {
    "ExecuteTime": {
     "end_time": "2020-07-04T15:26:39.245815Z",
     "start_time": "2020-07-04T15:26:39.196960Z"
    },
    "code_folding": [],
    "scrolled": true
   },
   "outputs": [
    {
     "name": "stdout",
     "output_type": "stream",
     "text": [
      "(1460, 81)\n",
      "(1459, 80)\n"
     ]
    }
   ],
   "source": [
    "# folder = '/kaggle/input/house-prices-advanced-regression-techniques/'\n",
    "folder = 'data'\n",
    "\n",
    "train = pd.read_csv(os.path.join(folder, 'train.csv'))\n",
    "test = pd.read_csv(os.path.join(folder, 'test.csv'))\n",
    "\n",
    "print(train.shape)\n",
    "print(test.shape)"
   ]
  },
  {
   "cell_type": "code",
   "execution_count": 3,
   "metadata": {
    "ExecuteTime": {
     "end_time": "2020-07-04T15:26:39.270765Z",
     "start_time": "2020-07-04T15:26:39.247808Z"
    }
   },
   "outputs": [
    {
     "name": "stdout",
     "output_type": "stream",
     "text": [
      "(2919, 81)\n"
     ]
    }
   ],
   "source": [
    "# concat train and test sets st we always perform transformation on both sets\n",
    "test['SalePrice'] = 0\n",
    "data = pd.concat([train, test])\n",
    "\n",
    "print(data.shape)\n",
    "\n",
    "# lowercase all column names for convenience\n",
    "data.columns = [str.lower(cc) for cc in data.columns]\n",
    "\n",
    "# sale price per square feet is also interested\n",
    "# data['sale_price_per_sf'] = data['saleprice'] / data['grlivarea']"
   ]
  },
  {
   "cell_type": "markdown",
   "metadata": {},
   "source": [
    "There are two approaches:\n",
    "+ predict directly sale price\n",
    "+ predict price per SF, then multiply with living area to estimate sale price\n",
    "\n",
    "I plan to try both, but first we need some helpers."
   ]
  },
  {
   "cell_type": "markdown",
   "metadata": {},
   "source": [
    "## Helper methods"
   ]
  },
  {
   "cell_type": "code",
   "execution_count": 4,
   "metadata": {
    "ExecuteTime": {
     "end_time": "2020-07-04T15:26:39.278727Z",
     "start_time": "2020-07-04T15:26:39.272743Z"
    },
    "code_folding": [
     0,
     3,
     7,
     17
    ]
   },
   "outputs": [],
   "source": [
    "def cal_age_from_built(row):\n",
    "    return row['yrsold'] - row['yearbuilt']\n",
    "\n",
    "def cal_age_from_remodel(row):\n",
    "    return row['yrsold'] - row['yearremodadd']\n",
    "\n",
    "\n",
    "def fold_zone_type(ms_zone):\n",
    "    if ms_zone in ['FV', 'RH', 'C (all)']:\n",
    "        return 'Other'\n",
    "    else:\n",
    "        return ms_zone\n",
    "#         return {'RL': 'Residential Low Density'.lower() , \n",
    "#                 'RM': 'Residential Medium Density'.lower(),\n",
    "#                 None: 'NA'\n",
    "#                }[ms_zone]    \n",
    "\n",
    "def to_adjacency(cond):\n",
    "    if 'RR' in cond:\n",
    "        return 'Railroad'\n",
    "    if 'Pos' in cond:\n",
    "        return 'Positive feature'\n",
    "    return {\n",
    "        'Artery': 'Arterial street',\n",
    "        'Feedr': 'Feeder street',\n",
    "        'Norm': 'Normal'    \n",
    "        }[cond]"
   ]
  },
  {
   "cell_type": "code",
   "execution_count": 5,
   "metadata": {
    "ExecuteTime": {
     "end_time": "2020-07-04T15:26:39.284710Z",
     "start_time": "2020-07-04T15:26:39.280720Z"
    }
   },
   "outputs": [],
   "source": [
    "# TODO: change this to imports from util"
   ]
  },
  {
   "cell_type": "code",
   "execution_count": 6,
   "metadata": {
    "ExecuteTime": {
     "end_time": "2020-07-04T15:26:39.297685Z",
     "start_time": "2020-07-04T15:26:39.287703Z"
    },
    "code_folding": []
   },
   "outputs": [],
   "source": [
    "def onehot_encode(cat_feat, data, dummy_na=False):\n",
    "    # given a categorical column,\n",
    "    # perform onehot encode and return encoded DF together with names of new binary columns\n",
    "    categories = data[cat_feat].unique()\n",
    "    print('there are', len(categories), 'categories as follows:')\n",
    "    print(categories)\n",
    "    \n",
    "    encoded = pd.get_dummies(data[cat_feat], prefix=cat_feat, dummy_na=dummy_na)\n",
    "    res = pd.concat([data.drop(columns=[cat_feat]), encoded], axis='columns')\n",
    "    new_feat_names = ['_'.join([cat_feat, cc]) for cc in categories]\n",
    "    return res, new_feat_names\n",
    "\n",
    "def encode_cat_feats(data, cat_feats, dummy_na=False):\n",
    "    print('Onehot encode categorical features: ', cat_feats)\n",
    "\n",
    "    encoded_df = data.copy()\n",
    "    # encode 1 cat feature at a time\n",
    "    for cf in cat_feats:\n",
    "        encoded_df, _ = onehot_encode(cf, encoded_df, dummy_na=dummy_na)\n",
    "\n",
    "    return encoded_df"
   ]
  },
  {
   "cell_type": "code",
   "execution_count": 7,
   "metadata": {
    "ExecuteTime": {
     "end_time": "2020-07-04T15:26:39.308656Z",
     "start_time": "2020-07-04T15:26:39.299670Z"
    },
    "code_folding": [
     0,
     3,
     6
    ]
   },
   "outputs": [],
   "source": [
    "def list_numeric_columns(data):\n",
    "    return list(data.columns[np.where(data.dtypes != 'object')])\n",
    "\n",
    "def list_string_columns(data):\n",
    "    return list(data.columns[np.where(data.dtypes == 'object')])\n",
    "\n",
    "def split_train_valid(data, target):\n",
    "    y = data.pop(target)\n",
    "    X = data\n",
    "    X_train, X_valid, y_train, y_valid = train_test_split(X, y, test_size=.1, \n",
    "                                                          random_state=1\n",
    "                                                         )\n",
    "    return X_train, X_valid, y_train, y_valid\n",
    "\n",
    "def check_na(data):\n",
    "    # return the columns having NAs, sorted descendingly by their number of NAs\n",
    "    na_count = [sum(data[ff].isnull()) for ff in data.columns]\n",
    "    return pd.DataFrame({'column': data.columns, 'na_count': na_count}).\\\n",
    "              query('na_count > 0').sort_values('na_count', ascending=False)  "
   ]
  },
  {
   "cell_type": "code",
   "execution_count": 8,
   "metadata": {
    "ExecuteTime": {
     "end_time": "2020-07-04T15:26:39.318620Z",
     "start_time": "2020-07-04T15:26:39.311638Z"
    }
   },
   "outputs": [],
   "source": [
    "def to_quantitative(text_feat, df, scoring):\n",
    "    '''\n",
    "    Given a feature stored in data as text but actually a quantitative feat, convert it to numerical values\n",
    "    via given encoding\n",
    "    :param scoring:\n",
    "    :param text_feat:\n",
    "    :return:\n",
    "    '''\n",
    "    n_na = sum(df[text_feat].isnull())\n",
    "    print('\\t Feature {0} has {1} NAs, they will be filled by 0'.format(text_feat, n_na))\n",
    "\n",
    "    res = df.copy()\n",
    "    res[text_feat].fillna(\"NA\", inplace=True)\n",
    "    res[text_feat] = res[text_feat].apply(lambda form: scoring[form])\n",
    "    return res\n",
    "\n",
    "def quant_to_scores(quant_feats, data, scorings):\n",
    "    print('\\n Converting quantitative text features to scores...')\n",
    "    score_dict = dict(zip(quant_feats, scorings))\n",
    "    \n",
    "    for tf in quant_feats:  \n",
    "        data = to_quantitative(text_feat=tf, df=data, scoring=score_dict[tf])\n",
    "\n",
    "    return data"
   ]
  },
  {
   "cell_type": "code",
   "execution_count": 9,
   "metadata": {
    "ExecuteTime": {
     "end_time": "2020-07-04T15:26:39.325602Z",
     "start_time": "2020-07-04T15:26:39.321612Z"
    }
   },
   "outputs": [],
   "source": [
    "def make_output(y_pred):\n",
    "    test_index = range(len(train) + 1, len(data) + 1)\n",
    "    return pd.DataFrame({'Id': test_index, 'SalePrice': y_pred})"
   ]
  },
  {
   "cell_type": "code",
   "execution_count": 10,
   "metadata": {
    "ExecuteTime": {
     "end_time": "2020-07-04T15:26:39.332605Z",
     "start_time": "2020-07-04T15:26:39.326600Z"
    }
   },
   "outputs": [],
   "source": [
    "def get_train_tests(data, target):\n",
    "    train_part = data.loc[data[target] > 0].copy()\n",
    "    test_part = data.loc[data[target] == 0].copy()\n",
    "    return train_part, test_part"
   ]
  },
  {
   "cell_type": "markdown",
   "metadata": {},
   "source": [
    "## Preprocessing"
   ]
  },
  {
   "cell_type": "code",
   "execution_count": 11,
   "metadata": {
    "ExecuteTime": {
     "end_time": "2020-07-04T15:26:39.344551Z",
     "start_time": "2020-07-04T15:26:39.334576Z"
    }
   },
   "outputs": [],
   "source": [
    "target = 'saleprice'\n",
    "y_train = data.loc[data[target] > 0][target]"
   ]
  },
  {
   "cell_type": "markdown",
   "metadata": {},
   "source": [
    "### Handle missing values"
   ]
  },
  {
   "cell_type": "code",
   "execution_count": 12,
   "metadata": {
    "ExecuteTime": {
     "end_time": "2020-07-04T15:26:39.353527Z",
     "start_time": "2020-07-04T15:26:39.346553Z"
    }
   },
   "outputs": [],
   "source": [
    "num_vars = list_numeric_columns(data.drop(columns=['id', target]))"
   ]
  },
  {
   "cell_type": "code",
   "execution_count": 13,
   "metadata": {
    "ExecuteTime": {
     "end_time": "2020-07-04T15:26:39.384452Z",
     "start_time": "2020-07-04T15:26:39.355521Z"
    }
   },
   "outputs": [
    {
     "name": "stdout",
     "output_type": "stream",
     "text": [
      "          column  na_count\n",
      "0    lotfrontage       486\n",
      "1    garageyrblt       159\n",
      "2     masvnrarea        23\n",
      "3   bsmtfullbath         2\n",
      "4   bsmthalfbath         2\n",
      "5     bsmtfinsf1         1\n",
      "6     bsmtfinsf2         1\n",
      "7      bsmtunfsf         1\n",
      "8    totalbsmtsf         1\n",
      "9     garagecars         1\n",
      "10    garagearea         1\n"
     ]
    }
   ],
   "source": [
    "na_checker = check_na(data[num_vars] ).sort_values('na_count', ascending=False).\\\n",
    "    reset_index(drop=True)\n",
    "print(na_checker)"
   ]
  },
  {
   "cell_type": "markdown",
   "metadata": {},
   "source": [
    "Fill NAs in certain numeric vars by their means."
   ]
  },
  {
   "cell_type": "code",
   "execution_count": 14,
   "metadata": {
    "ExecuteTime": {
     "end_time": "2020-07-04T15:26:39.409391Z",
     "start_time": "2020-07-04T15:26:39.386447Z"
    }
   },
   "outputs": [],
   "source": [
    "data[num_vars] = data[num_vars].fillna(data[num_vars].mean())"
   ]
  },
  {
   "cell_type": "code",
   "execution_count": 15,
   "metadata": {
    "ExecuteTime": {
     "end_time": "2020-07-04T15:26:39.441293Z",
     "start_time": "2020-07-04T15:26:39.410374Z"
    }
   },
   "outputs": [
    {
     "data": {
      "text/html": [
       "<div>\n",
       "<style scoped>\n",
       "    .dataframe tbody tr th:only-of-type {\n",
       "        vertical-align: middle;\n",
       "    }\n",
       "\n",
       "    .dataframe tbody tr th {\n",
       "        vertical-align: top;\n",
       "    }\n",
       "\n",
       "    .dataframe thead th {\n",
       "        text-align: right;\n",
       "    }\n",
       "</style>\n",
       "<table border=\"1\" class=\"dataframe\">\n",
       "  <thead>\n",
       "    <tr style=\"text-align: right;\">\n",
       "      <th></th>\n",
       "      <th>column</th>\n",
       "      <th>na_count</th>\n",
       "    </tr>\n",
       "  </thead>\n",
       "  <tbody>\n",
       "  </tbody>\n",
       "</table>\n",
       "</div>"
      ],
      "text/plain": [
       "Empty DataFrame\n",
       "Columns: [column, na_count]\n",
       "Index: []"
      ]
     },
     "execution_count": 15,
     "metadata": {},
     "output_type": "execute_result"
    }
   ],
   "source": [
    "check_na(data[num_vars])"
   ]
  },
  {
   "cell_type": "code",
   "execution_count": 16,
   "metadata": {
    "ExecuteTime": {
     "end_time": "2020-07-04T15:26:39.453260Z",
     "start_time": "2020-07-04T15:26:39.443286Z"
    }
   },
   "outputs": [],
   "source": [
    "train_part, test_part = get_train_tests(data, target)"
   ]
  },
  {
   "cell_type": "markdown",
   "metadata": {},
   "source": [
    "# Simple model\n",
    "LInear regressors with no derived features."
   ]
  },
  {
   "cell_type": "code",
   "execution_count": 17,
   "metadata": {
    "ExecuteTime": {
     "end_time": "2020-07-04T15:26:39.459244Z",
     "start_time": "2020-07-04T15:26:39.455254Z"
    }
   },
   "outputs": [],
   "source": [
    "feats0 = ['overallqual',\n",
    "          'yearbuilt', 'mosold', 'yrsold', 'grlivarea', 'lotarea'\n",
    "         ]\n",
    "# overallcond"
   ]
  },
  {
   "cell_type": "code",
   "execution_count": 18,
   "metadata": {
    "ExecuteTime": {
     "end_time": "2020-07-04T15:26:39.465229Z",
     "start_time": "2020-07-04T15:26:39.461238Z"
    }
   },
   "outputs": [],
   "source": [
    "y_train = train_part[target]"
   ]
  },
  {
   "cell_type": "code",
   "execution_count": 19,
   "metadata": {
    "ExecuteTime": {
     "end_time": "2020-07-04T15:26:39.473207Z",
     "start_time": "2020-07-04T15:26:39.468222Z"
    }
   },
   "outputs": [],
   "source": [
    "X_train = train_part[feats0]\n",
    "X_test = test_part[feats0]"
   ]
  },
  {
   "cell_type": "code",
   "execution_count": 20,
   "metadata": {
    "ExecuteTime": {
     "end_time": "2020-07-04T15:26:39.665698Z",
     "start_time": "2020-07-04T15:26:39.475203Z"
    }
   },
   "outputs": [
    {
     "name": "stdout",
     "output_type": "stream",
     "text": [
      "score of linear regressor 0.7497036340620418\n",
      "score of ridge regressor 0.7497036340620418\n"
     ]
    }
   ],
   "source": [
    "lr = LinearRegression()\n",
    "lr.fit(X_train, y_train)\n",
    "print('score of linear regressor', lr.score(X_train, y_train))\n",
    "\n",
    "alphas = np.linspace(-3, 0, 4)\n",
    "ridge = RidgeCV(alphas=alphas, cv=5)\n",
    "ridge.fit(X_train, y_train)\n",
    "print('score of ridge regressor', ridge.score(X_train, y_train))"
   ]
  },
  {
   "cell_type": "markdown",
   "metadata": {},
   "source": [
    "Ridge and base linear regressors have same score. So we only need linear regressor."
   ]
  },
  {
   "cell_type": "markdown",
   "metadata": {},
   "source": [
    "## Numeric features"
   ]
  },
  {
   "cell_type": "code",
   "execution_count": 21,
   "metadata": {
    "ExecuteTime": {
     "end_time": "2020-07-04T15:26:39.672674Z",
     "start_time": "2020-07-04T15:26:39.666690Z"
    },
    "scrolled": true
   },
   "outputs": [
    {
     "name": "stdout",
     "output_type": "stream",
     "text": [
      "['id', 'mssubclass', 'lotfrontage', 'lotarea', 'overallqual', 'overallcond', 'yearbuilt', 'yearremodadd', 'masvnrarea', 'bsmtfinsf1', 'bsmtfinsf2', 'bsmtunfsf', 'totalbsmtsf', '1stflrsf', '2ndflrsf', 'lowqualfinsf', 'grlivarea', 'bsmtfullbath', 'bsmthalfbath', 'fullbath', 'halfbath', 'bedroomabvgr', 'kitchenabvgr', 'totrmsabvgrd', 'fireplaces', 'garageyrblt', 'garagecars', 'garagearea', 'wooddecksf', 'openporchsf', 'enclosedporch', '3ssnporch', 'screenporch', 'poolarea', 'miscval', 'mosold', 'yrsold', 'saleprice']\n"
     ]
    }
   ],
   "source": [
    "num_cols = list_numeric_columns(data)\n",
    "print(num_cols)"
   ]
  },
  {
   "cell_type": "code",
   "execution_count": 22,
   "metadata": {
    "ExecuteTime": {
     "end_time": "2020-07-04T15:26:39.709574Z",
     "start_time": "2020-07-04T15:26:39.674667Z"
    },
    "scrolled": true
   },
   "outputs": [
    {
     "data": {
      "text/html": [
       "<div>\n",
       "<style scoped>\n",
       "    .dataframe tbody tr th:only-of-type {\n",
       "        vertical-align: middle;\n",
       "    }\n",
       "\n",
       "    .dataframe tbody tr th {\n",
       "        vertical-align: top;\n",
       "    }\n",
       "\n",
       "    .dataframe thead th {\n",
       "        text-align: right;\n",
       "    }\n",
       "</style>\n",
       "<table border=\"1\" class=\"dataframe\">\n",
       "  <thead>\n",
       "    <tr style=\"text-align: right;\">\n",
       "      <th></th>\n",
       "      <th>column</th>\n",
       "      <th>na_count</th>\n",
       "    </tr>\n",
       "  </thead>\n",
       "  <tbody>\n",
       "  </tbody>\n",
       "</table>\n",
       "</div>"
      ],
      "text/plain": [
       "Empty DataFrame\n",
       "Columns: [column, na_count]\n",
       "Index: []"
      ]
     },
     "execution_count": 22,
     "metadata": {},
     "output_type": "execute_result"
    }
   ],
   "source": [
    "check_na(data[num_cols]).sort_values('na_count', ascending=False)"
   ]
  },
  {
   "cell_type": "code",
   "execution_count": 23,
   "metadata": {
    "ExecuteTime": {
     "end_time": "2020-07-04T15:26:39.717552Z",
     "start_time": "2020-07-04T15:26:39.714560Z"
    }
   },
   "outputs": [],
   "source": [
    "feats0 = ['overallqual',\n",
    "          'yearbuilt', 'mosold', 'yrsold', 'grlivarea', 'lotarea'\n",
    "         ]\n",
    "# overallcond"
   ]
  },
  {
   "cell_type": "markdown",
   "metadata": {},
   "source": [
    "__note__: adding var \"overallcond\" pull down prediction perf a lot, so this var has problem."
   ]
  },
  {
   "cell_type": "code",
   "execution_count": 24,
   "metadata": {
    "ExecuteTime": {
     "end_time": "2020-07-04T15:26:39.724535Z",
     "start_time": "2020-07-04T15:26:39.721542Z"
    }
   },
   "outputs": [],
   "source": [
    "lr = LinearRegression()"
   ]
  },
  {
   "cell_type": "code",
   "execution_count": 25,
   "metadata": {
    "ExecuteTime": {
     "end_time": "2020-07-04T15:26:39.730519Z",
     "start_time": "2020-07-04T15:26:39.726530Z"
    },
    "code_folding": [
     0
    ]
   },
   "outputs": [],
   "source": [
    "# features for bathrooms, bedrooms\n",
    "room_feats = ['bedroomabvgr', 'fullbath', 'halfbath',\n",
    "              'kitchenabvgr', 'totrmsabvgrd'\n",
    "             ] # total_bath"
   ]
  },
  {
   "cell_type": "code",
   "execution_count": 26,
   "metadata": {
    "ExecuteTime": {
     "end_time": "2020-07-04T15:26:39.747472Z",
     "start_time": "2020-07-04T15:26:39.732513Z"
    }
   },
   "outputs": [
    {
     "name": "stdout",
     "output_type": "stream",
     "text": [
      "score of linear regressor 0.7668627922722758\n"
     ]
    }
   ],
   "source": [
    "X_train = train_part[feats0 + room_feats]\n",
    "X_test = test_part[feats0 + room_feats]\n",
    "\n",
    "lr.fit(X_train, y_train)\n",
    "print('score of linear regressor', lr.score(X_train, y_train))"
   ]
  },
  {
   "cell_type": "code",
   "execution_count": 27,
   "metadata": {
    "ExecuteTime": {
     "end_time": "2020-07-04T15:26:39.753456Z",
     "start_time": "2020-07-04T15:26:39.749468Z"
    },
    "code_folding": []
   },
   "outputs": [],
   "source": [
    "# area-related features\n",
    "area_feats = ['1stflrsf', '2ndflrsf', 'lowqualfinsf', 'masvnrarea']"
   ]
  },
  {
   "cell_type": "markdown",
   "metadata": {},
   "source": [
    "+ adding \"masvnrarea\" boost prediction a bit more"
   ]
  },
  {
   "cell_type": "code",
   "execution_count": 28,
   "metadata": {
    "ExecuteTime": {
     "end_time": "2020-07-04T15:26:39.772405Z",
     "start_time": "2020-07-04T15:26:39.755452Z"
    },
    "scrolled": true
   },
   "outputs": [
    {
     "name": "stdout",
     "output_type": "stream",
     "text": [
      "score of linear regressor 0.7811771495492964\n"
     ]
    }
   ],
   "source": [
    "X_train = train_part[feats0 + room_feats + area_feats]\n",
    "X_test = test_part[feats0 + room_feats + area_feats]\n",
    "\n",
    "lr.fit(X_train, y_train)\n",
    "print('score of linear regressor', lr.score(X_train, y_train))"
   ]
  },
  {
   "cell_type": "code",
   "execution_count": 29,
   "metadata": {
    "ExecuteTime": {
     "end_time": "2020-07-04T15:26:39.793350Z",
     "start_time": "2020-07-04T15:26:39.774401Z"
    }
   },
   "outputs": [
    {
     "data": {
      "text/html": [
       "<div>\n",
       "<style scoped>\n",
       "    .dataframe tbody tr th:only-of-type {\n",
       "        vertical-align: middle;\n",
       "    }\n",
       "\n",
       "    .dataframe tbody tr th {\n",
       "        vertical-align: top;\n",
       "    }\n",
       "\n",
       "    .dataframe thead th {\n",
       "        text-align: right;\n",
       "    }\n",
       "</style>\n",
       "<table border=\"1\" class=\"dataframe\">\n",
       "  <thead>\n",
       "    <tr style=\"text-align: right;\">\n",
       "      <th></th>\n",
       "      <th>column</th>\n",
       "      <th>na_count</th>\n",
       "    </tr>\n",
       "  </thead>\n",
       "  <tbody>\n",
       "  </tbody>\n",
       "</table>\n",
       "</div>"
      ],
      "text/plain": [
       "Empty DataFrame\n",
       "Columns: [column, na_count]\n",
       "Index: []"
      ]
     },
     "execution_count": 29,
     "metadata": {},
     "output_type": "execute_result"
    }
   ],
   "source": [
    "check_na(data[['bsmtfinsf1', 'bsmtunfsf',]])"
   ]
  },
  {
   "cell_type": "code",
   "execution_count": 30,
   "metadata": {
    "ExecuteTime": {
     "end_time": "2020-07-04T15:26:39.800331Z",
     "start_time": "2020-07-04T15:26:39.795344Z"
    },
    "code_folding": []
   },
   "outputs": [],
   "source": [
    "# basement features\n",
    "# a potential feature is ratio between unfinished basement area and total area\n",
    "\n",
    "# data['bsmt_unfinished_ratio'] = data['bsmtunfsf'] / data['totalbsmtsf']\n",
    "bsmt_feats = [ 'totalbsmtsf', \n",
    "             ] \n",
    "# 'bsmtfullbath', 'bsmthalfbath',  \n",
    "# 'bsmtunfsf', 'bsmtfinsf2', 'bsmtfinsf1'"
   ]
  },
  {
   "cell_type": "code",
   "execution_count": 31,
   "metadata": {
    "ExecuteTime": {
     "end_time": "2020-07-04T15:26:39.825265Z",
     "start_time": "2020-07-04T15:26:39.803324Z"
    },
    "scrolled": true
   },
   "outputs": [
    {
     "data": {
      "text/plain": [
       "0.7832"
      ]
     },
     "execution_count": 31,
     "metadata": {},
     "output_type": "execute_result"
    }
   ],
   "source": [
    "X_train = train_part[feats0 + room_feats  + bsmt_feats + area_feats]\n",
    "X_test = test_part[feats0 + room_feats  + bsmt_feats + area_feats]\n",
    "\n",
    "lr.fit(X_train, y_train)\n",
    "round(lr.score(X_train, y_train), 4)"
   ]
  },
  {
   "cell_type": "code",
   "execution_count": 32,
   "metadata": {
    "ExecuteTime": {
     "end_time": "2020-07-04T15:26:39.832246Z",
     "start_time": "2020-07-04T15:26:39.827259Z"
    }
   },
   "outputs": [],
   "source": [
    "# out_dir = '/kaggle/working'\n",
    "out_dir = 'output/'"
   ]
  },
  {
   "cell_type": "code",
   "execution_count": 33,
   "metadata": {
    "ExecuteTime": {
     "end_time": "2020-07-04T15:26:39.857180Z",
     "start_time": "2020-07-04T15:26:39.835238Z"
    }
   },
   "outputs": [],
   "source": [
    "make_output(lr.predict(X_test)).to_csv(os.path.join(out_dir, 'lin_res.csv') , index=False)"
   ]
  },
  {
   "cell_type": "markdown",
   "metadata": {},
   "source": [
    "+ Adding \"bsmtunfsf\" and \"bsmtfinsf1\" helps reach better score on train, but pull down prediction perf on test set. This maybe overfitting.\n",
    "\n",
    "+ bsmt_unfinished_ratio has NA"
   ]
  },
  {
   "cell_type": "code",
   "execution_count": 34,
   "metadata": {
    "ExecuteTime": {
     "end_time": "2020-07-04T15:26:39.863163Z",
     "start_time": "2020-07-04T15:26:39.859174Z"
    }
   },
   "outputs": [],
   "source": [
    "# garage feats\n",
    "gar_feats = [ 'garagecars', 'garagearea'] # garageyrblt: many NA"
   ]
  },
  {
   "cell_type": "code",
   "execution_count": 35,
   "metadata": {
    "ExecuteTime": {
     "end_time": "2020-07-04T15:26:39.875131Z",
     "start_time": "2020-07-04T15:26:39.866155Z"
    }
   },
   "outputs": [],
   "source": [
    "X_train = train_part[feats0 + room_feats + area_feats + bsmt_feats + gar_feats]\n",
    "X_test = test_part[feats0 + room_feats + area_feats + bsmt_feats + gar_feats]"
   ]
  },
  {
   "cell_type": "code",
   "execution_count": 36,
   "metadata": {
    "ExecuteTime": {
     "end_time": "2020-07-04T15:26:39.897072Z",
     "start_time": "2020-07-04T15:26:39.878123Z"
    }
   },
   "outputs": [
    {
     "data": {
      "text/html": [
       "<div>\n",
       "<style scoped>\n",
       "    .dataframe tbody tr th:only-of-type {\n",
       "        vertical-align: middle;\n",
       "    }\n",
       "\n",
       "    .dataframe tbody tr th {\n",
       "        vertical-align: top;\n",
       "    }\n",
       "\n",
       "    .dataframe thead th {\n",
       "        text-align: right;\n",
       "    }\n",
       "</style>\n",
       "<table border=\"1\" class=\"dataframe\">\n",
       "  <thead>\n",
       "    <tr style=\"text-align: right;\">\n",
       "      <th></th>\n",
       "      <th>column</th>\n",
       "      <th>na_count</th>\n",
       "    </tr>\n",
       "  </thead>\n",
       "  <tbody>\n",
       "  </tbody>\n",
       "</table>\n",
       "</div>"
      ],
      "text/plain": [
       "Empty DataFrame\n",
       "Columns: [column, na_count]\n",
       "Index: []"
      ]
     },
     "execution_count": 36,
     "metadata": {},
     "output_type": "execute_result"
    }
   ],
   "source": [
    "check_na(X_train)"
   ]
  },
  {
   "cell_type": "code",
   "execution_count": 37,
   "metadata": {
    "ExecuteTime": {
     "end_time": "2020-07-04T15:26:39.913030Z",
     "start_time": "2020-07-04T15:26:39.899067Z"
    }
   },
   "outputs": [
    {
     "data": {
      "text/plain": [
       "0.7897"
      ]
     },
     "execution_count": 37,
     "metadata": {},
     "output_type": "execute_result"
    }
   ],
   "source": [
    "lr.fit(X_train, y_train)\n",
    "round(lr.score(X_train, y_train), 4)"
   ]
  },
  {
   "cell_type": "code",
   "execution_count": 38,
   "metadata": {
    "ExecuteTime": {
     "end_time": "2020-07-04T15:26:39.931979Z",
     "start_time": "2020-07-04T15:26:39.915025Z"
    }
   },
   "outputs": [],
   "source": [
    "make_output(lr.predict(X_test)).to_csv(os.path.join(out_dir, 'lin_res_2.csv') , index=False)"
   ]
  },
  {
   "cell_type": "markdown",
   "metadata": {},
   "source": [
    "+ adding garage features not help, so drop them"
   ]
  },
  {
   "cell_type": "code",
   "execution_count": 39,
   "metadata": {
    "ExecuteTime": {
     "end_time": "2020-07-04T15:26:39.936966Z",
     "start_time": "2020-07-04T15:26:39.932976Z"
    }
   },
   "outputs": [],
   "source": [
    "feats = feats0 + room_feats  + bsmt_feats + area_feats"
   ]
  },
  {
   "cell_type": "markdown",
   "metadata": {},
   "source": [
    "# Categorical features\n",
    "\n",
    "To pick good features among categorical vars, we need a way to measure the correlation between a categorical var and our continuous target. Here comes eta correlation and its python implementation (dython)."
   ]
  },
  {
   "cell_type": "markdown",
   "metadata": {},
   "source": [
    "## Helpers for categorical correlaton"
   ]
  },
  {
   "cell_type": "code",
   "execution_count": 40,
   "metadata": {
    "ExecuteTime": {
     "end_time": "2020-07-04T15:26:41.103917Z",
     "start_time": "2020-07-04T15:26:39.939959Z"
    },
    "collapsed": true
   },
   "outputs": [
    {
     "name": "stdout",
     "output_type": "stream",
     "text": [
      "Requirement already satisfied: dython in c:\\users\\victor\\anaconda3\\envs\\updated\\lib\\site-packages (0.5.1)\n",
      "Requirement already satisfied: pandas in c:\\users\\victor\\anaconda3\\envs\\updated\\lib\\site-packages (from dython) (1.0.3)\n",
      "Requirement already satisfied: matplotlib in c:\\users\\victor\\anaconda3\\envs\\updated\\lib\\site-packages (from dython) (3.1.3)\n",
      "Requirement already satisfied: scikit-learn in c:\\users\\victor\\anaconda3\\envs\\updated\\lib\\site-packages (from dython) (0.23.1)\n",
      "Requirement already satisfied: numpy in c:\\users\\victor\\anaconda3\\envs\\updated\\lib\\site-packages (from dython) (1.18.1)\n",
      "Requirement already satisfied: scipy in c:\\users\\victor\\anaconda3\\envs\\updated\\lib\\site-packages (from dython) (1.4.1)\n",
      "Requirement already satisfied: seaborn in c:\\users\\victor\\anaconda3\\envs\\updated\\lib\\site-packages (from dython) (0.10.1)\n",
      "Requirement already satisfied: python-dateutil>=2.6.1 in c:\\users\\victor\\anaconda3\\envs\\updated\\lib\\site-packages (from pandas->dython) (2.8.1)\n",
      "Requirement already satisfied: pytz>=2017.2 in c:\\users\\victor\\anaconda3\\envs\\updated\\lib\\site-packages (from pandas->dython) (2020.1)\n",
      "Requirement already satisfied: pyparsing!=2.0.4,!=2.1.2,!=2.1.6,>=2.0.1 in c:\\users\\victor\\anaconda3\\envs\\updated\\lib\\site-packages (from matplotlib->dython) (2.4.7)\n",
      "Requirement already satisfied: cycler>=0.10 in c:\\users\\victor\\anaconda3\\envs\\updated\\lib\\site-packages (from matplotlib->dython) (0.10.0)\n",
      "Requirement already satisfied: kiwisolver>=1.0.1 in c:\\users\\victor\\anaconda3\\envs\\updated\\lib\\site-packages (from matplotlib->dython) (1.2.0)\n",
      "Requirement already satisfied: joblib>=0.11 in c:\\users\\victor\\anaconda3\\envs\\updated\\lib\\site-packages (from scikit-learn->dython) (0.15.1)\n",
      "Requirement already satisfied: threadpoolctl>=2.0.0 in c:\\users\\victor\\anaconda3\\envs\\updated\\lib\\site-packages (from scikit-learn->dython) (2.1.0)\n",
      "Requirement already satisfied: six>=1.5 in c:\\users\\victor\\anaconda3\\envs\\updated\\lib\\site-packages (from python-dateutil>=2.6.1->pandas->dython) (1.15.0)\n"
     ]
    }
   ],
   "source": [
    "!pip install dython"
   ]
  },
  {
   "cell_type": "code",
   "execution_count": 41,
   "metadata": {
    "ExecuteTime": {
     "end_time": "2020-07-04T15:26:41.116426Z",
     "start_time": "2020-07-04T15:26:41.105912Z"
    }
   },
   "outputs": [],
   "source": [
    "from dython.nominal import correlation_ratio, associations"
   ]
  },
  {
   "cell_type": "markdown",
   "metadata": {},
   "source": [
    "+ for correlation between 2 categorical vars, check method theils_u in dython"
   ]
  },
  {
   "cell_type": "code",
   "execution_count": 42,
   "metadata": {
    "ExecuteTime": {
     "end_time": "2020-07-04T15:26:41.125382Z",
     "start_time": "2020-07-04T15:26:41.118387Z"
    }
   },
   "outputs": [
    {
     "name": "stdout",
     "output_type": "stream",
     "text": [
      "# cat feats:  43\n",
      "['mszoning', 'street', 'alley', 'lotshape', 'landcontour', 'utilities', 'lotconfig', 'landslope', 'neighborhood', 'condition1', 'condition2', 'bldgtype', 'housestyle', 'roofstyle', 'roofmatl', 'exterior1st', 'exterior2nd', 'masvnrtype', 'exterqual', 'extercond', 'foundation', 'bsmtqual', 'bsmtcond', 'bsmtexposure', 'bsmtfintype1', 'bsmtfintype2', 'heating', 'heatingqc', 'centralair', 'electrical', 'kitchenqual', 'functional', 'fireplacequ', 'garagetype', 'garagefinish', 'garagequal', 'garagecond', 'paveddrive', 'poolqc', 'fence', 'miscfeature', 'saletype', 'salecondition']\n"
     ]
    }
   ],
   "source": [
    "cat_feats = list_string_columns(data)\n",
    "print('# cat feats: ', len(cat_feats))\n",
    "print(cat_feats)"
   ]
  },
  {
   "cell_type": "code",
   "execution_count": 43,
   "metadata": {
    "ExecuteTime": {
     "end_time": "2020-07-04T15:26:41.210148Z",
     "start_time": "2020-07-04T15:26:41.128360Z"
    },
    "scrolled": true
   },
   "outputs": [
    {
     "data": {
      "text/html": [
       "<div>\n",
       "<style scoped>\n",
       "    .dataframe tbody tr th:only-of-type {\n",
       "        vertical-align: middle;\n",
       "    }\n",
       "\n",
       "    .dataframe tbody tr th {\n",
       "        vertical-align: top;\n",
       "    }\n",
       "\n",
       "    .dataframe thead th {\n",
       "        text-align: right;\n",
       "    }\n",
       "</style>\n",
       "<table border=\"1\" class=\"dataframe\">\n",
       "  <thead>\n",
       "    <tr style=\"text-align: right;\">\n",
       "      <th></th>\n",
       "      <th>cat_feat</th>\n",
       "      <th>corr_with_target</th>\n",
       "    </tr>\n",
       "  </thead>\n",
       "  <tbody>\n",
       "    <tr>\n",
       "      <th>8</th>\n",
       "      <td>neighborhood</td>\n",
       "      <td>0.738630</td>\n",
       "    </tr>\n",
       "    <tr>\n",
       "      <th>18</th>\n",
       "      <td>exterqual</td>\n",
       "      <td>0.690933</td>\n",
       "    </tr>\n",
       "    <tr>\n",
       "      <th>21</th>\n",
       "      <td>bsmtqual</td>\n",
       "      <td>0.681905</td>\n",
       "    </tr>\n",
       "    <tr>\n",
       "      <th>30</th>\n",
       "      <td>kitchenqual</td>\n",
       "      <td>0.675721</td>\n",
       "    </tr>\n",
       "    <tr>\n",
       "      <th>34</th>\n",
       "      <td>garagefinish</td>\n",
       "      <td>0.553059</td>\n",
       "    </tr>\n",
       "    <tr>\n",
       "      <th>32</th>\n",
       "      <td>fireplacequ</td>\n",
       "      <td>0.542181</td>\n",
       "    </tr>\n",
       "    <tr>\n",
       "      <th>20</th>\n",
       "      <td>foundation</td>\n",
       "      <td>0.506328</td>\n",
       "    </tr>\n",
       "    <tr>\n",
       "      <th>33</th>\n",
       "      <td>garagetype</td>\n",
       "      <td>0.499204</td>\n",
       "    </tr>\n",
       "    <tr>\n",
       "      <th>24</th>\n",
       "      <td>bsmtfintype1</td>\n",
       "      <td>0.459141</td>\n",
       "    </tr>\n",
       "    <tr>\n",
       "      <th>27</th>\n",
       "      <td>heatingqc</td>\n",
       "      <td>0.442154</td>\n",
       "    </tr>\n",
       "    <tr>\n",
       "      <th>17</th>\n",
       "      <td>masvnrtype</td>\n",
       "      <td>0.434537</td>\n",
       "    </tr>\n",
       "    <tr>\n",
       "      <th>16</th>\n",
       "      <td>exterior2nd</td>\n",
       "      <td>0.392211</td>\n",
       "    </tr>\n",
       "    <tr>\n",
       "      <th>15</th>\n",
       "      <td>exterior1st</td>\n",
       "      <td>0.390862</td>\n",
       "    </tr>\n",
       "    <tr>\n",
       "      <th>23</th>\n",
       "      <td>bsmtexposure</td>\n",
       "      <td>0.386653</td>\n",
       "    </tr>\n",
       "    <tr>\n",
       "      <th>41</th>\n",
       "      <td>saletype</td>\n",
       "      <td>0.370523</td>\n",
       "    </tr>\n",
       "    <tr>\n",
       "      <th>42</th>\n",
       "      <td>salecondition</td>\n",
       "      <td>0.368100</td>\n",
       "    </tr>\n",
       "    <tr>\n",
       "      <th>0</th>\n",
       "      <td>mszoning</td>\n",
       "      <td>0.327963</td>\n",
       "    </tr>\n",
       "    <tr>\n",
       "      <th>12</th>\n",
       "      <td>housestyle</td>\n",
       "      <td>0.293790</td>\n",
       "    </tr>\n",
       "    <tr>\n",
       "      <th>35</th>\n",
       "      <td>garagequal</td>\n",
       "      <td>0.285344</td>\n",
       "    </tr>\n",
       "    <tr>\n",
       "      <th>36</th>\n",
       "      <td>garagecond</td>\n",
       "      <td>0.285213</td>\n",
       "    </tr>\n",
       "    <tr>\n",
       "      <th>3</th>\n",
       "      <td>lotshape</td>\n",
       "      <td>0.276362</td>\n",
       "    </tr>\n",
       "    <tr>\n",
       "      <th>28</th>\n",
       "      <td>centralair</td>\n",
       "      <td>0.251328</td>\n",
       "    </tr>\n",
       "    <tr>\n",
       "      <th>29</th>\n",
       "      <td>electrical</td>\n",
       "      <td>0.244318</td>\n",
       "    </tr>\n",
       "    <tr>\n",
       "      <th>13</th>\n",
       "      <td>roofstyle</td>\n",
       "      <td>0.240201</td>\n",
       "    </tr>\n",
       "    <tr>\n",
       "      <th>37</th>\n",
       "      <td>paveddrive</td>\n",
       "      <td>0.233537</td>\n",
       "    </tr>\n",
       "    <tr>\n",
       "      <th>22</th>\n",
       "      <td>bsmtcond</td>\n",
       "      <td>0.226706</td>\n",
       "    </tr>\n",
       "    <tr>\n",
       "      <th>39</th>\n",
       "      <td>fence</td>\n",
       "      <td>0.188719</td>\n",
       "    </tr>\n",
       "    <tr>\n",
       "      <th>11</th>\n",
       "      <td>bldgtype</td>\n",
       "      <td>0.185833</td>\n",
       "    </tr>\n",
       "    <tr>\n",
       "      <th>9</th>\n",
       "      <td>condition1</td>\n",
       "      <td>0.180640</td>\n",
       "    </tr>\n",
       "    <tr>\n",
       "      <th>14</th>\n",
       "      <td>roofmatl</td>\n",
       "      <td>0.177237</td>\n",
       "    </tr>\n",
       "    <tr>\n",
       "      <th>25</th>\n",
       "      <td>bsmtfintype2</td>\n",
       "      <td>0.174052</td>\n",
       "    </tr>\n",
       "    <tr>\n",
       "      <th>4</th>\n",
       "      <td>landcontour</td>\n",
       "      <td>0.160605</td>\n",
       "    </tr>\n",
       "    <tr>\n",
       "      <th>19</th>\n",
       "      <td>extercond</td>\n",
       "      <td>0.153680</td>\n",
       "    </tr>\n",
       "    <tr>\n",
       "      <th>38</th>\n",
       "      <td>poolqc</td>\n",
       "      <td>0.145588</td>\n",
       "    </tr>\n",
       "    <tr>\n",
       "      <th>6</th>\n",
       "      <td>lotconfig</td>\n",
       "      <td>0.144981</td>\n",
       "    </tr>\n",
       "    <tr>\n",
       "      <th>2</th>\n",
       "      <td>alley</td>\n",
       "      <td>0.142855</td>\n",
       "    </tr>\n",
       "    <tr>\n",
       "      <th>31</th>\n",
       "      <td>functional</td>\n",
       "      <td>0.128376</td>\n",
       "    </tr>\n",
       "    <tr>\n",
       "      <th>26</th>\n",
       "      <td>heating</td>\n",
       "      <td>0.120155</td>\n",
       "    </tr>\n",
       "    <tr>\n",
       "      <th>10</th>\n",
       "      <td>condition2</td>\n",
       "      <td>0.099495</td>\n",
       "    </tr>\n",
       "    <tr>\n",
       "      <th>40</th>\n",
       "      <td>miscfeature</td>\n",
       "      <td>0.084141</td>\n",
       "    </tr>\n",
       "    <tr>\n",
       "      <th>7</th>\n",
       "      <td>landslope</td>\n",
       "      <td>0.051784</td>\n",
       "    </tr>\n",
       "    <tr>\n",
       "      <th>1</th>\n",
       "      <td>street</td>\n",
       "      <td>0.041036</td>\n",
       "    </tr>\n",
       "    <tr>\n",
       "      <th>5</th>\n",
       "      <td>utilities</td>\n",
       "      <td>0.014314</td>\n",
       "    </tr>\n",
       "  </tbody>\n",
       "</table>\n",
       "</div>"
      ],
      "text/plain": [
       "         cat_feat  corr_with_target\n",
       "8    neighborhood          0.738630\n",
       "18      exterqual          0.690933\n",
       "21       bsmtqual          0.681905\n",
       "30    kitchenqual          0.675721\n",
       "34   garagefinish          0.553059\n",
       "32    fireplacequ          0.542181\n",
       "20     foundation          0.506328\n",
       "33     garagetype          0.499204\n",
       "24   bsmtfintype1          0.459141\n",
       "27      heatingqc          0.442154\n",
       "17     masvnrtype          0.434537\n",
       "16    exterior2nd          0.392211\n",
       "15    exterior1st          0.390862\n",
       "23   bsmtexposure          0.386653\n",
       "41       saletype          0.370523\n",
       "42  salecondition          0.368100\n",
       "0        mszoning          0.327963\n",
       "12     housestyle          0.293790\n",
       "35     garagequal          0.285344\n",
       "36     garagecond          0.285213\n",
       "3        lotshape          0.276362\n",
       "28     centralair          0.251328\n",
       "29     electrical          0.244318\n",
       "13      roofstyle          0.240201\n",
       "37     paveddrive          0.233537\n",
       "22       bsmtcond          0.226706\n",
       "39          fence          0.188719\n",
       "11       bldgtype          0.185833\n",
       "9      condition1          0.180640\n",
       "14       roofmatl          0.177237\n",
       "25   bsmtfintype2          0.174052\n",
       "4     landcontour          0.160605\n",
       "19      extercond          0.153680\n",
       "38         poolqc          0.145588\n",
       "6       lotconfig          0.144981\n",
       "2           alley          0.142855\n",
       "31     functional          0.128376\n",
       "26        heating          0.120155\n",
       "10     condition2          0.099495\n",
       "40    miscfeature          0.084141\n",
       "7       landslope          0.051784\n",
       "1          street          0.041036\n",
       "5       utilities          0.014314"
      ]
     },
     "execution_count": 43,
     "metadata": {},
     "output_type": "execute_result"
    }
   ],
   "source": [
    "eta_corrs = [correlation_ratio(train_part[cf], train_part[target]) for cf in cat_feats]\n",
    "corr_target_cat_feats = pd.DataFrame({'cat_feat': cat_feats, 'corr_with_target': eta_corrs\n",
    "                                     }).sort_values('corr_with_target', ascending=False)\n",
    "corr_target_cat_feats"
   ]
  },
  {
   "cell_type": "markdown",
   "metadata": {},
   "source": [
    "As expected: \n",
    "+ \"neighborhood\" has very high correlation with target, as it is purely categorical feats, I will deal with it later\n",
    "+ \"exterqual\" and \"kitchenqual\" also has high correlation with target, so I will encode them by proper scales."
   ]
  },
  {
   "cell_type": "code",
   "execution_count": 44,
   "metadata": {
    "ExecuteTime": {
     "end_time": "2020-07-04T15:26:41.234079Z",
     "start_time": "2020-07-04T15:26:41.212136Z"
    }
   },
   "outputs": [
    {
     "data": {
      "text/html": [
       "<div>\n",
       "<style scoped>\n",
       "    .dataframe tbody tr th:only-of-type {\n",
       "        vertical-align: middle;\n",
       "    }\n",
       "\n",
       "    .dataframe tbody tr th {\n",
       "        vertical-align: top;\n",
       "    }\n",
       "\n",
       "    .dataframe thead th {\n",
       "        text-align: right;\n",
       "    }\n",
       "</style>\n",
       "<table border=\"1\" class=\"dataframe\">\n",
       "  <thead>\n",
       "    <tr style=\"text-align: right;\">\n",
       "      <th></th>\n",
       "      <th>exterqual</th>\n",
       "      <th>kitchenqual</th>\n",
       "      <th>bsmtqual</th>\n",
       "    </tr>\n",
       "  </thead>\n",
       "  <tbody>\n",
       "    <tr>\n",
       "      <th>count</th>\n",
       "      <td>2919</td>\n",
       "      <td>2918</td>\n",
       "      <td>2838</td>\n",
       "    </tr>\n",
       "    <tr>\n",
       "      <th>unique</th>\n",
       "      <td>4</td>\n",
       "      <td>4</td>\n",
       "      <td>4</td>\n",
       "    </tr>\n",
       "    <tr>\n",
       "      <th>top</th>\n",
       "      <td>TA</td>\n",
       "      <td>TA</td>\n",
       "      <td>TA</td>\n",
       "    </tr>\n",
       "    <tr>\n",
       "      <th>freq</th>\n",
       "      <td>1798</td>\n",
       "      <td>1492</td>\n",
       "      <td>1283</td>\n",
       "    </tr>\n",
       "  </tbody>\n",
       "</table>\n",
       "</div>"
      ],
      "text/plain": [
       "       exterqual kitchenqual bsmtqual\n",
       "count       2919        2918     2838\n",
       "unique         4           4        4\n",
       "top           TA          TA       TA\n",
       "freq        1798        1492     1283"
      ]
     },
     "execution_count": 44,
     "metadata": {},
     "output_type": "execute_result"
    }
   ],
   "source": [
    "qual_feats = ['exterqual', 'kitchenqual', 'bsmtqual']\n",
    "data[qual_feats].describe()"
   ]
  },
  {
   "cell_type": "code",
   "execution_count": 45,
   "metadata": {
    "ExecuteTime": {
     "end_time": "2020-07-04T15:26:41.243056Z",
     "start_time": "2020-07-04T15:26:41.236073Z"
    }
   },
   "outputs": [
    {
     "data": {
      "text/plain": [
       "array(['Gd', 'TA', 'Ex', nan, 'Fa'], dtype=object)"
      ]
     },
     "execution_count": 45,
     "metadata": {},
     "output_type": "execute_result"
    }
   ],
   "source": [
    "data['exterqual'].unique()\n",
    "data['kitchenqual'].unique()\n",
    "data['bsmtqual'].unique()"
   ]
  },
  {
   "cell_type": "code",
   "execution_count": 46,
   "metadata": {
    "ExecuteTime": {
     "end_time": "2020-07-04T15:26:41.274970Z",
     "start_time": "2020-07-04T15:26:41.245050Z"
    }
   },
   "outputs": [
    {
     "name": "stdout",
     "output_type": "stream",
     "text": [
      "\n",
      " Converting quantitative text features to scores...\n",
      "\t Feature exterqual has 0 NAs, they will be filled by 0\n",
      "\t Feature kitchenqual has 1 NAs, they will be filled by 0\n",
      "\t Feature bsmtqual has 81 NAs, they will be filled by 0\n"
     ]
    }
   ],
   "source": [
    "six_scale = {\"Ex\": 5, \"Gd\": 4, \"TA\": 3, \"Fa\": 2, \"Po\": 1, \"NA\": 0}\n",
    "scorings = [six_scale]*len(qual_feats)\n",
    "\n",
    "data = quant_to_scores(qual_feats, data, scorings)\n",
    "train_part, test_part = get_train_tests(data, target)"
   ]
  },
  {
   "cell_type": "code",
   "execution_count": 47,
   "metadata": {
    "ExecuteTime": {
     "end_time": "2020-07-04T15:26:41.281971Z",
     "start_time": "2020-07-04T15:26:41.276965Z"
    }
   },
   "outputs": [],
   "source": [
    "feats += qual_feats\n",
    "X_train = train_part[feats]\n",
    "X_test = test_part[feats]"
   ]
  },
  {
   "cell_type": "code",
   "execution_count": 48,
   "metadata": {
    "ExecuteTime": {
     "end_time": "2020-07-04T15:26:41.294917Z",
     "start_time": "2020-07-04T15:26:41.283946Z"
    }
   },
   "outputs": [],
   "source": [
    "lr.fit(X_train, y_train)\n",
    "lr_score = round(lr.score(X_train, y_train), 4)"
   ]
  },
  {
   "cell_type": "code",
   "execution_count": 49,
   "metadata": {
    "ExecuteTime": {
     "end_time": "2020-07-04T15:26:41.312867Z",
     "start_time": "2020-07-04T15:26:41.296912Z"
    }
   },
   "outputs": [],
   "source": [
    "make_output(lr.predict(X_test)).to_csv(os.path.join(out_dir, 'lin_res_2.csv') , index=False)"
   ]
  },
  {
   "cell_type": "code",
   "execution_count": 50,
   "metadata": {
    "ExecuteTime": {
     "end_time": "2020-07-04T15:26:42.233402Z",
     "start_time": "2020-07-04T15:26:41.313864Z"
    },
    "code_folding": [],
    "scrolled": true
   },
   "outputs": [
    {
     "name": "stderr",
     "output_type": "stream",
     "text": [
      "C:\\Users\\Victor\\Anaconda3\\envs\\updated\\lib\\site-packages\\pandas\\core\\frame.py:4153: SettingWithCopyWarning: \n",
      "A value is trying to be set on a copy of a slice from a DataFrame\n",
      "\n",
      "See the caveats in the documentation: https://pandas.pydata.org/pandas-docs/stable/user_guide/indexing.html#returning-a-view-versus-a-copy\n",
      "  downcast=downcast,\n"
     ]
    },
    {
     "data": {
      "image/png": "[encoded data removed]",
      "text/plain": [
       "<Figure size 720x720 with 2 Axes>"
      ]
     },
     "metadata": {
      "needs_background": "light"
     },
     "output_type": "display_data"
    },
    {
     "data": {
      "text/plain": [
       "{'corr':               neighborhood  exterqual  bsmtqual  kitchenqual  garagefinish  \\\n",
       " neighborhood      1.000000   0.733113  0.647577     0.640827      0.245090   \n",
       " exterqual         0.733113   1.000000  0.574608     0.714328      0.519179   \n",
       " bsmtqual          0.647577   0.574608  1.000000     0.521353      0.494451   \n",
       " kitchenqual       0.640827   0.714328  0.521353     1.000000      0.466644   \n",
       " garagefinish      0.102720   0.519179  0.494451     0.466644      1.000000   \n",
       " fireplacequ       0.081321   0.394946  0.317835     0.388542      0.069539   \n",
       " foundation        0.160065   0.613028  0.719689     0.532900      0.131706   \n",
       " garagetype        0.108315   0.421131  0.427433     0.393997      0.349166   \n",
       " bsmtfintype1      0.100314   0.512413  0.764801     0.468151      0.070998   \n",
       " heatingqc         0.076047   0.546385  0.432341     0.514941      0.071053   \n",
       " \n",
       "               fireplacequ  foundation  garagetype  bsmtfintype1  heatingqc  \n",
       " neighborhood     0.190973    0.439727    0.283415      0.172131   0.199316  \n",
       " exterqual        0.394946    0.613028    0.421131      0.512413   0.546385  \n",
       " bsmtqual         0.317835    0.719689    0.427433      0.764801   0.432341  \n",
       " kitchenqual      0.388542    0.532900    0.393997      0.468151   0.514941  \n",
       " garagefinish     0.068443    0.151642    0.382907      0.051059   0.078049  \n",
       " fireplacequ      1.000000    0.050875    0.084280      0.026630   0.035069  \n",
       " foundation       0.043490    1.000000    0.124150      0.158353   0.158675  \n",
       " garagetype       0.075642    0.130347    1.000000      0.047904   0.045352  \n",
       " bsmtfintype1     0.036446    0.253525    0.073049      1.000000   0.086609  \n",
       " heatingqc        0.031422    0.166318    0.045277      0.056703   1.000000  ,\n",
       " 'ax': <matplotlib.axes._subplots.AxesSubplot at 0x173c525ac48>}"
      ]
     },
     "execution_count": 50,
     "metadata": {},
     "output_type": "execute_result"
    }
   ],
   "source": [
    "# plot corr between 10 cat features with highest corr to target\n",
    "top10_feats = corr_target_cat_feats.head(10)['cat_feat']\n",
    "associations(data[top10_feats], theil_u=True, figsize=(10, 10))"
   ]
  },
  {
   "cell_type": "code",
   "execution_count": 51,
   "metadata": {
    "ExecuteTime": {
     "end_time": "2020-07-04T15:26:42.252375Z",
     "start_time": "2020-07-04T15:26:42.235402Z"
    }
   },
   "outputs": [],
   "source": [
    "# to reduce minority \n",
    "data['zone_type'] = data['mszoning'].apply(fold_zone_type)\n",
    "data['adjacency'] = data['condition1'].apply(to_adjacency)\n",
    "train_part, test_part = get_train_tests(data, target)"
   ]
  },
  {
   "cell_type": "code",
   "execution_count": 52,
   "metadata": {
    "ExecuteTime": {
     "end_time": "2020-07-04T15:26:42.266352Z",
     "start_time": "2020-07-04T15:26:42.254344Z"
    }
   },
   "outputs": [
    {
     "data": {
      "text/plain": [
       "[0.28880288249977604, 0.17293552989193986]"
      ]
     },
     "execution_count": 52,
     "metadata": {},
     "output_type": "execute_result"
    }
   ],
   "source": [
    "[correlation_ratio(train_part[cf], train_part[target]) \n",
    " for cf in ['zone_type', 'adjacency']\n",
    "]"
   ]
  },
  {
   "cell_type": "markdown",
   "metadata": {},
   "source": [
    "## Encode categorical features\n",
    "\n",
    "I will perform onehot encoding incrementally, starting with features having highest correlations with target."
   ]
  },
  {
   "cell_type": "code",
   "execution_count": 53,
   "metadata": {
    "ExecuteTime": {
     "end_time": "2020-07-04T15:26:42.280276Z",
     "start_time": "2020-07-04T15:26:42.268308Z"
    }
   },
   "outputs": [
    {
     "data": {
      "text/html": [
       "<div>\n",
       "<style scoped>\n",
       "    .dataframe tbody tr th:only-of-type {\n",
       "        vertical-align: middle;\n",
       "    }\n",
       "\n",
       "    .dataframe tbody tr th {\n",
       "        vertical-align: top;\n",
       "    }\n",
       "\n",
       "    .dataframe thead th {\n",
       "        text-align: right;\n",
       "    }\n",
       "</style>\n",
       "<table border=\"1\" class=\"dataframe\">\n",
       "  <thead>\n",
       "    <tr style=\"text-align: right;\">\n",
       "      <th></th>\n",
       "      <th>column</th>\n",
       "      <th>na_count</th>\n",
       "    </tr>\n",
       "  </thead>\n",
       "  <tbody>\n",
       "  </tbody>\n",
       "</table>\n",
       "</div>"
      ],
      "text/plain": [
       "Empty DataFrame\n",
       "Columns: [column, na_count]\n",
       "Index: []"
      ]
     },
     "execution_count": 53,
     "metadata": {},
     "output_type": "execute_result"
    }
   ],
   "source": [
    "check_na(data[['neighborhood']])"
   ]
  },
  {
   "cell_type": "code",
   "execution_count": 54,
   "metadata": {
    "ExecuteTime": {
     "end_time": "2020-07-04T15:26:42.302219Z",
     "start_time": "2020-07-04T15:26:42.282269Z"
    }
   },
   "outputs": [
    {
     "name": "stdout",
     "output_type": "stream",
     "text": [
      "there are 25 categories as follows:\n",
      "['CollgCr' 'Veenker' 'Crawfor' 'NoRidge' 'Mitchel' 'Somerst' 'NWAmes'\n",
      " 'OldTown' 'BrkSide' 'Sawyer' 'NridgHt' 'NAmes' 'SawyerW' 'IDOTRR'\n",
      " 'MeadowV' 'Edwards' 'Timber' 'Gilbert' 'StoneBr' 'ClearCr' 'NPkVill'\n",
      " 'Blmngtn' 'BrDale' 'SWISU' 'Blueste']\n",
      "(2919, 107)\n"
     ]
    }
   ],
   "source": [
    "# nbhood\n",
    "encoded_data, nbh_feats = onehot_encode('neighborhood', data)\n",
    "print(encoded_data.shape)"
   ]
  },
  {
   "cell_type": "code",
   "execution_count": 55,
   "metadata": {
    "ExecuteTime": {
     "end_time": "2020-07-04T15:26:42.332137Z",
     "start_time": "2020-07-04T15:26:42.304215Z"
    }
   },
   "outputs": [
    {
     "data": {
      "text/html": [
       "<div>\n",
       "<style scoped>\n",
       "    .dataframe tbody tr th:only-of-type {\n",
       "        vertical-align: middle;\n",
       "    }\n",
       "\n",
       "    .dataframe tbody tr th {\n",
       "        vertical-align: top;\n",
       "    }\n",
       "\n",
       "    .dataframe thead th {\n",
       "        text-align: right;\n",
       "    }\n",
       "</style>\n",
       "<table border=\"1\" class=\"dataframe\">\n",
       "  <thead>\n",
       "    <tr style=\"text-align: right;\">\n",
       "      <th></th>\n",
       "      <th>neighborhood_CollgCr</th>\n",
       "      <th>neighborhood_Veenker</th>\n",
       "      <th>neighborhood_Crawfor</th>\n",
       "      <th>neighborhood_NoRidge</th>\n",
       "      <th>neighborhood_Mitchel</th>\n",
       "      <th>neighborhood_Somerst</th>\n",
       "      <th>neighborhood_NWAmes</th>\n",
       "      <th>neighborhood_OldTown</th>\n",
       "      <th>neighborhood_BrkSide</th>\n",
       "      <th>neighborhood_Sawyer</th>\n",
       "      <th>...</th>\n",
       "      <th>neighborhood_Edwards</th>\n",
       "      <th>neighborhood_Timber</th>\n",
       "      <th>neighborhood_Gilbert</th>\n",
       "      <th>neighborhood_StoneBr</th>\n",
       "      <th>neighborhood_ClearCr</th>\n",
       "      <th>neighborhood_NPkVill</th>\n",
       "      <th>neighborhood_Blmngtn</th>\n",
       "      <th>neighborhood_BrDale</th>\n",
       "      <th>neighborhood_SWISU</th>\n",
       "      <th>neighborhood_Blueste</th>\n",
       "    </tr>\n",
       "  </thead>\n",
       "  <tbody>\n",
       "    <tr>\n",
       "      <th>0</th>\n",
       "      <td>1</td>\n",
       "      <td>0</td>\n",
       "      <td>0</td>\n",
       "      <td>0</td>\n",
       "      <td>0</td>\n",
       "      <td>0</td>\n",
       "      <td>0</td>\n",
       "      <td>0</td>\n",
       "      <td>0</td>\n",
       "      <td>0</td>\n",
       "      <td>...</td>\n",
       "      <td>0</td>\n",
       "      <td>0</td>\n",
       "      <td>0</td>\n",
       "      <td>0</td>\n",
       "      <td>0</td>\n",
       "      <td>0</td>\n",
       "      <td>0</td>\n",
       "      <td>0</td>\n",
       "      <td>0</td>\n",
       "      <td>0</td>\n",
       "    </tr>\n",
       "    <tr>\n",
       "      <th>1</th>\n",
       "      <td>0</td>\n",
       "      <td>1</td>\n",
       "      <td>0</td>\n",
       "      <td>0</td>\n",
       "      <td>0</td>\n",
       "      <td>0</td>\n",
       "      <td>0</td>\n",
       "      <td>0</td>\n",
       "      <td>0</td>\n",
       "      <td>0</td>\n",
       "      <td>...</td>\n",
       "      <td>0</td>\n",
       "      <td>0</td>\n",
       "      <td>0</td>\n",
       "      <td>0</td>\n",
       "      <td>0</td>\n",
       "      <td>0</td>\n",
       "      <td>0</td>\n",
       "      <td>0</td>\n",
       "      <td>0</td>\n",
       "      <td>0</td>\n",
       "    </tr>\n",
       "    <tr>\n",
       "      <th>2</th>\n",
       "      <td>1</td>\n",
       "      <td>0</td>\n",
       "      <td>0</td>\n",
       "      <td>0</td>\n",
       "      <td>0</td>\n",
       "      <td>0</td>\n",
       "      <td>0</td>\n",
       "      <td>0</td>\n",
       "      <td>0</td>\n",
       "      <td>0</td>\n",
       "      <td>...</td>\n",
       "      <td>0</td>\n",
       "      <td>0</td>\n",
       "      <td>0</td>\n",
       "      <td>0</td>\n",
       "      <td>0</td>\n",
       "      <td>0</td>\n",
       "      <td>0</td>\n",
       "      <td>0</td>\n",
       "      <td>0</td>\n",
       "      <td>0</td>\n",
       "    </tr>\n",
       "    <tr>\n",
       "      <th>3</th>\n",
       "      <td>0</td>\n",
       "      <td>0</td>\n",
       "      <td>1</td>\n",
       "      <td>0</td>\n",
       "      <td>0</td>\n",
       "      <td>0</td>\n",
       "      <td>0</td>\n",
       "      <td>0</td>\n",
       "      <td>0</td>\n",
       "      <td>0</td>\n",
       "      <td>...</td>\n",
       "      <td>0</td>\n",
       "      <td>0</td>\n",
       "      <td>0</td>\n",
       "      <td>0</td>\n",
       "      <td>0</td>\n",
       "      <td>0</td>\n",
       "      <td>0</td>\n",
       "      <td>0</td>\n",
       "      <td>0</td>\n",
       "      <td>0</td>\n",
       "    </tr>\n",
       "    <tr>\n",
       "      <th>4</th>\n",
       "      <td>0</td>\n",
       "      <td>0</td>\n",
       "      <td>0</td>\n",
       "      <td>1</td>\n",
       "      <td>0</td>\n",
       "      <td>0</td>\n",
       "      <td>0</td>\n",
       "      <td>0</td>\n",
       "      <td>0</td>\n",
       "      <td>0</td>\n",
       "      <td>...</td>\n",
       "      <td>0</td>\n",
       "      <td>0</td>\n",
       "      <td>0</td>\n",
       "      <td>0</td>\n",
       "      <td>0</td>\n",
       "      <td>0</td>\n",
       "      <td>0</td>\n",
       "      <td>0</td>\n",
       "      <td>0</td>\n",
       "      <td>0</td>\n",
       "    </tr>\n",
       "  </tbody>\n",
       "</table>\n",
       "<p>5 rows × 25 columns</p>\n",
       "</div>"
      ],
      "text/plain": [
       "   neighborhood_CollgCr  neighborhood_Veenker  neighborhood_Crawfor  \\\n",
       "0                     1                     0                     0   \n",
       "1                     0                     1                     0   \n",
       "2                     1                     0                     0   \n",
       "3                     0                     0                     1   \n",
       "4                     0                     0                     0   \n",
       "\n",
       "   neighborhood_NoRidge  neighborhood_Mitchel  neighborhood_Somerst  \\\n",
       "0                     0                     0                     0   \n",
       "1                     0                     0                     0   \n",
       "2                     0                     0                     0   \n",
       "3                     0                     0                     0   \n",
       "4                     1                     0                     0   \n",
       "\n",
       "   neighborhood_NWAmes  neighborhood_OldTown  neighborhood_BrkSide  \\\n",
       "0                    0                     0                     0   \n",
       "1                    0                     0                     0   \n",
       "2                    0                     0                     0   \n",
       "3                    0                     0                     0   \n",
       "4                    0                     0                     0   \n",
       "\n",
       "   neighborhood_Sawyer  ...  neighborhood_Edwards  neighborhood_Timber  \\\n",
       "0                    0  ...                     0                    0   \n",
       "1                    0  ...                     0                    0   \n",
       "2                    0  ...                     0                    0   \n",
       "3                    0  ...                     0                    0   \n",
       "4                    0  ...                     0                    0   \n",
       "\n",
       "   neighborhood_Gilbert  neighborhood_StoneBr  neighborhood_ClearCr  \\\n",
       "0                     0                     0                     0   \n",
       "1                     0                     0                     0   \n",
       "2                     0                     0                     0   \n",
       "3                     0                     0                     0   \n",
       "4                     0                     0                     0   \n",
       "\n",
       "   neighborhood_NPkVill  neighborhood_Blmngtn  neighborhood_BrDale  \\\n",
       "0                     0                     0                    0   \n",
       "1                     0                     0                    0   \n",
       "2                     0                     0                    0   \n",
       "3                     0                     0                    0   \n",
       "4                     0                     0                    0   \n",
       "\n",
       "   neighborhood_SWISU  neighborhood_Blueste  \n",
       "0                   0                     0  \n",
       "1                   0                     0  \n",
       "2                   0                     0  \n",
       "3                   0                     0  \n",
       "4                   0                     0  \n",
       "\n",
       "[5 rows x 25 columns]"
      ]
     },
     "execution_count": 55,
     "metadata": {},
     "output_type": "execute_result"
    }
   ],
   "source": [
    "encoded_data[nbh_feats] .head()"
   ]
  },
  {
   "cell_type": "code",
   "execution_count": 56,
   "metadata": {
    "ExecuteTime": {
     "end_time": "2020-07-04T15:26:42.343131Z",
     "start_time": "2020-07-04T15:26:42.334132Z"
    }
   },
   "outputs": [],
   "source": [
    "train_part, test_part = get_train_tests(encoded_data, target)"
   ]
  },
  {
   "cell_type": "code",
   "execution_count": 57,
   "metadata": {
    "ExecuteTime": {
     "end_time": "2020-07-04T15:26:42.351088Z",
     "start_time": "2020-07-04T15:26:42.344104Z"
    }
   },
   "outputs": [],
   "source": [
    "feats += nbh_feats\n",
    "X_train = train_part[feats]\n",
    "X_test = test_part[feats]"
   ]
  },
  {
   "cell_type": "markdown",
   "metadata": {},
   "source": [
    "# Random forest\n",
    "\n"
   ]
  },
  {
   "cell_type": "code",
   "execution_count": 58,
   "metadata": {
    "ExecuteTime": {
     "end_time": "2020-07-04T15:26:42.358069Z",
     "start_time": "2020-07-04T15:26:42.354080Z"
    }
   },
   "outputs": [],
   "source": [
    "base_rf = RandomForestRegressor(n_estimators=100, max_features=1.0, n_jobs=-1,\n",
    "                               random_state=1,\n",
    "                               )"
   ]
  },
  {
   "cell_type": "code",
   "execution_count": 59,
   "metadata": {
    "ExecuteTime": {
     "end_time": "2020-07-04T15:26:42.939770Z",
     "start_time": "2020-07-04T15:26:42.360064Z"
    },
    "scrolled": false
   },
   "outputs": [
    {
     "data": {
      "text/plain": [
       "0.9802"
      ]
     },
     "execution_count": 59,
     "metadata": {},
     "output_type": "execute_result"
    }
   ],
   "source": [
    "base_rf.fit(X_train, y_train)\n",
    "rf_score = round(base_rf.score(X_train, y_train), 4)\n",
    "rf_score"
   ]
  },
  {
   "cell_type": "code",
   "execution_count": 60,
   "metadata": {
    "ExecuteTime": {
     "end_time": "2020-07-04T15:26:43.070558Z",
     "start_time": "2020-07-04T15:26:42.942767Z"
    }
   },
   "outputs": [],
   "source": [
    "y_pred = base_rf.predict(X_test)\n",
    "make_output(y_pred).to_csv(os.path.join(out_dir, 'rf_res.csv') , index=False)"
   ]
  },
  {
   "cell_type": "code",
   "execution_count": 61,
   "metadata": {
    "ExecuteTime": {
     "end_time": "2020-07-04T15:26:43.077538Z",
     "start_time": "2020-07-04T15:26:43.072550Z"
    }
   },
   "outputs": [
    {
     "data": {
      "text/plain": [
       "22.70906359539309"
      ]
     },
     "execution_count": 61,
     "metadata": {},
     "output_type": "execute_result"
    }
   ],
   "source": [
    "100 * (rf_score - lr_score)/lr_score"
   ]
  },
  {
   "cell_type": "markdown",
   "metadata": {},
   "source": [
    "+ adding neighborhood has a whooping effect. It boosts score by >20% and advanced me >450 places on leaderboard.\n",
    "+ now we add the next relevant categorical var, \"foundation\" (this is because kitchen and exterior qualities are already added). But should expect that the impact may be marginal, as the correlation is not that high."
   ]
  },
  {
   "cell_type": "code",
   "execution_count": 62,
   "metadata": {
    "ExecuteTime": {
     "end_time": "2020-07-04T15:26:43.089506Z",
     "start_time": "2020-07-04T15:26:43.080527Z"
    }
   },
   "outputs": [
    {
     "data": {
      "text/plain": [
       "PConc     1308\n",
       "CBlock    1235\n",
       "BrkTil     311\n",
       "Slab        49\n",
       "Stone       11\n",
       "Wood         5\n",
       "Name: foundation, dtype: int64"
      ]
     },
     "execution_count": 62,
     "metadata": {},
     "output_type": "execute_result"
    }
   ],
   "source": [
    "# adding foundation\n",
    "data.foundation.value_counts()"
   ]
  },
  {
   "cell_type": "code",
   "execution_count": 63,
   "metadata": {
    "ExecuteTime": {
     "end_time": "2020-07-04T15:26:43.106460Z",
     "start_time": "2020-07-04T15:26:43.091501Z"
    }
   },
   "outputs": [
    {
     "data": {
      "text/html": [
       "<div>\n",
       "<style scoped>\n",
       "    .dataframe tbody tr th:only-of-type {\n",
       "        vertical-align: middle;\n",
       "    }\n",
       "\n",
       "    .dataframe tbody tr th {\n",
       "        vertical-align: top;\n",
       "    }\n",
       "\n",
       "    .dataframe thead th {\n",
       "        text-align: right;\n",
       "    }\n",
       "</style>\n",
       "<table border=\"1\" class=\"dataframe\">\n",
       "  <thead>\n",
       "    <tr style=\"text-align: right;\">\n",
       "      <th></th>\n",
       "      <th>column</th>\n",
       "      <th>na_count</th>\n",
       "    </tr>\n",
       "  </thead>\n",
       "  <tbody>\n",
       "  </tbody>\n",
       "</table>\n",
       "</div>"
      ],
      "text/plain": [
       "Empty DataFrame\n",
       "Columns: [column, na_count]\n",
       "Index: []"
      ]
     },
     "execution_count": 63,
     "metadata": {},
     "output_type": "execute_result"
    }
   ],
   "source": [
    "check_na(data[['foundation']])"
   ]
  },
  {
   "cell_type": "code",
   "execution_count": 64,
   "metadata": {
    "ExecuteTime": {
     "end_time": "2020-07-04T15:26:43.132389Z",
     "start_time": "2020-07-04T15:26:43.109450Z"
    },
    "scrolled": true
   },
   "outputs": [
    {
     "name": "stdout",
     "output_type": "stream",
     "text": [
      "there are 6 categories as follows:\n",
      "['PConc' 'CBlock' 'BrkTil' 'Wood' 'Slab' 'Stone']\n"
     ]
    }
   ],
   "source": [
    "encoded_data, fdn_feats = onehot_encode('foundation', encoded_data)"
   ]
  },
  {
   "cell_type": "code",
   "execution_count": 65,
   "metadata": {
    "ExecuteTime": {
     "end_time": "2020-07-04T15:26:43.145355Z",
     "start_time": "2020-07-04T15:26:43.134383Z"
    }
   },
   "outputs": [],
   "source": [
    "train_part, test_part = get_train_tests(encoded_data, target)"
   ]
  },
  {
   "cell_type": "code",
   "execution_count": 66,
   "metadata": {
    "ExecuteTime": {
     "end_time": "2020-07-04T15:26:43.155329Z",
     "start_time": "2020-07-04T15:26:43.147355Z"
    }
   },
   "outputs": [],
   "source": [
    "feats += fdn_feats\n",
    "X_train = train_part[feats]\n",
    "X_test = test_part[feats]"
   ]
  },
  {
   "cell_type": "code",
   "execution_count": 67,
   "metadata": {
    "ExecuteTime": {
     "end_time": "2020-07-04T15:26:43.742142Z",
     "start_time": "2020-07-04T15:26:43.157324Z"
    },
    "scrolled": false
   },
   "outputs": [
    {
     "data": {
      "text/plain": [
       "0.98"
      ]
     },
     "execution_count": 67,
     "metadata": {},
     "output_type": "execute_result"
    }
   ],
   "source": [
    "base_rf.fit(X_train, y_train)\n",
    "rf_score = round(base_rf.score(X_train, y_train), 4)\n",
    "rf_score"
   ]
  },
  {
   "cell_type": "code",
   "execution_count": 68,
   "metadata": {
    "ExecuteTime": {
     "end_time": "2020-07-04T15:26:43.778559Z",
     "start_time": "2020-07-04T15:26:43.765088Z"
    }
   },
   "outputs": [
    {
     "name": "stdout",
     "output_type": "stream",
     "text": [
      "Stored 'feats' (list)\n"
     ]
    }
   ],
   "source": [
    "%store feats"
   ]
  },
  {
   "cell_type": "markdown",
   "metadata": {},
   "source": [
    "+ as expected \"foundation\" not help at all, it even pulls down perf."
   ]
  },
  {
   "cell_type": "markdown",
   "metadata": {},
   "source": [
    "# Encoding schemes for nominal vars"
   ]
  },
  {
   "cell_type": "code",
   "execution_count": 69,
   "metadata": {
    "ExecuteTime": {
     "end_time": "2020-07-04T15:26:43.794033Z",
     "start_time": "2020-07-04T15:26:43.784070Z"
    }
   },
   "outputs": [],
   "source": [
    "# !pip install category_encoders"
   ]
  },
  {
   "cell_type": "code",
   "execution_count": 70,
   "metadata": {
    "ExecuteTime": {
     "end_time": "2020-07-04T15:26:43.890916Z",
     "start_time": "2020-07-04T15:26:43.797043Z"
    }
   },
   "outputs": [],
   "source": [
    "import category_encoders as ce"
   ]
  },
  {
   "cell_type": "code",
   "execution_count": 71,
   "metadata": {
    "ExecuteTime": {
     "end_time": "2020-07-04T15:26:43.896912Z",
     "start_time": "2020-07-04T15:26:43.892914Z"
    }
   },
   "outputs": [
    {
     "name": "stdout",
     "output_type": "stream",
     "text": [
      "# categ feats: 42\n"
     ]
    }
   ],
   "source": [
    "cat_feats = list_string_columns(data)\n",
    "print('# categ feats:', len(cat_feats))"
   ]
  },
  {
   "cell_type": "code",
   "execution_count": 72,
   "metadata": {
    "ExecuteTime": {
     "end_time": "2020-07-04T15:26:43.907873Z",
     "start_time": "2020-07-04T15:26:43.899907Z"
    },
    "code_folding": [
     0
    ]
   },
   "outputs": [],
   "source": [
    "def eval_perf(encoder, cat_feats, initials='cb'):\n",
    "    encoder.fit(train[cat_feats], train[target])\n",
    "\n",
    "    encoded_train = train.join(encoder.transform(train[cat_feats]).add_suffix('_' + initials)).drop(columns=cat_feats)\n",
    "    encoded_test = test.join(encoder.transform(test[cat_feats]).add_suffix('_' + initials)).drop(columns=cat_feats)\n",
    "    \n",
    "    #     fill NAs\n",
    "    num_feats = list_numeric_columns(encoded_train)\n",
    "    encoded_train[num_feats] = encoded_train[num_feats].fillna(encoded_train[num_feats].mean())\n",
    "    encoded_test[num_feats] = encoded_test[num_feats].fillna(encoded_test[num_feats].mean())\n",
    "\n",
    "    features = encoded_train.columns.drop([target, 'id'])\n",
    "    # print(features)\n",
    "\n",
    "    base_rf.fit(encoded_train[features], encoded_train[target])\n",
    "    score = round(base_rf.score(encoded_train[features], encoded_train[target]), 4)\n",
    "    return score"
   ]
  },
  {
   "cell_type": "markdown",
   "metadata": {},
   "source": [
    "## Target encoding\n",
    "\n",
    "Encode each category by mean value of target within that category."
   ]
  },
  {
   "cell_type": "code",
   "execution_count": 73,
   "metadata": {
    "ExecuteTime": {
     "end_time": "2020-07-04T15:26:43.919841Z",
     "start_time": "2020-07-04T15:26:43.910865Z"
    }
   },
   "outputs": [],
   "source": [
    "train, test = get_train_tests(data, target)"
   ]
  },
  {
   "cell_type": "code",
   "execution_count": 74,
   "metadata": {
    "ExecuteTime": {
     "end_time": "2020-07-04T15:26:44.443046Z",
     "start_time": "2020-07-04T15:26:43.921836Z"
    }
   },
   "outputs": [
    {
     "data": {
      "text/plain": [
       "TargetEncoder(cols=['mszoning', 'street', 'alley', 'lotshape', 'landcontour',\n",
       "                    'utilities', 'lotconfig', 'landslope', 'neighborhood',\n",
       "                    'condition1', 'condition2', 'bldgtype', 'housestyle',\n",
       "                    'roofstyle', 'roofmatl', 'exterior1st', 'exterior2nd',\n",
       "                    'masvnrtype', 'extercond', 'foundation', 'bsmtcond',\n",
       "                    'bsmtexposure', 'bsmtfintype1', 'bsmtfintype2', 'heating',\n",
       "                    'heatingqc', 'centralair', 'electrical', 'functional',\n",
       "                    'fireplacequ', ...])"
      ]
     },
     "execution_count": 74,
     "metadata": {},
     "output_type": "execute_result"
    }
   ],
   "source": [
    "target_enc = ce.TargetEncoder(cols=cat_feats)\n",
    "target_enc.fit(train[cat_feats] , train[target])"
   ]
  },
  {
   "cell_type": "code",
   "execution_count": 75,
   "metadata": {
    "ExecuteTime": {
     "end_time": "2020-07-04T15:26:44.614688Z",
     "start_time": "2020-07-04T15:26:44.445029Z"
    },
    "code_folding": []
   },
   "outputs": [],
   "source": [
    "# Transform the features, \n",
    "# rename the columns with _target suffix, and join to dataframe\n",
    "# also remove old categ vars\n",
    "train_te = train.join(target_enc.transform(train[cat_feats]).add_suffix('_target')).drop(columns=cat_feats)\n",
    "test_te = test.join(target_enc.transform(test[cat_feats]).add_suffix('_target')).drop(columns=cat_feats)"
   ]
  },
  {
   "cell_type": "code",
   "execution_count": 76,
   "metadata": {
    "ExecuteTime": {
     "end_time": "2020-07-04T15:26:44.621556Z",
     "start_time": "2020-07-04T15:26:44.616576Z"
    }
   },
   "outputs": [],
   "source": [
    "features = train_te.columns.drop([target, 'id'])\n",
    "# print(features)"
   ]
  },
  {
   "cell_type": "code",
   "execution_count": 77,
   "metadata": {
    "ExecuteTime": {
     "end_time": "2020-07-04T15:26:44.628537Z",
     "start_time": "2020-07-04T15:26:44.623551Z"
    }
   },
   "outputs": [
    {
     "name": "stdout",
     "output_type": "stream",
     "text": [
      "['mssubclass', 'lotfrontage', 'lotarea', 'overallqual', 'overallcond', 'yearbuilt', 'yearremodadd', 'masvnrarea', 'bsmtfinsf1', 'bsmtfinsf2', 'bsmtunfsf', 'totalbsmtsf', '1stflrsf', '2ndflrsf', 'lowqualfinsf', 'grlivarea', 'bsmtfullbath', 'bsmthalfbath', 'fullbath', 'halfbath', 'bedroomabvgr', 'kitchenabvgr', 'totrmsabvgrd', 'fireplaces', 'garageyrblt', 'garagecars', 'garagearea', 'wooddecksf', 'openporchsf', 'enclosedporch', '3ssnporch', 'screenporch', 'poolarea', 'miscval', 'mosold', 'yrsold']\n"
     ]
    }
   ],
   "source": [
    "print(num_vars)"
   ]
  },
  {
   "cell_type": "code",
   "execution_count": 78,
   "metadata": {
    "ExecuteTime": {
     "end_time": "2020-07-04T15:26:44.663449Z",
     "start_time": "2020-07-04T15:26:44.630532Z"
    }
   },
   "outputs": [
    {
     "data": {
      "text/html": [
       "<div>\n",
       "<style scoped>\n",
       "    .dataframe tbody tr th:only-of-type {\n",
       "        vertical-align: middle;\n",
       "    }\n",
       "\n",
       "    .dataframe tbody tr th {\n",
       "        vertical-align: top;\n",
       "    }\n",
       "\n",
       "    .dataframe thead th {\n",
       "        text-align: right;\n",
       "    }\n",
       "</style>\n",
       "<table border=\"1\" class=\"dataframe\">\n",
       "  <thead>\n",
       "    <tr style=\"text-align: right;\">\n",
       "      <th></th>\n",
       "      <th>column</th>\n",
       "      <th>na_count</th>\n",
       "    </tr>\n",
       "  </thead>\n",
       "  <tbody>\n",
       "  </tbody>\n",
       "</table>\n",
       "</div>"
      ],
      "text/plain": [
       "Empty DataFrame\n",
       "Columns: [column, na_count]\n",
       "Index: []"
      ]
     },
     "execution_count": 78,
     "metadata": {},
     "output_type": "execute_result"
    }
   ],
   "source": [
    "check_na(train_te)"
   ]
  },
  {
   "cell_type": "code",
   "execution_count": 79,
   "metadata": {
    "ExecuteTime": {
     "end_time": "2020-07-04T15:26:46.397063Z",
     "start_time": "2020-07-04T15:26:44.666436Z"
    },
    "scrolled": true
   },
   "outputs": [
    {
     "data": {
      "text/plain": [
       "0.9814"
      ]
     },
     "execution_count": 79,
     "metadata": {},
     "output_type": "execute_result"
    }
   ],
   "source": [
    "base_rf = RandomForestRegressor()\n",
    "\n",
    "base_rf.fit(train_te[features], train_te[target])\n",
    "round(base_rf.score(train_te[features], train_te[target]), 4)"
   ]
  },
  {
   "cell_type": "code",
   "execution_count": 80,
   "metadata": {
    "ExecuteTime": {
     "end_time": "2020-07-04T15:26:46.449471Z",
     "start_time": "2020-07-04T15:26:46.399048Z"
    }
   },
   "outputs": [],
   "source": [
    "y_pred = base_rf.predict(test_te[features])\n",
    "make_output(y_pred).to_csv(os.path.join(out_dir, 'rf_res_te.csv') , index=False)"
   ]
  },
  {
   "cell_type": "markdown",
   "metadata": {},
   "source": [
    "## Encode by other statistics of target (Experiment)"
   ]
  },
  {
   "cell_type": "code",
   "execution_count": 81,
   "metadata": {
    "ExecuteTime": {
     "end_time": "2020-07-04T15:26:46.455424Z",
     "start_time": "2020-07-04T15:26:46.450439Z"
    }
   },
   "outputs": [],
   "source": [
    "def flatten_columns(data):\n",
    "    data.columns = ['_'.join(reversed(list(col))) for col in data.columns.values]\n",
    "    return data"
   ]
  },
  {
   "cell_type": "code",
   "execution_count": 82,
   "metadata": {
    "ExecuteTime": {
     "end_time": "2020-07-04T15:26:46.474153Z",
     "start_time": "2020-07-04T15:26:46.457422Z"
    }
   },
   "outputs": [
    {
     "data": {
      "text/html": [
       "<div>\n",
       "<style scoped>\n",
       "    .dataframe tbody tr th:only-of-type {\n",
       "        vertical-align: middle;\n",
       "    }\n",
       "\n",
       "    .dataframe tbody tr th {\n",
       "        vertical-align: top;\n",
       "    }\n",
       "\n",
       "    .dataframe thead th {\n",
       "        text-align: right;\n",
       "    }\n",
       "</style>\n",
       "<table border=\"1\" class=\"dataframe\">\n",
       "  <thead>\n",
       "    <tr style=\"text-align: right;\">\n",
       "      <th></th>\n",
       "      <th>neighborhood</th>\n",
       "      <th>std_saleprice_by_neighborhood</th>\n",
       "    </tr>\n",
       "  </thead>\n",
       "  <tbody>\n",
       "    <tr>\n",
       "      <th>0</th>\n",
       "      <td>Blmngtn</td>\n",
       "      <td>30393.229219</td>\n",
       "    </tr>\n",
       "    <tr>\n",
       "      <th>1</th>\n",
       "      <td>Blueste</td>\n",
       "      <td>19091.883092</td>\n",
       "    </tr>\n",
       "    <tr>\n",
       "      <th>2</th>\n",
       "      <td>BrDale</td>\n",
       "      <td>14330.176493</td>\n",
       "    </tr>\n",
       "    <tr>\n",
       "      <th>3</th>\n",
       "      <td>BrkSide</td>\n",
       "      <td>40348.689270</td>\n",
       "    </tr>\n",
       "    <tr>\n",
       "      <th>4</th>\n",
       "      <td>ClearCr</td>\n",
       "      <td>50231.538993</td>\n",
       "    </tr>\n",
       "  </tbody>\n",
       "</table>\n",
       "</div>"
      ],
      "text/plain": [
       "  neighborhood  std_saleprice_by_neighborhood\n",
       "0      Blmngtn                   30393.229219\n",
       "1      Blueste                   19091.883092\n",
       "2       BrDale                   14330.176493\n",
       "3      BrkSide                   40348.689270\n",
       "4      ClearCr                   50231.538993"
      ]
     },
     "execution_count": 82,
     "metadata": {},
     "output_type": "execute_result"
    }
   ],
   "source": [
    "# try neighborhood\n",
    "nbh_stats = flatten_columns(train.groupby('neighborhood').agg({target: [  np.std]})).\\\n",
    "    add_suffix('_by_neighborhood').reset_index()\n",
    "nbh_stats.head()"
   ]
  },
  {
   "cell_type": "code",
   "execution_count": 83,
   "metadata": {
    "ExecuteTime": {
     "end_time": "2020-07-04T15:26:46.948212Z",
     "start_time": "2020-07-04T15:26:46.476148Z"
    }
   },
   "outputs": [
    {
     "data": {
      "text/plain": [
       "TargetEncoder(cols=['mszoning', 'street', 'alley', 'lotshape', 'landcontour',\n",
       "                    'utilities', 'lotconfig', 'landslope', 'neighborhood',\n",
       "                    'condition1', 'condition2', 'bldgtype', 'housestyle',\n",
       "                    'roofstyle', 'roofmatl', 'exterior1st', 'exterior2nd',\n",
       "                    'masvnrtype', 'extercond', 'foundation', 'bsmtcond',\n",
       "                    'bsmtexposure', 'bsmtfintype1', 'bsmtfintype2', 'heating',\n",
       "                    'heatingqc', 'centralair', 'electrical', 'functional',\n",
       "                    'fireplacequ', ...])"
      ]
     },
     "execution_count": 83,
     "metadata": {},
     "output_type": "execute_result"
    }
   ],
   "source": [
    "target_enc = ce.TargetEncoder(cols=cat_feats)\n",
    "target_enc.fit(train[cat_feats] , train[target])\n",
    "# target_enc.transform(train[cat_feats]).head()"
   ]
  },
  {
   "cell_type": "code",
   "execution_count": 84,
   "metadata": {
    "ExecuteTime": {
     "end_time": "2020-07-04T15:26:47.127879Z",
     "start_time": "2020-07-04T15:26:46.950210Z"
    },
    "code_folding": []
   },
   "outputs": [],
   "source": [
    "# Transform the features, \n",
    "# rename the columns with _target suffix, and join to dataframe\n",
    "# also remove old categ vars\n",
    "train_te = train.join(target_enc.transform(train[cat_feats]).add_suffix('_target'))\n",
    "test_te = test.join(target_enc.transform(test[cat_feats]).add_suffix('_target'))\n",
    "\n",
    "# add variance of price per nbh\n",
    "train_te = train_te.merge(nbh_stats)\n",
    "test_te = test_te.merge(nbh_stats)\n",
    "# print(len(train_te))\n",
    "# print(len(test_te))\n",
    "\n",
    "train_te = train_te.drop(columns=cat_feats)\n",
    "test_te = test_te.drop(columns=cat_feats)"
   ]
  },
  {
   "cell_type": "code",
   "execution_count": 85,
   "metadata": {
    "ExecuteTime": {
     "end_time": "2020-07-04T15:26:47.132843Z",
     "start_time": "2020-07-04T15:26:47.128854Z"
    }
   },
   "outputs": [],
   "source": [
    "# TODO: try integrating info of std via confidence interval\n",
    "# train_te['conf_']"
   ]
  },
  {
   "cell_type": "code",
   "execution_count": 87,
   "metadata": {
    "ExecuteTime": {
     "end_time": "2020-07-04T15:29:14.903138Z",
     "start_time": "2020-07-04T15:29:14.899653Z"
    },
    "collapsed": true
   },
   "outputs": [
    {
     "name": "stdout",
     "output_type": "stream",
     "text": [
      "['mssubclass', 'lotfrontage', 'lotarea', 'overallqual', 'overallcond', 'yearbuilt', 'yearremodadd', 'masvnrarea', 'exterqual', 'bsmtqual', 'bsmtfinsf1', 'bsmtfinsf2', 'bsmtunfsf', 'totalbsmtsf', '1stflrsf', '2ndflrsf', 'lowqualfinsf', 'grlivarea', 'bsmtfullbath', 'bsmthalfbath', 'fullbath', 'halfbath', 'bedroomabvgr', 'kitchenabvgr', 'kitchenqual', 'totrmsabvgrd', 'fireplaces', 'garageyrblt', 'garagecars', 'garagearea', 'wooddecksf', 'openporchsf', 'enclosedporch', '3ssnporch', 'screenporch', 'poolarea', 'miscval', 'mosold', 'yrsold', 'mszoning_target', 'street_target', 'alley_target', 'lotshape_target', 'landcontour_target', 'utilities_target', 'lotconfig_target', 'landslope_target', 'neighborhood_target', 'condition1_target', 'condition2_target', 'bldgtype_target', 'housestyle_target', 'roofstyle_target', 'roofmatl_target', 'exterior1st_target', 'exterior2nd_target', 'masvnrtype_target', 'extercond_target', 'foundation_target', 'bsmtcond_target', 'bsmtexposure_target', 'bsmtfintype1_target', 'bsmtfintype2_target', 'heating_target', 'heatingqc_target', 'centralair_target', 'electrical_target', 'functional_target', 'fireplacequ_target', 'garagetype_target', 'garagefinish_target', 'garagequal_target', 'garagecond_target', 'paveddrive_target', 'poolqc_target', 'fence_target', 'miscfeature_target', 'saletype_target', 'salecondition_target', 'zone_type_target', 'adjacency_target', 'std_saleprice_by_neighborhood']\n"
     ]
    }
   ],
   "source": [
    "features = train_te.columns.drop([target, 'id'])\n",
    "print(list(features))"
   ]
  },
  {
   "cell_type": "code",
   "execution_count": 89,
   "metadata": {
    "ExecuteTime": {
     "end_time": "2020-07-04T15:29:16.798995Z",
     "start_time": "2020-07-04T15:29:15.016565Z"
    }
   },
   "outputs": [
    {
     "data": {
      "text/plain": [
       "0.9812"
      ]
     },
     "execution_count": 89,
     "metadata": {},
     "output_type": "execute_result"
    }
   ],
   "source": [
    "base_rf = RandomForestRegressor()\n",
    "\n",
    "base_rf.fit(train_te[features], train_te[target])\n",
    "round(base_rf.score(train_te[features], train_te[target]), 4)"
   ]
  },
  {
   "cell_type": "code",
   "execution_count": 90,
   "metadata": {
    "ExecuteTime": {
     "end_time": "2020-07-04T15:29:16.845142Z",
     "start_time": "2020-07-04T15:29:16.800991Z"
    }
   },
   "outputs": [],
   "source": [
    "y_pred = base_rf.predict(test_te[features])\n",
    "make_output(y_pred).to_csv(os.path.join(out_dir, 'rf_res_te2.csv') , index=False)"
   ]
  },
  {
   "cell_type": "markdown",
   "metadata": {},
   "source": [
    "## CatBoost encoding"
   ]
  },
  {
   "cell_type": "code",
   "execution_count": 91,
   "metadata": {
    "ExecuteTime": {
     "end_time": "2020-07-04T15:30:05.853531Z",
     "start_time": "2020-07-04T15:30:05.306962Z"
    }
   },
   "outputs": [
    {
     "data": {
      "text/plain": [
       "CatBoostEncoder(cols=['mszoning', 'street', 'alley', 'lotshape', 'landcontour',\n",
       "                      'utilities', 'lotconfig', 'landslope', 'neighborhood',\n",
       "                      'condition1', 'condition2', 'bldgtype', 'housestyle',\n",
       "                      'roofstyle', 'roofmatl', 'exterior1st', 'exterior2nd',\n",
       "                      'masvnrtype', 'extercond', 'foundation', 'bsmtcond',\n",
       "                      'bsmtexposure', 'bsmtfintype1', 'bsmtfintype2', 'heating',\n",
       "                      'heatingqc', 'centralair', 'electrical', 'functional',\n",
       "                      'fireplacequ', ...])"
      ]
     },
     "execution_count": 91,
     "metadata": {},
     "output_type": "execute_result"
    }
   ],
   "source": [
    "cbe = ce.CatBoostEncoder(cols=cat_feats)\n",
    "\n",
    "cbe.fit(train[cat_feats], train[target])"
   ]
  },
  {
   "cell_type": "code",
   "execution_count": 92,
   "metadata": {
    "ExecuteTime": {
     "end_time": "2020-07-04T15:30:05.859629Z",
     "start_time": "2020-07-04T15:30:05.855525Z"
    }
   },
   "outputs": [],
   "source": [
    "# cbe.transform(train[cat_feats]).add_suffix('_cb').head()"
   ]
  },
  {
   "cell_type": "code",
   "execution_count": 93,
   "metadata": {
    "ExecuteTime": {
     "end_time": "2020-07-04T15:30:06.387674Z",
     "start_time": "2020-07-04T15:30:05.861510Z"
    }
   },
   "outputs": [],
   "source": [
    "train_cb = train.join(cbe.transform(train[cat_feats]).add_suffix('_cb')).drop(columns=cat_feats)\n",
    "test_cb = test.join(cbe.transform(test[cat_feats]).add_suffix('_cb')).drop(columns=cat_feats)"
   ]
  },
  {
   "cell_type": "code",
   "execution_count": 94,
   "metadata": {
    "ExecuteTime": {
     "end_time": "2020-07-04T15:30:06.444441Z",
     "start_time": "2020-07-04T15:30:06.387674Z"
    }
   },
   "outputs": [],
   "source": [
    "num_feats = list_numeric_columns(train_cb)\n",
    "train_cb[num_feats] = train_cb[num_feats].fillna(train_cb[num_feats].mean())\n",
    "test_cb[num_feats] = test_cb[num_feats].fillna(test_cb[num_feats].mean())"
   ]
  },
  {
   "cell_type": "code",
   "execution_count": 95,
   "metadata": {
    "ExecuteTime": {
     "end_time": "2020-07-04T15:30:06.450394Z",
     "start_time": "2020-07-04T15:30:06.445425Z"
    },
    "collapsed": true
   },
   "outputs": [
    {
     "name": "stdout",
     "output_type": "stream",
     "text": [
      "Index(['mssubclass', 'lotfrontage', 'lotarea', 'overallqual', 'overallcond',\n",
      "       'yearbuilt', 'yearremodadd', 'masvnrarea', 'exterqual', 'bsmtqual',\n",
      "       'bsmtfinsf1', 'bsmtfinsf2', 'bsmtunfsf', 'totalbsmtsf', '1stflrsf',\n",
      "       '2ndflrsf', 'lowqualfinsf', 'grlivarea', 'bsmtfullbath', 'bsmthalfbath',\n",
      "       'fullbath', 'halfbath', 'bedroomabvgr', 'kitchenabvgr', 'kitchenqual',\n",
      "       'totrmsabvgrd', 'fireplaces', 'garageyrblt', 'garagecars', 'garagearea',\n",
      "       'wooddecksf', 'openporchsf', 'enclosedporch', '3ssnporch',\n",
      "       'screenporch', 'poolarea', 'miscval', 'mosold', 'yrsold', 'mszoning_cb',\n",
      "       'street_cb', 'alley_cb', 'lotshape_cb', 'landcontour_cb',\n",
      "       'utilities_cb', 'lotconfig_cb', 'landslope_cb', 'neighborhood_cb',\n",
      "       'condition1_cb', 'condition2_cb', 'bldgtype_cb', 'housestyle_cb',\n",
      "       'roofstyle_cb', 'roofmatl_cb', 'exterior1st_cb', 'exterior2nd_cb',\n",
      "       'masvnrtype_cb', 'extercond_cb', 'foundation_cb', 'bsmtcond_cb',\n",
      "       'bsmtexposure_cb', 'bsmtfintype1_cb', 'bsmtfintype2_cb', 'heating_cb',\n",
      "       'heatingqc_cb', 'centralair_cb', 'electrical_cb', 'functional_cb',\n",
      "       'fireplacequ_cb', 'garagetype_cb', 'garagefinish_cb', 'garagequal_cb',\n",
      "       'garagecond_cb', 'paveddrive_cb', 'poolqc_cb', 'fence_cb',\n",
      "       'miscfeature_cb', 'saletype_cb', 'salecondition_cb', 'zone_type_cb',\n",
      "       'adjacency_cb'],\n",
      "      dtype='object')\n"
     ]
    }
   ],
   "source": [
    "features = train_cb.columns.drop([target, 'id'])\n",
    "print(features)"
   ]
  },
  {
   "cell_type": "code",
   "execution_count": 96,
   "metadata": {
    "ExecuteTime": {
     "end_time": "2020-07-04T15:30:08.262617Z",
     "start_time": "2020-07-04T15:30:06.451391Z"
    },
    "scrolled": false
   },
   "outputs": [
    {
     "data": {
      "text/plain": [
       "0.9806"
      ]
     },
     "execution_count": 96,
     "metadata": {},
     "output_type": "execute_result"
    }
   ],
   "source": [
    "base_rf.fit(train_cb[features], train_cb[target])\n",
    "round(base_rf.score(train_cb[features], train_cb[target]), 4)"
   ]
  },
  {
   "cell_type": "code",
   "execution_count": 97,
   "metadata": {
    "ExecuteTime": {
     "end_time": "2020-07-04T15:30:08.310471Z",
     "start_time": "2020-07-04T15:30:08.264595Z"
    }
   },
   "outputs": [],
   "source": [
    "y_pred = base_rf.predict(test_cb[features])\n",
    "make_output(y_pred).to_csv(os.path.join(out_dir, 'rf_res_cb.csv') , index=False)"
   ]
  },
  {
   "cell_type": "markdown",
   "metadata": {},
   "source": [
    "CatBoost encoding gives similar result."
   ]
  },
  {
   "cell_type": "markdown",
   "metadata": {},
   "source": [
    "# Feature generation \n",
    "(to be moved to another notebook)\n",
    "\n",
    "How to generate features _useful for prediction_, esp. house price?\n",
    "\n",
    "Ideas:\n",
    "+ diff from avg: features signaling how much a house diff from an avg house in same neighborhood\n",
    "+ features revealing benefit: features for quality (avail), close to school (no data), close to park (avail)\n",
    "+ feature revealing cost: need renovation (as no reno yet), renovate cost? "
   ]
  },
  {
   "cell_type": "markdown",
   "metadata": {},
   "source": [
    "How about feature interaction?"
   ]
  },
  {
   "cell_type": "code",
   "execution_count": null,
   "metadata": {},
   "outputs": [],
   "source": []
  },
  {
   "cell_type": "code",
   "execution_count": null,
   "metadata": {},
   "outputs": [],
   "source": []
  }
 ],
 "metadata": {
  "kernelspec": {
   "display_name": "Python 3",
   "language": "python",
   "name": "python3"
  },
  "language_info": {
   "codemirror_mode": {
    "name": "ipython",
    "version": 3
   },
   "file_extension": ".py",
   "mimetype": "text/x-python",
   "name": "python",
   "nbconvert_exporter": "python",
   "pygments_lexer": "ipython3",
   "version": "3.7.7"
  },
  "toc": {
   "base_numbering": 1,
   "nav_menu": {},
   "number_sections": true,
   "sideBar": true,
   "skip_h1_title": false,
   "title_cell": "Table of Contents",
   "title_sidebar": "Contents",
   "toc_cell": false,
   "toc_position": {
    "height": "calc(100% - 180px)",
    "left": "10px",
    "top": "150px",
    "width": "165px"
   },
   "toc_section_display": true,
   "toc_window_display": true
  }
 },
 "nbformat": 4,
 "nbformat_minor": 4
}
